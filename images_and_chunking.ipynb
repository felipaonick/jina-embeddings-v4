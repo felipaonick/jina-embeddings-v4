{
 "cells": [
  {
   "cell_type": "markdown",
   "id": "0c7c1f28",
   "metadata": {},
   "source": [
    "# Pdf to Markdown, get images and chunking"
   ]
  },
  {
   "cell_type": "code",
   "execution_count": 1,
   "id": "841280bf",
   "metadata": {},
   "outputs": [
    {
     "name": "stdout",
     "output_type": "stream",
     "text": [
      "Processing 414759-1-_5_Nike-NPS-Combo_Form-10-K_WR.pdf...\n",
      "[                                        ] (0/10[                                        ] (  1/10[                                        ] (  2/106[=                                       ] (  3/106[=                                       ] (  4/1[=                                       ] (  5/10[==                                      ] (  6/10[==                                      ] (  7/106[===                                     ] (  8/106[===                                     ] (  9/1[===                                     ] ( 10/10[====                                    ] ( 11/10[====                                    ] ( 12/10[====                                    ] ( 13/106[=====                                   ] ( 14/1[=====                                   ] ( 15/10[======                                  ] ( 16/10[======                                  ] ( 17/10[======                                  ] ( 18/106[=======                                 ] ( 19/1[=======                                 ] ( 20/1[=======                                 ] ( 21/10[========                                ] ( 22/10[========                                ] ( 23/106[=========                               ] ( 24/1[=========                               ] ( 25/1[=========                               ] ( 26/10[==========                              ] ( 27/10[==========                              ] ( 28/10[==========                              ] ( 29/106[===========                             ] ( 30/1[===========                             ] ( 31/10[============                            ] ( 32/10[============                            ] ( 33/10[============                            ] ( 34/106[=============                           ] ( 35/106[=============                           ] ( 36/1[=============                           ] ( 37/10[==============                          ] ( 38/10[==============                          ] ( 39/106[===============                         ] ( 40/1[===============                         ] ( 41/1[===============                         ] ( 42/10[================                        ] ( 43/10[================                        ] ( 44/10[================                        ] ( 45/106[=================                       ] ( 46/1[=================                       ] ( 47/10[==================                      ] ( 48/10[==================                      ] ( 49/10[==================                      ] ( 50/106[===================                     ] ( 51/1[===================                     ] ( 52/10[====================                    ] ( 53/10[====================                    ] ( 54/10[====================                    ] ( 55/106[=====================                   ] ( 56/1[=====================                   ] ( 57/1[=====================                   ] ( 58/10[======================                  ] ( 59/10[======================                  ] ( 60/106[=======================                 ] ( 61/1[=======================                 ] ( 62/1[=======================                 ] ( 63/10[========================                ] ( 64/10[========================                ] ( 65/10[========================                ] ( 66/106[=========================               ] ( 67/1[=========================               ] ( 68/10[==========================              ] ( 69/10[==========================              ] ( 70/10[==========================              ] ( 71/106[===========================             ] ( 72/1[===========================             ] ( 73/1[===========================             ] ( 74/10[============================            ] ( 75/10[============================            ] ( 76/106[=============================           ] ( 77/1[=============================           ] ( 78/106[=============================           ] ( 79/10[==============================          ] ( 80/10[==============================          ] ( 81/10[==============================          ] ( 82/106[===============================         ] ( 83/1[===============================         ] ( 84/10[================================        ] ( 85/10[================================        ] ( 86/10[================================        ] ( 87/106[=================================       ] ( 88/1[=================================       ] ( 89/106[=================================       ] ( 90/10[==================================      ] ( 91/10[==================================      ] ( 92/106[===================================     ] ( 93/1[===================================     ] ( 94/106[===================================     ] ( 95/10[====================================    ] ( 96/10[====================================    ] ( 97/10[====================================    ] ( 98/106[=====================================   ] ( 99/106[=====================================   ] (100/10[======================================  ] (101/10[======================================  ] (102/10[======================================  ] (103/106[======================================= ] (104/106[======================================= ] (105/10[========================================] (106/106]\n",
      "Number of pages: 106\n",
      "First page content:\n",
      "{'metadata': {'format': 'PDF 1.7', 'title': 'Nike 2023 Proxy', 'author': 'anonymous', 'subject': '', 'keywords': '', 'creator': 'Workiva', 'producer': 'Wdesk Fidelity Content Translations Version 008.001.016', 'creationDate': 'D:20230720220922Z', 'modDate': \"D:20230726151352+08'00'\", 'trapped': '', 'encryption': None, 'file_path': '414759-1-_5_Nike-NPS-Combo_Form-10-K_WR.pdf', 'page_count': 106, 'page': 1}, 'toc_items': [[1, '2023 Form 10-K', 1]], 'tables': [], 'images': [], 'graphics': [], 'text': '## **FORM 10-K**\\n\\n\\n', 'words': []}\n"
     ]
    }
   ],
   "source": [
    "import pymupdf4llm, pymupdf\n",
    "\n",
    "filename = \"414759-1-_5_Nike-NPS-Combo_Form-10-K_WR.pdf\"\n",
    "doc = pymupdf.open(filename)  # use a Document for subsequent processing\n",
    "\n",
    "page_dicts = pymupdf4llm.to_markdown(\n",
    "    doc,\n",
    "    write_images=True,\n",
    "    page_chunks=True,\n",
    "    image_path=\"img_out\",\n",
    "    image_format=\"png\",\n",
    "    show_progress=True,\n",
    ")\n",
    "\n",
    "print(f\"Number of pages: {len(page_dicts)}\")\n",
    "print(f\"First page content:\\n{page_dicts[0]}\")  # Print first 500 characters of the first page"
   ]
  },
  {
   "cell_type": "code",
   "execution_count": 2,
   "id": "60bd9a97",
   "metadata": {},
   "outputs": [
    {
     "name": "stdout",
     "output_type": "stream",
     "text": [
      "First page content:\n",
      "7\n"
     ]
    }
   ],
   "source": [
    "print(f\"First page content:\\n{len(page_dicts[11]['images'])}\")"
   ]
  },
  {
   "cell_type": "code",
   "execution_count": 3,
   "id": "7049e527",
   "metadata": {},
   "outputs": [
    {
     "name": "stdout",
     "output_type": "stream",
     "text": [
      "First page content:\n",
      "12\n"
     ]
    }
   ],
   "source": [
    "print(f\"First page content:\\n{page_dicts[11]['metadata']['page']}\")"
   ]
  },
  {
   "cell_type": "code",
   "execution_count": 4,
   "id": "d7a7fbd9",
   "metadata": {},
   "outputs": [
    {
     "name": "stdout",
     "output_type": "stream",
     "text": [
      "page image path: 7\n"
     ]
    }
   ],
   "source": [
    "print(f\"page image path: {len(page_dicts[11]['images'])}\")  # Print the first image path"
   ]
  },
  {
   "cell_type": "code",
   "execution_count": 5,
   "id": "eb91cacb",
   "metadata": {},
   "outputs": [
    {
     "name": "stdout",
     "output_type": "stream",
     "text": [
      "Image number: 10\n",
      "Image number: 6\n",
      "Image number: 14\n",
      "Image number: 12\n",
      "Image number: 2\n",
      "Image number: 4\n",
      "Image number: 8\n"
     ]
    }
   ],
   "source": [
    "for img in page_dicts[11][\"images\"]:\n",
    "    img_number = img[\"number\"]\n",
    "    print(f\"Image number: {img_number}\")"
   ]
  },
  {
   "cell_type": "code",
   "execution_count": 6,
   "id": "25165a03",
   "metadata": {},
   "outputs": [
    {
     "name": "stdout",
     "output_type": "stream",
     "text": [
      "#### **INFORMATION ABOUT OUR EXECUTIVE OFFICERS**\n",
      "\n",
      "The executive officers of NIKE, Inc. as of July 20, 2023, are as follows:\n",
      "\n",
      "\n",
      "_**Mark G. Parker**_, Executive Chairman — Mr. Parker, 67, is Executive Chairman of the Board of Directors\n",
      "and served as President and Chief Executive Officer from 2006 - January 2020. He has been employed\n",
      "by NIKE since 1979 with primary responsibilities in product research, design and development,\n",
      "marketing and brand management. Mr. Parker was appointed divisional Vice President in charge of\n",
      "product development in 1987, corporate Vice President in 1989, General Manager in 1993, Vice\n",
      "President of Global Footwear in 1998 and President of the NIKE Brand in 2001.\n",
      "\n",
      "\n",
      "_**John J. Donahoe II**_, President and Chief Executive Officer — Mr. Donahoe, 63, was appointed\n",
      "President and Chief Executive Officer in January 2020 and has been a director since 2014. He brings\n",
      "expertise in digital commerce, technology and global strategy. He previously served as President and\n",
      "Chief Executive Officer at ServiceNow, Inc. Prior to joining ServiceNow, Inc., he served as President and\n",
      "Chief Executive Officer of eBay, Inc. He also held leadership roles at Bain & Company for two decades.\n",
      "\n",
      "\n",
      "_**Matthew Friend**_, Executive Vice President and Chief Financial Officer — Mr. Friend, 45, joined NIKE in\n",
      "2009 and leads the Company's finance, demand & supply management, procurement and global places\n",
      "& services organizations. He joined NIKE as Senior Director of Corporate Strategy and Development,\n",
      "and was appointed Chief Financial Officer of Emerging Markets in 2011. In 2014, Mr. Friend was\n",
      "appointed Chief Financial Officer of Global Categories, Product and Functions, and was subsequently\n",
      "appointed Chief Financial Officer of the NIKE Brand in 2016. He was also appointed Vice President of\n",
      "Investor Relations in 2019. Mr. Friend was appointed as Executive Vice President and Chief Financial\n",
      "Officer of NIKE, Inc. in April 2020. Prior to joining NIKE, he worked in the financial industry including\n",
      "roles as VP of investment banking and mergers and acquisitions at Goldman Sachs and Morgan\n",
      "Stanley.\n",
      "\n",
      "\n",
      "_**Monique S. Matheson**_, Executive Vice President, Chief Human Resources Officer — Ms. Matheson,\n",
      "56, joined NIKE in 1998, with primary responsibilities in the human resources function. She was\n",
      "appointed as Vice President and Senior Business Partner in 2011 and Vice President, Chief Talent and\n",
      "Diversity Officer in 2012. Ms. Matheson was appointed Executive Vice President, Global Human\n",
      "Resources in 2017.\n",
      "\n",
      "\n",
      "_**Ann M. Miller**_, Executive Vice President, Chief Legal Officer — Ms. Miller, 49, joined NIKE in 2007 and\n",
      "serves as EVP, Chief Legal Officer for NIKE, Inc. In her capacity as Chief Legal Officer, she oversees all\n",
      "legal, compliance, government & public affairs, social community impact, security, resilience and\n",
      "investigation matters of the Company. For the past six years, she served as Vice President, Corporate\n",
      "Secretary and Chief Ethics & Compliance Officer. She previously served as Converse's General\n",
      "Counsel, and brings more than 20 years of legal and business expertise to her role. Prior to joining\n",
      "NIKE, Ms. Miller worked at the law firm Sullivan & Cromwell.\n",
      "\n",
      "\n",
      "_**Heidi O'Neill**_, President, Consumer, Brand & Product — Ms. O'Neill, 58, joined NIKE in 1998 and leads\n",
      "the integration of global Men's, Women's & Kids' consumer teams, the entire global product engine and\n",
      "global brand marketing and sports marketing to build deep storytelling, relationships and engagement\n",
      "with the brand. Since joining NIKE, she has held a variety of key roles, including leading NIKE's\n",
      "marketplace and four geographic operating regions, leading NIKE Direct and accelerating NIKE's retail\n",
      "and digital-commerce business and creating and leading NIKE's Women’s business. Prior to NIKE, Ms.\n",
      "O'Neill held roles at Levi Strauss & Company and Foote, Cone & Belding.\n",
      "\n",
      "\n",
      "_**Craig Williams**_, President, Geographies & Marketplace — Mr. Williams, 54, joined NIKE in 2019 and\n",
      "leads NIKE's four geographies and marketplace across the NIKE Direct and wholesale business. In\n",
      "addition, he leads the Supply Chain and Logistics organization. Mr. Williams joined NIKE as President of\n",
      "Jordan Brand overseeing a team of designers, product developers, marketers and business leaders.\n",
      "Prior to NIKE, he was Senior Vice President, The Coca-Cola Co., and President of The McDonald's\n",
      "Division (TMD) Worldwide. Mr. Williams has also held roles at CIBA Vision and Kraft Foods Inc., and\n",
      "served five years in the U.S. Navy as a Naval Nuclear Power Officer.\n",
      "\n",
      "![](img_out/414759-1-_5_Nike-NPS-Combo_Form-10-K_WR.pdf-11-0.png)\n",
      "\n",
      "![](img_out/414759-1-_5_Nike-NPS-Combo_Form-10-K_WR.pdf-11-1.png)\n",
      "\n",
      "![](img_out/414759-1-_5_Nike-NPS-Combo_Form-10-K_WR.pdf-11-2.png)\n",
      "\n",
      "![](img_out/414759-1-_5_Nike-NPS-Combo_Form-10-K_WR.pdf-11-3.png)\n",
      "\n",
      "![](img_out/414759-1-_5_Nike-NPS-Combo_Form-10-K_WR.pdf-11-4.png)\n",
      "\n",
      "![](img_out/414759-1-_5_Nike-NPS-Combo_Form-10-K_WR.pdf-11-5.png)\n",
      "\n",
      "![](img_out/414759-1-_5_Nike-NPS-Combo_Form-10-K_WR.pdf-11-6.png)\n",
      "\n",
      "\n",
      "8 **NIKE, INC.**\n",
      "\n",
      "\n",
      "\n"
     ]
    }
   ],
   "source": [
    "print(page_dicts[11]['text'])  # Print first 500 characters of the page content"
   ]
  },
  {
   "cell_type": "code",
   "execution_count": 7,
   "id": "40a8c0bd",
   "metadata": {},
   "outputs": [
    {
     "name": "stdout",
     "output_type": "stream",
     "text": [
      "The following table includes supplemental information used to calculate the present value of Operating lease liabilities:\n",
      "\n",
      "\n",
      "**AS OF MAY 31,**\n",
      "\n",
      "**2023** **2022**\n",
      "\n",
      "\n",
      "The following table includes supplemental cash and non-cash information related to operating leases:\n",
      "\n",
      "\n",
      "**YEAR ENDED MAY 31,**\n",
      "\n",
      "\n",
      "_(Dollars in millions)_ **2023** **2022** **2021**\n",
      "\n",
      "![](img_out/414759-1-_5_Nike-NPS-Combo_Form-10-K_WR.pdf-92-1.png)\n",
      "\n",
      "#### **NOTE 18 — ACQUISITIONS AND DIVESTITURES**\n",
      "\n",
      "##### **ACQUISITIONS**\n",
      "\n",
      "\n",
      "During fiscal 2023, 2022 and 2021, the Company made multiple acquisitions focused on gaining new capabilities to fuel its\n",
      "Consumer Direct Acceleration strategy, serving consumers personally at a global scale. The impact of acquisitions, individually\n",
      "and in aggregate, was not considered material to the Company's Consolidated Financial Statements.\n",
      "\n",
      "##### **DIVESTITURES**\n",
      "\n",
      "\n",
      "During the fourth quarter of fiscal 2022, the Company entered into separate definitive agreements to sell its entities in Argentina\n",
      "and Uruguay as well as its entity in Chile to third-party distributors.\n",
      "\n",
      "\n",
      "The sale of the Company's entity in Chile to a third-party distributor was completed during the first quarter of fiscal 2023. The\n",
      "impacts from the transaction were not material to the Company's Consolidated Financial Statements.\n",
      "\n",
      "\n",
      "The sale of the Company's entities in Argentina and Uruguay to a third-party distributor was completed during the second quarter\n",
      "of fiscal 2023 and the net loss on the sale of these entities totaled approximately $550 million. This loss included $389 million,\n",
      "recognized primarily in fiscal 2020, largely due to the anticipated release of the cumulative foreign currency translation losses.\n",
      "The remaining loss recognized in fiscal 2023 was due to the devaluation of local currency and cash equivalents included in the\n",
      "transferred assets. Upon completion of the sale, the foreign currency translation losses recorded in Accumulated other\n",
      "comprehensive income (loss) were reclassified to Net income within Other (income) expense, net, on the Company's\n",
      "Consolidated Statements of Comprehensive Income along with the allowance for previously recognized losses recorded in\n",
      "Accrued liabilities. The net loss was classified within Corporate.\n",
      "\n",
      "\n",
      "The net cash proceeds received are reflected within Other investing activities on the Company's Consolidated Statements of\n",
      "Cash Flows.\n",
      "\n",
      "\n",
      "The related assets and liabilities of these entities within the Company's APLA operating segment were classified as held-for-sale\n",
      "on the Consolidated Balance Sheets within Prepaid expenses and other currents and Accrued liabilities, respectively, until the\n",
      "transactions closed. As of May 31, 2022, held-for-sale assets were $182 million and held-for-sale liabilities were $58 million.\n",
      "\n",
      "\n",
      "**OTHER DIVESTITURES**\n",
      "During fiscal 2020, the Company entered into a definitive agreement to sell substantially all of its NIKE Brand operations in Brazil\n",
      "and shift to a distributor operating model. During fiscal 2021, the transaction closed and the Company recognized a loss of\n",
      "approximately $50 million within Other (income) expense, net classified within Corporate, on the Consolidated Statements of\n",
      "Income. Cash proceeds received were reflected within Other investing activities on the Consolidated Statements of Cash Flows.\n",
      "\n",
      "\n",
      "**2023 FORM 10-K** 89\n",
      "\n",
      "\n",
      "\n"
     ]
    }
   ],
   "source": [
    "print(page_dicts[92]['text'])"
   ]
  },
  {
   "cell_type": "code",
   "execution_count": 8,
   "id": "75a81ee2",
   "metadata": {},
   "outputs": [
    {
     "name": "stdout",
     "output_type": "stream",
     "text": [
      "414759-1-_5_Nike-NPS-Combo_Form-10-K_WR.pdf\n",
      "img_out\n"
     ]
    }
   ],
   "source": [
    "from pathlib import Path\n",
    "\n",
    "pdf_fname = Path(filename).name\n",
    "img_folder = Path(\"img_out\")\n",
    "img_ext = \"png\"\n",
    "\n",
    "\n",
    "print(pdf_fname)\n",
    "print(img_folder)"
   ]
  },
  {
   "cell_type": "code",
   "execution_count": 10,
   "id": "fee1ceda",
   "metadata": {},
   "outputs": [
    {
     "name": "stdout",
     "output_type": "stream",
     "text": [
      "Page 12 -> ['img_out/414759-1-_5_Nike-NPS-Combo_Form-10-K_WR.pdf-11-0.png', 'img_out/414759-1-_5_Nike-NPS-Combo_Form-10-K_WR.pdf-11-1.png', 'img_out/414759-1-_5_Nike-NPS-Combo_Form-10-K_WR.pdf-11-2.png', 'img_out/414759-1-_5_Nike-NPS-Combo_Form-10-K_WR.pdf-11-3.png', 'img_out/414759-1-_5_Nike-NPS-Combo_Form-10-K_WR.pdf-11-4.png', 'img_out/414759-1-_5_Nike-NPS-Combo_Form-10-K_WR.pdf-11-5.png', 'img_out/414759-1-_5_Nike-NPS-Combo_Form-10-K_WR.pdf-11-6.png']\n",
      "Page 29 -> ['img_out/414759-1-_5_Nike-NPS-Combo_Form-10-K_WR.pdf-28-0.png']\n",
      "Page 30 -> ['img_out/414759-1-_5_Nike-NPS-Combo_Form-10-K_WR.pdf-29-0.png']\n",
      "Page 33 -> ['img_out/414759-1-_5_Nike-NPS-Combo_Form-10-K_WR.pdf-32-0.png', 'img_out/414759-1-_5_Nike-NPS-Combo_Form-10-K_WR.pdf-32-1.png']\n",
      "Page 34 -> ['img_out/414759-1-_5_Nike-NPS-Combo_Form-10-K_WR.pdf-33-0.png', 'img_out/414759-1-_5_Nike-NPS-Combo_Form-10-K_WR.pdf-33-1.png']\n",
      "Page 35 -> ['img_out/414759-1-_5_Nike-NPS-Combo_Form-10-K_WR.pdf-34-0.png']\n",
      "Page 36 -> ['img_out/414759-1-_5_Nike-NPS-Combo_Form-10-K_WR.pdf-35-0.png']\n",
      "Page 37 -> ['img_out/414759-1-_5_Nike-NPS-Combo_Form-10-K_WR.pdf-36-0.png', 'img_out/414759-1-_5_Nike-NPS-Combo_Form-10-K_WR.pdf-36-1.png', 'img_out/414759-1-_5_Nike-NPS-Combo_Form-10-K_WR.pdf-36-2.png']\n",
      "Page 38 -> ['img_out/414759-1-_5_Nike-NPS-Combo_Form-10-K_WR.pdf-37-0.png', 'img_out/414759-1-_5_Nike-NPS-Combo_Form-10-K_WR.pdf-37-1.png']\n",
      "Page 40 -> ['img_out/414759-1-_5_Nike-NPS-Combo_Form-10-K_WR.pdf-39-0.png', 'img_out/414759-1-_5_Nike-NPS-Combo_Form-10-K_WR.pdf-39-1.png']\n",
      "Page 41 -> ['img_out/414759-1-_5_Nike-NPS-Combo_Form-10-K_WR.pdf-40-0.png']\n",
      "Page 42 -> ['img_out/414759-1-_5_Nike-NPS-Combo_Form-10-K_WR.pdf-41-0.png']\n",
      "Page 43 -> ['img_out/414759-1-_5_Nike-NPS-Combo_Form-10-K_WR.pdf-42-0.png']\n",
      "Page 44 -> ['img_out/414759-1-_5_Nike-NPS-Combo_Form-10-K_WR.pdf-43-0.png']\n",
      "Page 45 -> ['img_out/414759-1-_5_Nike-NPS-Combo_Form-10-K_WR.pdf-44-1.png']\n",
      "Page 59 -> ['img_out/414759-1-_5_Nike-NPS-Combo_Form-10-K_WR.pdf-58-0.png']\n",
      "Page 60 -> ['img_out/414759-1-_5_Nike-NPS-Combo_Form-10-K_WR.pdf-59-0.png']\n",
      "Page 61 -> ['img_out/414759-1-_5_Nike-NPS-Combo_Form-10-K_WR.pdf-60-0.png']\n",
      "Page 62 -> ['img_out/414759-1-_5_Nike-NPS-Combo_Form-10-K_WR.pdf-61-0.png']\n",
      "Page 63 -> ['img_out/414759-1-_5_Nike-NPS-Combo_Form-10-K_WR.pdf-62-0.png']\n",
      "Page 71 -> ['img_out/414759-1-_5_Nike-NPS-Combo_Form-10-K_WR.pdf-70-0.png', 'img_out/414759-1-_5_Nike-NPS-Combo_Form-10-K_WR.pdf-70-1.png']\n",
      "Page 72 -> ['img_out/414759-1-_5_Nike-NPS-Combo_Form-10-K_WR.pdf-71-0.png']\n",
      "Page 75 -> ['img_out/414759-1-_5_Nike-NPS-Combo_Form-10-K_WR.pdf-74-0.png']\n",
      "Page 76 -> ['img_out/414759-1-_5_Nike-NPS-Combo_Form-10-K_WR.pdf-75-0.png', 'img_out/414759-1-_5_Nike-NPS-Combo_Form-10-K_WR.pdf-75-1.png', 'img_out/414759-1-_5_Nike-NPS-Combo_Form-10-K_WR.pdf-75-2.png']\n",
      "Page 77 -> ['img_out/414759-1-_5_Nike-NPS-Combo_Form-10-K_WR.pdf-76-0.png', 'img_out/414759-1-_5_Nike-NPS-Combo_Form-10-K_WR.pdf-76-1.png']\n",
      "Page 79 -> ['img_out/414759-1-_5_Nike-NPS-Combo_Form-10-K_WR.pdf-78-0.png', 'img_out/414759-1-_5_Nike-NPS-Combo_Form-10-K_WR.pdf-78-1.png']\n",
      "Page 80 -> ['img_out/414759-1-_5_Nike-NPS-Combo_Form-10-K_WR.pdf-79-0.png', 'img_out/414759-1-_5_Nike-NPS-Combo_Form-10-K_WR.pdf-79-1.png']\n",
      "Page 81 -> ['img_out/414759-1-_5_Nike-NPS-Combo_Form-10-K_WR.pdf-80-0.png']\n",
      "Page 82 -> ['img_out/414759-1-_5_Nike-NPS-Combo_Form-10-K_WR.pdf-81-0.png', 'img_out/414759-1-_5_Nike-NPS-Combo_Form-10-K_WR.pdf-81-1.png', 'img_out/414759-1-_5_Nike-NPS-Combo_Form-10-K_WR.pdf-81-2.png']\n",
      "Page 83 -> ['img_out/414759-1-_5_Nike-NPS-Combo_Form-10-K_WR.pdf-82-0.png']\n",
      "Page 85 -> ['img_out/414759-1-_5_Nike-NPS-Combo_Form-10-K_WR.pdf-84-0.png']\n",
      "Page 86 -> ['img_out/414759-1-_5_Nike-NPS-Combo_Form-10-K_WR.pdf-85-0.png']\n",
      "Page 87 -> ['img_out/414759-1-_5_Nike-NPS-Combo_Form-10-K_WR.pdf-86-0.png']\n",
      "Page 90 -> ['img_out/414759-1-_5_Nike-NPS-Combo_Form-10-K_WR.pdf-89-0.png']\n",
      "Page 91 -> ['img_out/414759-1-_5_Nike-NPS-Combo_Form-10-K_WR.pdf-90-0.png']\n",
      "Page 92 -> ['img_out/414759-1-_5_Nike-NPS-Combo_Form-10-K_WR.pdf-91-0.png']\n",
      "Page 93 -> ['img_out/414759-1-_5_Nike-NPS-Combo_Form-10-K_WR.pdf-92-1.png']\n"
     ]
    }
   ],
   "source": [
    "from pathlib import Path\n",
    "import re\n",
    "\n",
    "img_folder = Path(\"img_out\")\n",
    "img_files = sorted(img_folder.glob(\"*.png\"))\n",
    "\n",
    "# Costruisci una mappa page → immagini leggendo i file\n",
    "page_images_map = {}\n",
    "\n",
    "for img_path in img_files:\n",
    "    fname = img_path.name\n",
    "    # Esempio: 414759-1-_5_Nike-NPS-Combo_Form-10-K_WR.pdf-39-0.png\n",
    "    match = re.match(r\".+\\.pdf-(\\d+)-\\d+\\.png\", fname)\n",
    "    if match:\n",
    "        page_idx = int(match.group(1)) + 1  # +1 per tornare al page_no\n",
    "        page_images_map.setdefault(page_idx, []).append(f\"img_out/{fname}\")\n",
    "\n",
    "for page_no, images in page_images_map.items():\n",
    "    print(f\"Page {page_no} -> {images}\")\n"
   ]
  },
  {
   "cell_type": "markdown",
   "id": "c05413ba",
   "metadata": {},
   "source": [
    "## ✅ **Come funziona davvero `RecursiveCharacterTextSplitter`**\n",
    "\n",
    "Quando usi:\n",
    "\n",
    "```py\n",
    "splitter = RecursiveCharacterTextSplitter(\n",
    "    chunk_size=1500,\n",
    "    chunk_overlap=200,\n",
    "    separators=[\"\\n\\n\", \"\\n\", \" \", \"\"]\n",
    ")\n",
    "```\n",
    "\n",
    "**Il meccanismo è questo:**\n",
    "\n",
    "1️⃣ Prende in mano **tutto il testo di partenza**.\n",
    "2️⃣ Scorre da sinistra verso destra e costruisce **blocchi** lunghi **al massimo `chunk_size`** caratteri.\n",
    "3️⃣ Quando un blocco raggiunge o supera `chunk_size`, **cerca a ritroso** uno dei `separators` definiti, in ordine di priorità.\n",
    "\n",
    "* Se trova, **spezza lì** → così non spacca parole o strutture.\n",
    "* Se non trova separatori utili entro quel blocco → forza il taglio con `\"\"` → taglio **duro**.\n",
    "\n",
    "4️⃣ Poi riprende dal `chunk_overlap` → così ogni nuovo chunk **include una parte di testo del chunk precedente**.\n",
    "\n",
    "---\n",
    "\n",
    "## 🚫 **Non spezza se è corto**\n",
    "\n",
    "Se il testo da splittare:\n",
    "\n",
    "* È **più corto di `chunk_size`**\n",
    "* O non incontra `chunk_size` neanche dopo aver fatto scorrere la finestra\n",
    "\n",
    "👉 **NON spezza** solo perché vede un separatore!\n",
    "Lo splitter si **ferma solo quando raggiunge `chunk_size`** (o se arriva a fine testo).\n",
    "\n",
    "---\n",
    "\n",
    "## ✅ **Esempio pratico**\n",
    "\n",
    "Immagina:\n",
    "\n",
    "```plaintext\n",
    "\"Hello world!\\nThis is line two.\"\n",
    "```\n",
    "\n",
    "* Con `chunk_size=1500`:\n",
    "\n",
    "  * Questo testo è solo \\~30 caratteri.\n",
    "  * Non raggiunge 1500.\n",
    "  * Risultato: 1 chunk unico → **nessun taglio**, anche se ci sono `\\n`.\n",
    "\n",
    "---\n",
    "\n",
    "## 📌 **Quando invece spezza anche prima di `chunk_size`?**\n",
    "\n",
    "Quasi mai — **l’unica eccezione**:\n",
    "👉 Se trovi un separatore che *proprio coincide* con `chunk_size`.\n",
    "\n",
    "Esempio:\n",
    "\n",
    "```\n",
    "testo = \"A\" * 1499 + \"\\n\\n Bunch of other text\"\n",
    "```\n",
    "\n",
    "* Qui:\n",
    "\n",
    "  * A 1499 caratteri c’è un `\\n\\n` → lo usa per spezzare proprio lì.\n",
    "* Ma non spezza *prima* se non serve.\n",
    "\n",
    "---\n",
    "\n",
    "## 🎯 **Ruolo dei `separators`**\n",
    "\n",
    "Quindi:\n",
    "✅ **NON impongono uno split a tutti i separatori trovati.**\n",
    "✅ Servono solo a **scegliere il punto di taglio più naturale**, **quando** serve tagliare per rispettare `chunk_size`.\n",
    "✅ Non “rompono” un testo più corto di `chunk_size`.\n",
    "\n",
    "---\n",
    "\n",
    "## 🔑 **In breve**\n",
    "\n",
    "| Caso                                                         | Spezza?                         |\n",
    "| ------------------------------------------------------------ | ------------------------------- |\n",
    "| Testo più corto di `chunk_size`                              | ❌ No                            |\n",
    "| Testo lungo, ma nessun separatore trovato entro `chunk_size` | ✅ Sì, taglio forzato (`\"\"`)     |\n",
    "| Testo lungo, trova separatore entro `chunk_size`             | ✅ Sì, spezza lì                 |\n",
    "| Testo lungo, trova più separatori                            | ✅ Sceglie in ordine di priorità |\n",
    "\n",
    "---\n",
    "\n",
    "## ✅ **Risultato pratico**\n",
    "\n",
    "👉 I tuoi chunk non saranno **mai più corti di `chunk_size`** **a meno che:**\n",
    "\n",
    "* Siano all’ultimo pezzetto finale di testo,\n",
    "* Oppure sia già più corto di `chunk_size` dall’inizio.\n"
   ]
  },
  {
   "cell_type": "code",
   "execution_count": 33,
   "id": "34c3bcdb",
   "metadata": {},
   "outputs": [
    {
     "name": "stdout",
     "output_type": "stream",
     "text": [
      "✅ Totale chunks: 365\n",
      "Esempio: {'text': '## **FORM 10-K**', 'metadata': {'page': 1, 'images': []}}\n"
     ]
    }
   ],
   "source": [
    "import re\n",
    "from pathlib import Path\n",
    "from langchain.text_splitter import RecursiveCharacterTextSplitter\n",
    "\n",
    "splitter = RecursiveCharacterTextSplitter(\n",
    "    chunk_size=1500,\n",
    "    chunk_overlap=200,\n",
    "    separators=[\"\\n\\n\", \"\\n\", \" \", \"\"]\n",
    ")\n",
    "\n",
    "chunks = []\n",
    "\n",
    "for p in page_dicts:\n",
    "    md = p[\"text\"]\n",
    "    page_no = p[\"metadata\"][\"page\"]\n",
    "\n",
    "    # 🔑 Aggiungi newline prima/dopo ogni link Markdown\n",
    "    md = re.sub(r'!\\[\\]\\((img_out/[^)]+)\\)', r'\\n![](\\1)\\n', md)\n",
    "\n",
    "    splits = splitter.split_text(md)\n",
    "\n",
    "    for split in splits:\n",
    "        # 1️⃣ Regex: prendi SOLO i link intatti\n",
    "        chunk_image_paths = re.findall(r'!\\[\\]\\((img_out/[^)]+)\\)', split)\n",
    "\n",
    "        # ✅ Fallback: se non trovi link, usa la mappa dei file veri\n",
    "        # if not chunk_image_paths:\n",
    "        #     chunk_image_paths = page_images_map.get(page_no, [])\n",
    "\n",
    "        # 2️⃣ Pulisci i link dal testo\n",
    "        split_clean = split\n",
    "        for img in chunk_image_paths:\n",
    "            split_clean = split_clean.replace(f\"![]({img})\", \"\")\n",
    "\n",
    "        # 🔍 Pulisci righe vuote\n",
    "        split_clean = re.sub(r'\\n{2,}', '\\n', split_clean).strip()\n",
    "\n",
    "        chunk = {\n",
    "            \"text\": split_clean,\n",
    "            \"metadata\": {\n",
    "                \"page\": page_no,\n",
    "                \"images\": chunk_image_paths\n",
    "            }\n",
    "        }\n",
    "        chunks.append(chunk)\n",
    "\n",
    "print(f\"✅ Totale chunks: {len(chunks)}\")\n",
    "print(\"Esempio:\", chunks[0])\n"
   ]
  },
  {
   "cell_type": "code",
   "execution_count": 34,
   "id": "c7eb5492",
   "metadata": {},
   "outputs": [
    {
     "name": "stdout",
     "output_type": "stream",
     "text": [
      "🔍 Chunks con immagini: 45\n",
      "\n",
      "Chunk 1\n",
      "Page: 12\n",
      "Images: ['img_out/414759-1-_5_Nike-NPS-Combo_Form-10-K_WR.pdf-11-0.png', 'img_out/414759-1-_5_Nike-NPS-Combo_Form-10-K_WR.pdf-11-1.png', 'img_out/414759-1-_5_Nike-NPS-Combo_Form-10-K_WR.pdf-11-2.png', 'img_out/414759-1-_5_Nike-NPS-Combo_Form-10-K_WR.pdf-11-3.png', 'img_out/414759-1-_5_Nike-NPS-Combo_Form-10-K_WR.pdf-11-4.png', 'img_out/414759-1-_5_Nike-NPS-Combo_Form-10-K_WR.pdf-11-5.png', 'img_out/414759-1-_5_Nike-NPS-Combo_Form-10-K_WR.pdf-11-6.png']\n",
      "Text: _**Craig Williams**_, President, Geographies & Marketplace — Mr. Williams, 54, joined NIKE in 2019 and\n",
      "leads NIKE's four geographies and marketplace across the NIKE Direct and wholesale business. In\n",
      "addition, he leads the Supply Chain and Logistics organization. Mr. Williams joined NIKE as President of\n",
      "Jordan Brand overseeing a team of designers, product developers, marketers and business leaders.\n",
      "Prior to NIKE, he was Senior Vice President, The Coca-Cola Co., and President of The McDonald's\n",
      "Division (TMD) Worldwide. Mr. Williams has also held roles at CIBA Vision and Kraft Foods Inc., and\n",
      "served five years in the U.S. Navy as a Naval Nuclear Power Officer.\n",
      "8 **NIKE, INC.**\n",
      "\n",
      "Chunk 2\n",
      "Page: 29\n",
      "Images: ['img_out/414759-1-_5_Nike-NPS-Combo_Form-10-K_WR.pdf-28-0.png']\n",
      "Text: Upon termination of the $15 billion program, the Company began purchasing shares under a new four-year, $18 billion share\n",
      "repurchase program authorized by the Board of Directors in June 2022. As of May 31, 2023, the Company had repurchased 43.5\n",
      "million shares at an average price of $110.38 per share for a total approximate cost of $4.8 billion under the new program.\n",
      "Repurchases under the Company's new program will be made in open market or privately negotiated transactions in compliance\n",
      "with the Securities and Exchange Commission Rule 10b-18, subject to market conditions, applicable legal requirements and\n",
      "other relevant factors. The new share repurchase program does not obligate the Company to acquire any particular amount of\n",
      "common stock, and it may be suspended at any time at the Company's discretion.\n",
      "All share repurchases were made under NIKE's publicly announced program, and there are no other programs under which the\n",
      "Company repurchases shares. The following table presents a summary of share repurchases made during the quarter ended\n",
      "May 31, 2023:\n",
      "**TOTAL NUMBER OF**\n",
      "**PERIOD** **SHARES PURCHASED**\n",
      "**AVERAGE PRICE**\n",
      "**PAID PER SHARE**\n",
      "**APPROXIMATE DOLLAR**\n",
      "**VALUE OF SHARES THAT**\n",
      "**MAY YET BE PURCHASED**\n",
      "**UNDER THE PLANS**\n",
      "**OR PROGRAMS**\n",
      "**(IN MILLIONS)**\n",
      "**2023 FORM 10-K** 25\n",
      "\n",
      "Chunk 3\n",
      "Page: 30\n",
      "Images: ['img_out/414759-1-_5_Nike-NPS-Combo_Form-10-K_WR.pdf-29-0.png']\n",
      "Text: #### **PERFORMANCE GRAPH**\n",
      "The following graph demonstrates a five-year comparison of cumulative total returns for NIKE's Class B Common Stock; the\n",
      "Standard & Poor's 500 Stock Index; the Dow Jones U.S. Footwear Index; and the Standard & Poor's Apparel, Accessories &\n",
      "Luxury Goods Index. The graph assumes an investment of $100 on May 31, 2018, in each of the indices and our Class B\n",
      "Common Stock. Each of the indices assumes that all dividends were reinvested on the day of issuance.\n",
      "**COMPARISON OF 5-YEAR CUMULATIVE TOTAL RETURN AMONG NIKE, INC.; S&P 500 INDEX; THE DOW JONES U.S. FOOTWEAR**\n",
      "**INDEX; AND S&P APPAREL, ACCESSORIES & LUXURY GOODS INDEX**\n",
      "**$220**\n",
      "**$200**\n",
      "**$180**\n",
      "**$160**\n",
      "**$140**\n",
      "**$120**\n",
      "**$100**\n",
      "**$80**\n",
      "**$60**\n",
      "**$40**\n",
      "**$20**\n",
      "**$0**\n",
      "**2018** **2019** **2020** **2021** **2022** **2023**\n",
      "**NIKE, Inc.** **S&P 500 INDEX - TOTAL RETURN**\n",
      "**DOW JONES US FOOTWEAR INDEX** **S&P 500 APPAREL, ACCESSORIES & LUXURY GOODS INDEX**\n",
      "\n",
      "Chunk 4\n",
      "Page: 33\n",
      "Images: ['img_out/414759-1-_5_Nike-NPS-Combo_Form-10-K_WR.pdf-32-0.png']\n",
      "Text: **USE OF NON-GAAP FINANCIAL MEASURES**\n",
      "Throughout this Annual Report on Form 10-K, we discuss non-GAAP financial measures, which should be considered in addition\n",
      "to, and not in lieu of, the financial measures calculated and presented in accordance with U.S. GAAP. References to these\n",
      "measures should not be considered in isolation or as a substitute for other financial measures calculated and presented in\n",
      "accordance with U.S. GAAP and may not be comparable to similarly titled measures used by other companies. Management\n",
      "uses these non-GAAP measures when evaluating the Company's performance, including when making financial and operating\n",
      "decisions. Additionally, management believes these non-GAAP financial measures provide investors with additional financial\n",
      "information that should be considered when assessing our underlying business performance and trends.\n",
      "**Earnings Before Interest and Taxes (\"EBIT\")** : Calculated as Net income before Interest expense (income), net and Income tax\n",
      "expense in the Consolidated Statements of Income. Total NIKE, Inc. EBIT for fiscal 2023 and fiscal 2022 is as follows:\n",
      "**YEAR ENDED MAY 31,**\n",
      "_(Dollars in millions)_ **2023** **2022**\n",
      "**EBIT Margin** : Calculated as total NIKE, Inc. EBIT divided by total NIKE, Inc. Revenues. Our EBIT Margin calculation for fiscal\n",
      "2023 and fiscal 2022 is as follows:\n",
      "**YEAR ENDED MAY 31,**\n",
      "_(Dollars in millions)_ **2023** **2022**\n",
      "\n",
      "Chunk 5\n",
      "Page: 33\n",
      "Images: ['img_out/414759-1-_5_Nike-NPS-Combo_Form-10-K_WR.pdf-32-1.png']\n",
      "Text: **YEAR ENDED MAY 31,**\n",
      "_(Dollars in millions)_ **2023** **2022**\n",
      "**2023 FORM 10-K** 29\n",
      "\n",
      "Chunk 6\n",
      "Page: 34\n",
      "Images: ['img_out/414759-1-_5_Nike-NPS-Combo_Form-10-K_WR.pdf-33-0.png', 'img_out/414759-1-_5_Nike-NPS-Combo_Form-10-K_WR.pdf-33-1.png']\n",
      "Text: **Return on Invested Capital (\"ROIC\")** : Represents a performance measure that management believes is useful information in\n",
      "understanding the Company's ability to effectively manage invested capital. Our ROIC calculation as of May 31, 2023 and 2022 is\n",
      "as follows:\n",
      "**FOR THE TRAILING FOUR**\n",
      "**QUARTERS ENDED**\n",
      "_(Dollars in millions)_ **MAY 31, 2023** **MAY 31, 2022**\n",
      "**AVERAGE FOR THE TRAILING FIVE**\n",
      "**QUARTERS ENDED**\n",
      "**MAY 31, 2023** **MAY 31, 2022**\n",
      "_(1)_ _Equals Earnings before interest and taxes multiplied by the effective tax rate as of the respective quarter end._\n",
      "_(2)_ _Total debt includes the following: 1) Current portion of long-term debt, 2) Notes Payable, 3) Current portion of operating lease liabilities, 4) Long-term_\n",
      "_debt and 5) Operating lease liabilities._\n",
      "**Currency-neutral revenues** : Currency-neutral revenues enhance visibility to underlying business trends, excluding the impact of\n",
      "translation arising from foreign currency exchange rate fluctuations. Currency-neutral revenues are calculated using actual\n",
      "exchange rates in use during the comparative prior year period in place of the exchange rates in use during the current period.\n",
      "\n",
      "Chunk 7\n",
      "Page: 35\n",
      "Images: ['img_out/414759-1-_5_Nike-NPS-Combo_Form-10-K_WR.pdf-34-0.png']\n",
      "Text: #### **RESULTS OF OPERATIONS**\n",
      "_(Dollars in millions, except per share data)_ **FISCAL 2023** **FISCAL 2022** **% CHANGE** **FISCAL 2021** **% CHANGE**\n",
      "**2023 FORM 10-K** 31\n",
      "\n",
      "Chunk 8\n",
      "Page: 36\n",
      "Images: ['img_out/414759-1-_5_Nike-NPS-Combo_Form-10-K_WR.pdf-35-0.png']\n",
      "Text: #### **CONSOLIDATED OPERATING RESULTS**\n",
      "##### **REVENUES**\n",
      "**FISCAL** **FISCAL** **%**\n",
      "_(Dollars in millions)_ **2023** **2022** **CHANGE**\n",
      "**% CHANGE**\n",
      "**EXCLUDING**\n",
      "**CURRENCY** **FISCAL** **%**\n",
      "**CHANGES** **(1)** **2021** **CHANGE**\n",
      "**% CHANGE**\n",
      "**EXCLUDING**\n",
      "**CURRENCY**\n",
      "**CHANGES** **(1)**\n",
      "_(1)_ _The percent change excluding currency changes and the presentation of wholesale equivalent revenues represent non-GAAP financial measures. For_\n",
      "_further information, see \"Use of Non-GAAP Financial Measures\"._\n",
      "_(2)_ _Global Brand Divisions revenues include NIKE Brand licensing and other miscellaneous revenues that are not part of a geographic operating segment._\n",
      "_(3)_ _Corporate revenues primarily consist of foreign currency hedge gains and losses related to revenues generated by entities within the NIKE Brand_\n",
      "_geographic operating segments and Converse, but managed through our central foreign exchange risk management program._\n",
      "\n",
      "Chunk 9\n",
      "Page: 37\n",
      "Images: ['img_out/414759-1-_5_Nike-NPS-Combo_Form-10-K_WR.pdf-36-0.png', 'img_out/414759-1-_5_Nike-NPS-Combo_Form-10-K_WR.pdf-36-2.png', 'img_out/414759-1-_5_Nike-NPS-Combo_Form-10-K_WR.pdf-36-1.png']\n",
      "Text: **FISCAL 2023 NIKE BRAND REVENUE HIGHLIGHTS**\n",
      "The following tables present NIKE Brand revenues disaggregated by reportable operating segment, distribution channel and\n",
      "major product line:\n",
      "**44%** **13%**\n",
      "North APLA\n",
      "**FISCAL 2023 COMPARED TO FISCAL 2022**\n",
      "**56%**\n",
      "**4%**\n",
      "Equipment\n",
      "**68%**\n",
      "**•** NIKE, Inc. Revenues were $51.2 billion in fiscal 2023, which increased 10% and 16% compared to fiscal 2022 on a reported\n",
      "and currency-neutral basis, respectively. The increase was due to higher revenues in North America, Europe, Middle East &\n",
      "Africa (\"EMEA\"), APLA and Greater China, which contributed approximately 7, 6, 2 and 1 percentage points to NIKE, Inc.\n",
      "Revenues, respectively.\n",
      "**•** NIKE Brand revenues, which represented over 90% of NIKE, Inc. Revenues, increased 10% and 16% on a reported and\n",
      "currency-neutral basis, respectively. This increase was primarily due to higher revenues in Men's, the Jordan Brand,\n",
      "Women's and Kids' which grew 17%, 35%,11% and 10%, respectively, on a wholesale equivalent basis.\n",
      "\n",
      "Chunk 10\n",
      "Page: 38\n",
      "Images: ['img_out/414759-1-_5_Nike-NPS-Combo_Form-10-K_WR.pdf-37-0.png']\n",
      "Text: ##### **GROSS MARGIN**\n",
      "**FISCAL 2023 COMPARED TO FISCAL 2022**\n",
      "For fiscal 2023, our consolidated gross profit increased 4% to $22,292 million compared to $21,479 million for fiscal 2022. Gross\n",
      "margin decreased 250 basis points to 43.5% for fiscal 2023 compared to 46.0% for fiscal 2022 due to the following:\n",
      "48.0\n",
      "46.0\n",
      "44.0\n",
      "42.0\n",
      "40.0\n",
      "FY 22 NIKE BRAND NIKE DIRECT FOREIGN CURRENCY OFF-PRICE* FULL PRICE NIKE OTHER COSTS\n",
      "PRODUCT COSTS* EXCHANGE RATES BRAND AVERAGE\n",
      "FOREIGN CURRENCY\n",
      "EXCHANGE RATES\n",
      "(INCL. HEDGES)\n",
      "FULL PRICE NIKE OTHER COSTS FY 23\n",
      "BRAND AVERAGE\n",
      "SELLING PRICE\n",
      "(NET OF\n",
      "DISCOUNTS)*\n",
      "_*Wholesale equivalent_\n",
      "The decrease in gross margin for fiscal 2023 was primarily due to:\n",
      "**•** Higher NIKE Brand product costs, on a wholesale equivalent basis, primarily due to higher input costs and elevated inbound\n",
      "freight and logistics costs as well as product mix;\n",
      "**•** Lower margin in our NIKE Direct business, driven by higher promotional activity to liquidate inventory in the current period\n",
      "compared to lower promotional activity in the prior period resulting from lower available inventory supply;\n",
      "**•** Unfavorable changes in net foreign currency exchange rates, including hedges; and\n",
      "**•** Lower off-price margin, on a wholesale equivalent basis.\n",
      "This was partially offset by:\n"
     ]
    }
   ],
   "source": [
    "# Filtra i chunks con immagini associate\n",
    "chunks_with_images = [chunk for chunk in chunks if chunk[\"metadata\"][\"images\"]]\n",
    "\n",
    "print(f\"🔍 Chunks con immagini: {len(chunks_with_images)}\")\n",
    "\n",
    "# Se vuoi, stampa i primi 3 come esempio\n",
    "for i, chunk in enumerate(chunks_with_images[:10]):\n",
    "    print(f\"\\nChunk {i+1}\")\n",
    "    print(\"Page:\", chunk[\"metadata\"][\"page\"])\n",
    "    print(\"Images:\", chunk[\"metadata\"][\"images\"])\n",
    "    print(\"Text:\", chunk[\"text\"])  # Mostra solo i primi 200 caratteri per leggibilità\n"
   ]
  },
  {
   "cell_type": "code",
   "execution_count": null,
   "id": "8f55a78c",
   "metadata": {},
   "outputs": [],
   "source": [
    "for i, chunk in enumerate(chunks[:10]):\n",
    "    print(f\"\\nChunk {i+1}\")\n",
    "    print(\"Page:\", chunk[\"metadata\"][\"page\"])\n",
    "    print(\"Images:\", chunk[\"metadata\"][\"images\"])\n",
    "    print(\"Text:\", chunk[\"text\"][:200])  # Mostra solo i primi 200 caratteri per leggibilità"
   ]
  },
  {
   "cell_type": "markdown",
   "id": "f4eb1021",
   "metadata": {},
   "source": [
    "# Jina tests over images and chunking"
   ]
  },
  {
   "cell_type": "code",
   "execution_count": 35,
   "id": "b0008718",
   "metadata": {},
   "outputs": [
    {
     "data": {
      "application/vnd.jupyter.widget-view+json": {
       "model_id": "80ba9c36ede248409fcf00bb227d08dd",
       "version_major": 2,
       "version_minor": 0
      },
      "text/plain": [
       "VBox(children=(HTML(value='<center> <img\\nsrc=https://huggingface.co/front/assets/huggingface_logo-noborder.sv…"
      ]
     },
     "metadata": {},
     "output_type": "display_data"
    }
   ],
   "source": [
    "from huggingface_hub import notebook_login\n",
    "\n",
    "notebook_login()"
   ]
  },
  {
   "cell_type": "code",
   "execution_count": 36,
   "id": "b7706168",
   "metadata": {},
   "outputs": [
    {
     "name": "stdout",
     "output_type": "stream",
     "text": [
      "2.7.1+cu118\n",
      "11.8\n",
      "True\n"
     ]
    }
   ],
   "source": [
    "import torch\n",
    "print(torch.__version__)\n",
    "print(torch.version.cuda)\n",
    "print(torch.cuda.is_available())"
   ]
  },
  {
   "cell_type": "code",
   "execution_count": 37,
   "id": "8aaef414",
   "metadata": {},
   "outputs": [
    {
     "data": {
      "application/vnd.jupyter.widget-view+json": {
       "model_id": "94adcd083c3f4092afcf1e1a6f8b44af",
       "version_major": 2,
       "version_minor": 0
      },
      "text/plain": [
       "config.json: 0.00B [00:00, ?B/s]"
      ]
     },
     "metadata": {},
     "output_type": "display_data"
    },
    {
     "name": "stderr",
     "output_type": "stream",
     "text": [
      "c:\\Users\\felip\\Desktop\\import-pc\\jina-embeddings\\.venv\\lib\\site-packages\\huggingface_hub\\file_download.py:143: UserWarning: `huggingface_hub` cache-system uses symlinks by default to efficiently store duplicated files but your machine does not support them in C:\\Users\\felip\\.cache\\huggingface\\hub\\models--jinaai--jina-embeddings-v4. Caching files will still work but in a degraded version that might require more space on your disk. This warning can be disabled by setting the `HF_HUB_DISABLE_SYMLINKS_WARNING` environment variable. For more details, see https://huggingface.co/docs/huggingface_hub/how-to-cache#limitations.\n",
      "To support symlinks on Windows, you either need to activate Developer Mode or to run Python as an administrator. In order to activate developer mode, see this article: https://docs.microsoft.com/en-us/windows/apps/get-started/enable-your-device-for-development\n",
      "  warnings.warn(message)\n"
     ]
    },
    {
     "data": {
      "application/vnd.jupyter.widget-view+json": {
       "model_id": "af31b229bb2046268d13a8870fd122fb",
       "version_major": 2,
       "version_minor": 0
      },
      "text/plain": [
       "configuration_jina_embeddings_v4.py:   0%|          | 0.00/750 [00:00<?, ?B/s]"
      ]
     },
     "metadata": {},
     "output_type": "display_data"
    },
    {
     "name": "stderr",
     "output_type": "stream",
     "text": [
      "A new version of the following files was downloaded from https://huggingface.co/jinaai/jina-embeddings-v4:\n",
      "- configuration_jina_embeddings_v4.py\n",
      ". Make sure to double-check they do not contain any added malicious code. To avoid downloading new versions of the code file, you can pin a revision.\n"
     ]
    },
    {
     "data": {
      "application/vnd.jupyter.widget-view+json": {
       "model_id": "e92198b55fa347129893bdeb9bf6b4ba",
       "version_major": 2,
       "version_minor": 0
      },
      "text/plain": [
       "modeling_jina_embeddings_v4.py: 0.00B [00:00, ?B/s]"
      ]
     },
     "metadata": {},
     "output_type": "display_data"
    },
    {
     "data": {
      "application/vnd.jupyter.widget-view+json": {
       "model_id": "5c1661cd1edd4948aac4ce29c6e3ae06",
       "version_major": 2,
       "version_minor": 0
      },
      "text/plain": [
       "custom_lora_module.py: 0.00B [00:00, ?B/s]"
      ]
     },
     "metadata": {},
     "output_type": "display_data"
    },
    {
     "name": "stderr",
     "output_type": "stream",
     "text": [
      "A new version of the following files was downloaded from https://huggingface.co/jinaai/jina-embeddings-v4:\n",
      "- custom_lora_module.py\n",
      ". Make sure to double-check they do not contain any added malicious code. To avoid downloading new versions of the code file, you can pin a revision.\n"
     ]
    },
    {
     "data": {
      "application/vnd.jupyter.widget-view+json": {
       "model_id": "76975b3667ff415f92c6014731f396f3",
       "version_major": 2,
       "version_minor": 0
      },
      "text/plain": [
       "qwen2_5_vl.py: 0.00B [00:00, ?B/s]"
      ]
     },
     "metadata": {},
     "output_type": "display_data"
    },
    {
     "name": "stderr",
     "output_type": "stream",
     "text": [
      "A new version of the following files was downloaded from https://huggingface.co/jinaai/jina-embeddings-v4:\n",
      "- qwen2_5_vl.py\n",
      ". Make sure to double-check they do not contain any added malicious code. To avoid downloading new versions of the code file, you can pin a revision.\n",
      "A new version of the following files was downloaded from https://huggingface.co/jinaai/jina-embeddings-v4:\n",
      "- modeling_jina_embeddings_v4.py\n",
      "- custom_lora_module.py\n",
      "- qwen2_5_vl.py\n",
      ". Make sure to double-check they do not contain any added malicious code. To avoid downloading new versions of the code file, you can pin a revision.\n"
     ]
    },
    {
     "data": {
      "application/vnd.jupyter.widget-view+json": {
       "model_id": "21ec255247ee4fb69cc93f33b8821c1d",
       "version_major": 2,
       "version_minor": 0
      },
      "text/plain": [
       "model.safetensors.index.json: 0.00B [00:00, ?B/s]"
      ]
     },
     "metadata": {},
     "output_type": "display_data"
    },
    {
     "data": {
      "application/vnd.jupyter.widget-view+json": {
       "model_id": "d3c762dfce7948659aab64271ab1e527",
       "version_major": 2,
       "version_minor": 0
      },
      "text/plain": [
       "Fetching 2 files:   0%|          | 0/2 [00:00<?, ?it/s]"
      ]
     },
     "metadata": {},
     "output_type": "display_data"
    },
    {
     "data": {
      "application/vnd.jupyter.widget-view+json": {
       "model_id": "2d8bcada21fb484297730706164d1080",
       "version_major": 2,
       "version_minor": 0
      },
      "text/plain": [
       "model-00002-of-00002.safetensors:   0%|          | 0.00/2.51G [00:00<?, ?B/s]"
      ]
     },
     "metadata": {},
     "output_type": "display_data"
    },
    {
     "data": {
      "application/vnd.jupyter.widget-view+json": {
       "model_id": "6ebe5a8f5d064ef2a6cf4bb283b72583",
       "version_major": 2,
       "version_minor": 0
      },
      "text/plain": [
       "model-00001-of-00002.safetensors:   0%|          | 0.00/5.00G [00:00<?, ?B/s]"
      ]
     },
     "metadata": {},
     "output_type": "display_data"
    },
    {
     "data": {
      "application/vnd.jupyter.widget-view+json": {
       "model_id": "775faf9b502143708e5035d5a7d1abe0",
       "version_major": 2,
       "version_minor": 0
      },
      "text/plain": [
       "preprocessor_config.json:   0%|          | 0.00/726 [00:00<?, ?B/s]"
      ]
     },
     "metadata": {},
     "output_type": "display_data"
    },
    {
     "data": {
      "application/vnd.jupyter.widget-view+json": {
       "model_id": "a9d25cfe95e848f88b28da6b616a3dff",
       "version_major": 2,
       "version_minor": 0
      },
      "text/plain": [
       "tokenizer_config.json: 0.00B [00:00, ?B/s]"
      ]
     },
     "metadata": {},
     "output_type": "display_data"
    },
    {
     "data": {
      "application/vnd.jupyter.widget-view+json": {
       "model_id": "893ab94b8fb948f5bf9309a1a3eb1b17",
       "version_major": 2,
       "version_minor": 0
      },
      "text/plain": [
       "vocab.json: 0.00B [00:00, ?B/s]"
      ]
     },
     "metadata": {},
     "output_type": "display_data"
    },
    {
     "data": {
      "application/vnd.jupyter.widget-view+json": {
       "model_id": "087c172f072e49afb7255dc970ad34d7",
       "version_major": 2,
       "version_minor": 0
      },
      "text/plain": [
       "merges.txt: 0.00B [00:00, ?B/s]"
      ]
     },
     "metadata": {},
     "output_type": "display_data"
    },
    {
     "data": {
      "application/vnd.jupyter.widget-view+json": {
       "model_id": "ca0093812671409da71a61d9d6bfaab2",
       "version_major": 2,
       "version_minor": 0
      },
      "text/plain": [
       "tokenizer.json:   0%|          | 0.00/11.4M [00:00<?, ?B/s]"
      ]
     },
     "metadata": {},
     "output_type": "display_data"
    },
    {
     "data": {
      "application/vnd.jupyter.widget-view+json": {
       "model_id": "8f42c5f2c1704a3c9f926313f5954eaa",
       "version_major": 2,
       "version_minor": 0
      },
      "text/plain": [
       "added_tokens.json:   0%|          | 0.00/605 [00:00<?, ?B/s]"
      ]
     },
     "metadata": {},
     "output_type": "display_data"
    },
    {
     "data": {
      "application/vnd.jupyter.widget-view+json": {
       "model_id": "74320b6a4ed94036be04e7fb674e7374",
       "version_major": 2,
       "version_minor": 0
      },
      "text/plain": [
       "special_tokens_map.json:   0%|          | 0.00/613 [00:00<?, ?B/s]"
      ]
     },
     "metadata": {},
     "output_type": "display_data"
    },
    {
     "name": "stderr",
     "output_type": "stream",
     "text": [
      "You have video processor config saved in `preprocessor.json` file which is deprecated. Video processor configs should be saved in their own `video_preprocessor.json` file. You can rename the file or load and save the processor back which renames it automatically. Loading from `preprocessor.json` will be removed in v5.0.\n"
     ]
    },
    {
     "data": {
      "application/vnd.jupyter.widget-view+json": {
       "model_id": "ef729d50af17472ab23b098c7c10dc5c",
       "version_major": 2,
       "version_minor": 0
      },
      "text/plain": [
       "chat_template.json: 0.00B [00:00, ?B/s]"
      ]
     },
     "metadata": {},
     "output_type": "display_data"
    },
    {
     "data": {
      "application/vnd.jupyter.widget-view+json": {
       "model_id": "a65245e1db9e48a6b50935985f798fcc",
       "version_major": 2,
       "version_minor": 0
      },
      "text/plain": [
       "Loading checkpoint shards:   0%|          | 0/2 [00:00<?, ?it/s]"
      ]
     },
     "metadata": {},
     "output_type": "display_data"
    },
    {
     "data": {
      "application/vnd.jupyter.widget-view+json": {
       "model_id": "97856ec96e344fc4b6a947bed095ebdf",
       "version_major": 2,
       "version_minor": 0
      },
      "text/plain": [
       "generation_config.json:   0%|          | 0.00/126 [00:00<?, ?B/s]"
      ]
     },
     "metadata": {},
     "output_type": "display_data"
    },
    {
     "data": {
      "application/vnd.jupyter.widget-view+json": {
       "model_id": "31b4ed2f82884346bd2fc23d606e66f3",
       "version_major": 2,
       "version_minor": 0
      },
      "text/plain": [
       "Fetching 2 files:   0%|          | 0/2 [00:00<?, ?it/s]"
      ]
     },
     "metadata": {},
     "output_type": "display_data"
    },
    {
     "data": {
      "application/vnd.jupyter.widget-view+json": {
       "model_id": "2fd14c1cbe8a4b49a6b1e691035c06db",
       "version_major": 2,
       "version_minor": 0
      },
      "text/plain": [
       "adapter_model.safetensors:   0%|          | 0.00/360M [00:00<?, ?B/s]"
      ]
     },
     "metadata": {},
     "output_type": "display_data"
    },
    {
     "data": {
      "application/vnd.jupyter.widget-view+json": {
       "model_id": "18181f0d2bd54b03b7675a6371c0a2b4",
       "version_major": 2,
       "version_minor": 0
      },
      "text/plain": [
       "adapter_config.json:   0%|          | 0.00/900 [00:00<?, ?B/s]"
      ]
     },
     "metadata": {},
     "output_type": "display_data"
    },
    {
     "data": {
      "text/plain": [
       "PeftModelForFeatureExtraction(\n",
       "  (base_model): LoraModel(\n",
       "    (model): JinaEmbeddingsV4Model(\n",
       "      (model): Qwen2_5_VLModel(\n",
       "        (visual): Qwen2_5_VisionTransformerPretrainedModel(\n",
       "          (patch_embed): Qwen2_5_VisionPatchEmbed(\n",
       "            (proj): Conv3d(3, 1280, kernel_size=(2, 14, 14), stride=(2, 14, 14), bias=False)\n",
       "          )\n",
       "          (rotary_pos_emb): Qwen2_5_VisionRotaryEmbedding()\n",
       "          (blocks): ModuleList(\n",
       "            (0-31): 32 x Qwen2_5_VLVisionBlock(\n",
       "              (norm1): Qwen2RMSNorm((1280,), eps=1e-06)\n",
       "              (norm2): Qwen2RMSNorm((1280,), eps=1e-06)\n",
       "              (attn): Qwen2_5_VLVisionSdpaAttention(\n",
       "                (qkv): Linear(in_features=1280, out_features=3840, bias=True)\n",
       "                (proj): Linear(in_features=1280, out_features=1280, bias=True)\n",
       "              )\n",
       "              (mlp): Qwen2_5_VLMLP(\n",
       "                (gate_proj): Linear(in_features=1280, out_features=3420, bias=True)\n",
       "                (up_proj): Linear(in_features=1280, out_features=3420, bias=True)\n",
       "                (down_proj): Linear(in_features=3420, out_features=1280, bias=True)\n",
       "                (act_fn): SiLU()\n",
       "              )\n",
       "            )\n",
       "          )\n",
       "          (merger): Qwen2_5_VLPatchMerger(\n",
       "            (ln_q): Qwen2RMSNorm((1280,), eps=1e-06)\n",
       "            (mlp): Sequential(\n",
       "              (0): Linear(in_features=5120, out_features=5120, bias=True)\n",
       "              (1): GELU(approximate='none')\n",
       "              (2): Linear(in_features=5120, out_features=2048, bias=True)\n",
       "            )\n",
       "          )\n",
       "        )\n",
       "        (language_model): Qwen2_5_VLTextModel(\n",
       "          (embed_tokens): Embedding(151936, 2048)\n",
       "          (layers): ModuleList(\n",
       "            (0-35): 36 x Qwen2_5_VLDecoderLayer(\n",
       "              (self_attn): Qwen2_5_VLSdpaAttention(\n",
       "                (q_proj): lora.MultiAdapterLinear(\n",
       "                  (base_layer): Linear(in_features=2048, out_features=2048, bias=True)\n",
       "                  (lora_dropout): ModuleDict(\n",
       "                    (default): Dropout(p=0.1, inplace=False)\n",
       "                  )\n",
       "                  (lora_A): ModuleDict(\n",
       "                    (default): ModuleDict(\n",
       "                      (retrieval): Linear(in_features=2048, out_features=32, bias=False)\n",
       "                      (text-matching): Linear(in_features=2048, out_features=32, bias=False)\n",
       "                      (code): Linear(in_features=2048, out_features=32, bias=False)\n",
       "                    )\n",
       "                  )\n",
       "                  (lora_B): ModuleDict(\n",
       "                    (default): ModuleDict(\n",
       "                      (retrieval): Linear(in_features=32, out_features=2048, bias=False)\n",
       "                      (text-matching): Linear(in_features=32, out_features=2048, bias=False)\n",
       "                      (code): Linear(in_features=32, out_features=2048, bias=False)\n",
       "                    )\n",
       "                  )\n",
       "                  (lora_embedding_A): ParameterDict()\n",
       "                  (lora_embedding_B): ParameterDict()\n",
       "                  (lora_magnitude_vector): ModuleDict()\n",
       "                )\n",
       "                (k_proj): lora.MultiAdapterLinear(\n",
       "                  (base_layer): Linear(in_features=2048, out_features=256, bias=True)\n",
       "                  (lora_dropout): ModuleDict(\n",
       "                    (default): Dropout(p=0.1, inplace=False)\n",
       "                  )\n",
       "                  (lora_A): ModuleDict(\n",
       "                    (default): ModuleDict(\n",
       "                      (retrieval): Linear(in_features=2048, out_features=32, bias=False)\n",
       "                      (text-matching): Linear(in_features=2048, out_features=32, bias=False)\n",
       "                      (code): Linear(in_features=2048, out_features=32, bias=False)\n",
       "                    )\n",
       "                  )\n",
       "                  (lora_B): ModuleDict(\n",
       "                    (default): ModuleDict(\n",
       "                      (retrieval): Linear(in_features=32, out_features=256, bias=False)\n",
       "                      (text-matching): Linear(in_features=32, out_features=256, bias=False)\n",
       "                      (code): Linear(in_features=32, out_features=256, bias=False)\n",
       "                    )\n",
       "                  )\n",
       "                  (lora_embedding_A): ParameterDict()\n",
       "                  (lora_embedding_B): ParameterDict()\n",
       "                  (lora_magnitude_vector): ModuleDict()\n",
       "                )\n",
       "                (v_proj): lora.MultiAdapterLinear(\n",
       "                  (base_layer): Linear(in_features=2048, out_features=256, bias=True)\n",
       "                  (lora_dropout): ModuleDict(\n",
       "                    (default): Dropout(p=0.1, inplace=False)\n",
       "                  )\n",
       "                  (lora_A): ModuleDict(\n",
       "                    (default): ModuleDict(\n",
       "                      (retrieval): Linear(in_features=2048, out_features=32, bias=False)\n",
       "                      (text-matching): Linear(in_features=2048, out_features=32, bias=False)\n",
       "                      (code): Linear(in_features=2048, out_features=32, bias=False)\n",
       "                    )\n",
       "                  )\n",
       "                  (lora_B): ModuleDict(\n",
       "                    (default): ModuleDict(\n",
       "                      (retrieval): Linear(in_features=32, out_features=256, bias=False)\n",
       "                      (text-matching): Linear(in_features=32, out_features=256, bias=False)\n",
       "                      (code): Linear(in_features=32, out_features=256, bias=False)\n",
       "                    )\n",
       "                  )\n",
       "                  (lora_embedding_A): ParameterDict()\n",
       "                  (lora_embedding_B): ParameterDict()\n",
       "                  (lora_magnitude_vector): ModuleDict()\n",
       "                )\n",
       "                (o_proj): lora.MultiAdapterLinear(\n",
       "                  (base_layer): Linear(in_features=2048, out_features=2048, bias=False)\n",
       "                  (lora_dropout): ModuleDict(\n",
       "                    (default): Dropout(p=0.1, inplace=False)\n",
       "                  )\n",
       "                  (lora_A): ModuleDict(\n",
       "                    (default): ModuleDict(\n",
       "                      (retrieval): Linear(in_features=2048, out_features=32, bias=False)\n",
       "                      (text-matching): Linear(in_features=2048, out_features=32, bias=False)\n",
       "                      (code): Linear(in_features=2048, out_features=32, bias=False)\n",
       "                    )\n",
       "                  )\n",
       "                  (lora_B): ModuleDict(\n",
       "                    (default): ModuleDict(\n",
       "                      (retrieval): Linear(in_features=32, out_features=2048, bias=False)\n",
       "                      (text-matching): Linear(in_features=32, out_features=2048, bias=False)\n",
       "                      (code): Linear(in_features=32, out_features=2048, bias=False)\n",
       "                    )\n",
       "                  )\n",
       "                  (lora_embedding_A): ParameterDict()\n",
       "                  (lora_embedding_B): ParameterDict()\n",
       "                  (lora_magnitude_vector): ModuleDict()\n",
       "                )\n",
       "                (rotary_emb): Qwen2_5_VLRotaryEmbedding()\n",
       "              )\n",
       "              (mlp): Qwen2MLP(\n",
       "                (gate_proj): lora.MultiAdapterLinear(\n",
       "                  (base_layer): Linear(in_features=2048, out_features=11008, bias=False)\n",
       "                  (lora_dropout): ModuleDict(\n",
       "                    (default): Dropout(p=0.1, inplace=False)\n",
       "                  )\n",
       "                  (lora_A): ModuleDict(\n",
       "                    (default): ModuleDict(\n",
       "                      (retrieval): Linear(in_features=2048, out_features=32, bias=False)\n",
       "                      (text-matching): Linear(in_features=2048, out_features=32, bias=False)\n",
       "                      (code): Linear(in_features=2048, out_features=32, bias=False)\n",
       "                    )\n",
       "                  )\n",
       "                  (lora_B): ModuleDict(\n",
       "                    (default): ModuleDict(\n",
       "                      (retrieval): Linear(in_features=32, out_features=11008, bias=False)\n",
       "                      (text-matching): Linear(in_features=32, out_features=11008, bias=False)\n",
       "                      (code): Linear(in_features=32, out_features=11008, bias=False)\n",
       "                    )\n",
       "                  )\n",
       "                  (lora_embedding_A): ParameterDict()\n",
       "                  (lora_embedding_B): ParameterDict()\n",
       "                  (lora_magnitude_vector): ModuleDict()\n",
       "                )\n",
       "                (up_proj): lora.MultiAdapterLinear(\n",
       "                  (base_layer): Linear(in_features=2048, out_features=11008, bias=False)\n",
       "                  (lora_dropout): ModuleDict(\n",
       "                    (default): Dropout(p=0.1, inplace=False)\n",
       "                  )\n",
       "                  (lora_A): ModuleDict(\n",
       "                    (default): ModuleDict(\n",
       "                      (retrieval): Linear(in_features=2048, out_features=32, bias=False)\n",
       "                      (text-matching): Linear(in_features=2048, out_features=32, bias=False)\n",
       "                      (code): Linear(in_features=2048, out_features=32, bias=False)\n",
       "                    )\n",
       "                  )\n",
       "                  (lora_B): ModuleDict(\n",
       "                    (default): ModuleDict(\n",
       "                      (retrieval): Linear(in_features=32, out_features=11008, bias=False)\n",
       "                      (text-matching): Linear(in_features=32, out_features=11008, bias=False)\n",
       "                      (code): Linear(in_features=32, out_features=11008, bias=False)\n",
       "                    )\n",
       "                  )\n",
       "                  (lora_embedding_A): ParameterDict()\n",
       "                  (lora_embedding_B): ParameterDict()\n",
       "                  (lora_magnitude_vector): ModuleDict()\n",
       "                )\n",
       "                (down_proj): lora.MultiAdapterLinear(\n",
       "                  (base_layer): Linear(in_features=11008, out_features=2048, bias=False)\n",
       "                  (lora_dropout): ModuleDict(\n",
       "                    (default): Dropout(p=0.1, inplace=False)\n",
       "                  )\n",
       "                  (lora_A): ModuleDict(\n",
       "                    (default): ModuleDict(\n",
       "                      (retrieval): Linear(in_features=11008, out_features=32, bias=False)\n",
       "                      (text-matching): Linear(in_features=11008, out_features=32, bias=False)\n",
       "                      (code): Linear(in_features=11008, out_features=32, bias=False)\n",
       "                    )\n",
       "                  )\n",
       "                  (lora_B): ModuleDict(\n",
       "                    (default): ModuleDict(\n",
       "                      (retrieval): Linear(in_features=32, out_features=2048, bias=False)\n",
       "                      (text-matching): Linear(in_features=32, out_features=2048, bias=False)\n",
       "                      (code): Linear(in_features=32, out_features=2048, bias=False)\n",
       "                    )\n",
       "                  )\n",
       "                  (lora_embedding_A): ParameterDict()\n",
       "                  (lora_embedding_B): ParameterDict()\n",
       "                  (lora_magnitude_vector): ModuleDict()\n",
       "                )\n",
       "                (act_fn): SiLU()\n",
       "              )\n",
       "              (input_layernorm): Qwen2RMSNorm((2048,), eps=1e-06)\n",
       "              (post_attention_layernorm): Qwen2RMSNorm((2048,), eps=1e-06)\n",
       "            )\n",
       "          )\n",
       "          (norm): Qwen2RMSNorm((2048,), eps=1e-06)\n",
       "          (rotary_emb): Qwen2_5_VLRotaryEmbedding()\n",
       "        )\n",
       "      )\n",
       "      (lm_head): Linear(in_features=2048, out_features=151936, bias=False)\n",
       "      (multi_vector_projector): lora.MultiAdapterLinear(\n",
       "        (base_layer): Linear(in_features=2048, out_features=128, bias=True)\n",
       "        (lora_dropout): ModuleDict(\n",
       "          (default): Dropout(p=0.1, inplace=False)\n",
       "        )\n",
       "        (lora_A): ModuleDict(\n",
       "          (default): ModuleDict(\n",
       "            (retrieval): Linear(in_features=2048, out_features=32, bias=False)\n",
       "            (text-matching): Linear(in_features=2048, out_features=32, bias=False)\n",
       "            (code): Linear(in_features=2048, out_features=32, bias=False)\n",
       "          )\n",
       "        )\n",
       "        (lora_B): ModuleDict(\n",
       "          (default): ModuleDict(\n",
       "            (retrieval): Linear(in_features=32, out_features=128, bias=False)\n",
       "            (text-matching): Linear(in_features=32, out_features=128, bias=False)\n",
       "            (code): Linear(in_features=32, out_features=128, bias=False)\n",
       "          )\n",
       "        )\n",
       "        (lora_embedding_A): ParameterDict()\n",
       "        (lora_embedding_B): ParameterDict()\n",
       "        (lora_magnitude_vector): ModuleDict()\n",
       "      )\n",
       "    )\n",
       "  )\n",
       ")"
      ]
     },
     "execution_count": 37,
     "metadata": {},
     "output_type": "execute_result"
    }
   ],
   "source": [
    "from transformers import AutoModel # carica il modello senza testa\n",
    "# Carica solo il backbone del modello, cioè i pesi e i layer pre-addestrati per generare rappresentazioni (embedding).\n",
    "\n",
    "# Non aggiunge automaticamente una testa specifica per un task: per esempio non ha la testa di language modeling, classification o question answering.\n",
    "\n",
    "model = AutoModel.from_pretrained(\"jinaai/jina-embeddings-v4\", trust_remote_code=True)\n",
    "\n",
    "model.to(\"cuda\")"
   ]
  },
  {
   "cell_type": "code",
   "execution_count": 38,
   "id": "87125b65",
   "metadata": {},
   "outputs": [
    {
     "name": "stdout",
     "output_type": "stream",
     "text": [
      "Text: Upon termination of the $15 billion program, the Company began purchasing shares under a new four-year, $18 billion share\n",
      "repurchase program authorized by the Board of Directors in June 2022. As of Ma...\n",
      "Image path: img_out/414759-1-_5_Nike-NPS-Combo_Form-10-K_WR.pdf-28-0.png\n"
     ]
    }
   ],
   "source": [
    "# prendiamo l'immagine e il testo di un chunk\n",
    "chunk = chunks_with_images[1]\n",
    "text = chunk[\"text\"]\n",
    "image_path = chunk[\"metadata\"][\"images\"][0]  # Prendiamo solo la prima immagine per esempio\n",
    "\n",
    "print(f\"Text: {text[:200]}...\")  # Mostra solo i primi 200 caratteri per leggibilità\n",
    "print(f\"Image path: {image_path}\")"
   ]
  },
  {
   "cell_type": "code",
   "execution_count": 39,
   "id": "f9795a96",
   "metadata": {},
   "outputs": [
    {
     "name": "stderr",
     "output_type": "stream",
     "text": [
      "Encoding texts...: 100%|██████████| 1/1 [00:00<00:00,  1.28it/s]\n",
      "Encoding images...: 100%|██████████| 1/1 [00:00<00:00,  1.36it/s]\n"
     ]
    }
   ],
   "source": [
    "# encode_text (lista!)\n",
    "text_embeddings = model.encode_text(\n",
    "    texts=[text],\n",
    "    task=\"retrieval\",\n",
    "    prompt_name=\"query\",\n",
    "    return_numpy=True\n",
    ")\n",
    "\n",
    "# encode_image (path!)\n",
    "image_embeddings = model.encode_image(\n",
    "    images=[image_path],\n",
    "    task=\"retrieval\",\n",
    "    return_numpy=True\n",
    ")"
   ]
  },
  {
   "cell_type": "code",
   "execution_count": 91,
   "id": "3d1f3ea7",
   "metadata": {},
   "outputs": [
    {
     "name": "stdout",
     "output_type": "stream",
     "text": [
      "[-0.005913291592150927, 0.01902017369866371, 0.027598261833190918, -0.03141843155026436, -0.01083287876099348, -0.008726784028112888, 0.0037794532254338264, 0.0018295820336788893, 0.001550958608277142, -0.03185955807566643, -0.04555274918675423, -0.0044474247843027115, -0.005514698568731546, 0.0038882221560925245, -0.030255943536758423, -0.006152804009616375, 0.0045682271011173725, 0.0024878382682800293, 0.051338475197553635, -0.013971002772450447, -0.002090116962790489, 0.012993334792554379, 0.020540185272693634, -0.014080703258514404, 0.02819559909403324, 0.0011664065532386303, -0.007002218626439571, 0.03688540309667587, 0.04016553983092308, 0.02898188680410385, -0.03518367558717728, -0.01149232592433691, 0.004857343155890703, 0.002514125546440482, -0.060472313314676285, -0.007026373408734798, -0.03163839131593704, -0.013558626174926758, 0.021551266312599182, -0.008961891755461693, 0.009386979974806309, -0.05523525923490524, -0.0028416174463927746, 0.06598936766386032, -0.02562667801976204, -0.04684329405426979, -0.028427423909306526, -0.011431331746280193, -0.013320804573595524, -0.03364991024136543, 0.04303532466292381, 0.004577418323606253, -0.055511265993118286, -0.021332206204533577, -0.019013237208127975, -0.016818854957818985, 0.030987663194537163, 0.030257008969783783, -0.005326081067323685, -0.013000461272895336, -0.05312948301434517, -0.0038354103453457355, -0.005429825745522976, 0.014611846767365932, 0.03173874318599701, -0.014989295974373817, 0.031676698476076126, -0.006692792754620314, 0.00552296731621027, 0.006498810835182667, -0.010755355469882488, -0.00904984399676323, -0.018109537661075592, -0.042334482073783875, 0.02732197754085064, -0.0019746252801269293, 0.01839621178805828, 0.008908684365451336, 0.04802190884947777, -0.016332484781742096, 0.035360146313905716, -0.0033546281047165394, 0.012828478589653969, 0.03884809836745262, 0.012142251245677471, -0.013863460160791874, 0.0038045200053602457, -0.005902342963963747, 0.05194152146577835, 0.0008972391951829195, 0.020293360576033592, -0.021781479939818382, 0.02201845683157444, 0.021543467417359352, -0.033542510122060776, 0.0243709534406662, 0.03521576151251793, 0.016547828912734985, -0.006345512345433235, -0.003047916106879711, -0.007866927422583103, 0.011805226095020771, 0.0007632069755345583, -0.026368338614702225, 0.024237560108304024, 0.018441323190927505, -0.01744147203862667, 0.0035249553620815277, -0.01570442132651806, -0.03197651728987694, 0.06670302897691727, 0.01999068818986416, 0.027924872934818268, -0.005456495564430952, -0.0036792305763810873, 0.020001502707600594, -0.012001972645521164, 0.02880791388452053, 0.04937655106186867, 0.03134270757436752, -0.045207083225250244, 0.04136534035205841, 0.03743192180991173, -0.02788126841187477, 0.01019649114459753, -0.009458857588469982, -0.01340463850647211, -0.02498432993888855, -0.014800644479691982, -0.016072774305939674, 0.03355317935347557, 0.02095552161335945, 0.013409394770860672, 0.011156436987221241, 0.00282041123136878, 0.013852338306605816, 0.007131068967282772, 0.018817389383912086, 0.03630645200610161, 0.019074946641921997, 0.018558409065008163, 0.007522648200392723, 0.017959361895918846, -0.028001872822642326, -0.028049109503626823, -0.006226879078894854, 0.033203452825546265, 0.018704934045672417, -0.02133164368569851, -0.014606684446334839, -0.007446581032127142, 0.02087821252644062, -0.011251813732087612, -0.003919537179172039, -0.038619302213191986, -0.027048693969845772, 0.0016840624157339334, -0.029041586443781853, 0.003143315203487873, 0.017738161608576775, 0.03313243389129639, 0.015235969796776772, -0.008607719093561172, 0.006887267809361219, 0.0022156068589538336, 0.02157009020447731, -0.02721090242266655, 0.02070627361536026, -0.029067836701869965, -0.006843877024948597, -0.05027933418750763, -0.01367354765534401, 0.009117424488067627, -0.057794876396656036, -0.04955228418111801, 0.03220009803771973, 0.0054522305727005005, -0.022807028144598007, -0.01319621130824089, -0.0062422906048595905, 0.008573354221880436, 0.009929632768034935, -0.022114988416433334, 0.01897202432155609, 0.0035443527158349752, 0.02340867556631565, -0.020607970654964447, -0.011395096778869629, -0.009432739578187466, -0.003817792283371091, -0.014702609740197659, 0.0012916738633066416, -0.009253066033124924, 0.0027000706177204847, -0.003633854677900672, 0.052290935069322586, -0.011997449211776257, 0.031395237892866135, -0.0028469045646488667, 0.03729618340730667, 0.0014503683196380734, -0.0013199979439377785, -0.01605222187936306, 0.008998492732644081, -0.035836245864629745, -0.012080114334821701, 0.007162265945225954, -0.021015368402004242, 0.054765429347753525, 0.0018861787393689156, -0.02344413287937641, -0.010321074165403843, 0.004285202827304602, -0.004600753076374531, -0.038572054356336594, 0.024733571335673332, 0.04669356346130371, -0.006650240160524845, 0.0198993980884552, 0.02240058220922947, -0.0066520823165774345, 0.014901631511747837, 0.015816209837794304, 0.006451357621699572, 0.004064113367348909, -0.013284720480442047, 0.02517147734761238, -0.0418049618601799, 0.020267654210329056, -0.018257731571793556, 0.013334335759282112, 0.010110973380506039, -0.027563130483031273, -0.010214443318545818, 0.010596808046102524, -0.004866829141974449, -0.02600312978029251, -0.0023455487098544836, 0.022986818104982376, 0.02220679260790348, 0.012913238257169724, -0.008292010985314846, -0.008142893202602863, -0.013126768171787262, 0.02791798859834671, 0.016468657180666924, 0.019687745720148087, 0.007838765159249306, -0.02877592295408249, -0.023342043161392212, 0.021429292857646942, 0.014109992422163486, 0.005399899557232857, 0.03338560089468956, -0.009700392372906208, -0.0036877456586807966, -0.004154582507908344, 0.0009880498982965946, 0.00415921863168478, 0.005775046069175005, 0.015367450192570686, -0.01862843707203865, -0.015303588472306728, -0.021380892023444176, 0.04046894237399101, -0.03077729046344757, 0.010672121308743954, 0.013627620413899422, 0.006481317803263664, -0.008367081172764301, -0.019924970343708992, -0.025810839608311653, 0.02687208540737629, -0.01464669220149517, 0.004926318768411875, -0.02382526360452175, -0.0014524878934025764, -0.009600632824003696, 0.006774228066205978, 0.0126494150608778, -0.018324173986911774, 0.0031921248883008957, 0.0081644207239151, 0.006324969232082367, -0.02669471502304077, -0.01738486997783184, -0.014436210505664349, -0.01422931719571352, 0.0033537752460688353, 0.009573370218276978, -0.004199175164103508, 0.02079468034207821, -0.0016938290791586041, -0.004825173411518335, 0.013936244882643223, -0.03308742120862007, -0.032218027859926224, 0.00901318620890379, -0.003166536334902048, 0.01401329692453146, 0.016434891149401665, -0.010670788586139679, -0.0007107923156581819, -0.013006449677050114, -0.04665996879339218, 0.023316659033298492, -0.021066002547740936, -0.011843009851872921, -0.04027761518955231, 0.007453139405697584, -0.012883192859590054, -0.025880241766572, -0.00217968481592834, 0.01976659893989563, -0.013625341467559338, 0.008254766464233398, 0.008706401102244854, 0.037940651178359985, 0.045833785086870193, -0.010349838994443417, 0.0002398303331574425, -0.014317722991108894, 0.013828374445438385, 0.03598886355757713, -0.10314343124628067, -0.008665797300636768, -0.0004931499133817852, -0.02748909965157509, 0.027813678607344627, 0.0017233674880117178, -0.001884200843051076, -0.016883820295333862, 0.012828272767364979, -0.03909100219607353, -0.022663451731204987, 0.016330750659108162, 0.008947670459747314, 0.006756573915481567, 0.011682219803333282, 0.005996535997837782, 0.012681555934250355, 0.02405516989529133, 0.02752489410340786, 0.016379324719309807, 0.01317246351391077, 0.038199588656425476, 0.013586016371846199, -0.0004235528758727014, 0.008380921557545662, -0.0010931403376162052, 0.02930937148630619, 0.021931534633040428, -0.022828709334135056, 0.0014979427214711905, 0.0015704663237556815, 0.03462236374616623, 0.009170553646981716, 0.00920316856354475, -0.018686069175601006, -0.007048785220831633, -0.0018377145752310753, 0.008859853260219097, 0.01807999052107334, 0.02388099394738674, 0.00033859524410218, 0.030903389677405357, 0.014690729789435863, -0.010108908638358116, 0.027807753533124924, -0.016076788306236267, -0.0075370678678154945, -0.03523343801498413, -0.013005401939153671, -0.0016701522981747985, -0.017948724329471588, 0.010608602315187454, -0.004464592318981886, 0.010211910121142864, 0.004768999293446541, 0.018038513138890266, 0.04442745819687843, 0.0429980531334877, -0.0028972034342586994, 0.002811867045238614, 0.010808363556861877, -0.017211943864822388, 0.037927135825157166, 0.001086044474504888, -0.032802876085042953, 0.015152886509895325, -0.013136649504303932, -0.026481224223971367, -0.03769630193710327, 0.011789615266025066, 0.01276016142219305, -0.013116827234625816, 0.0021789788734167814, -0.015764564275741577, 0.0034661232493817806, -0.034117765724658966, 0.0065236203372478485, -0.004609713330864906, -0.023442117497324944, 0.03430083394050598, -0.012959356419742107, -0.04054316505789757, 0.014796721749007702, -0.004367745015770197, 0.01434850599616766, -0.017035307362675667, -0.00924857147037983, -0.01386877242475748, 0.008050990290939808, 0.02622213214635849, 0.028326205909252167, -0.03916798532009125, 0.0009745201678015292, -0.004449356812983751, -0.03882009536027908, -0.005248148925602436, 0.008296366780996323, -0.010450385510921478, -0.0037824532482773066, 0.021771052852272987, -0.007984749972820282, 0.033659640699625015, -0.0468328520655632, 0.010885930620133877, -0.006568222306668758, -0.020629199221730232, 0.03337004408240318, 0.011454634368419647, -0.039593860507011414, 0.009299458004534245, -0.006795751396566629, -0.01699271984398365, -0.001042872783727944, 0.011503415182232857, 0.0024552051909267902, -0.0049688308499753475, 0.0160756167024374, -0.015428286045789719, 0.023524124175310135, -0.004223876167088747, 0.010768928565084934, 0.00473051005974412, -0.008336422964930534, -0.020908329635858536, 0.011422383598983288, -0.030062373727560043, 0.007847810164093971, -0.002084079897031188, 0.002699316944926977, -0.016674956306815147, 0.009704392403364182, 0.013018006458878517, 0.03756369650363922, 0.019263561815023422, 0.01131204329431057, -0.012137869372963905, 0.015861887484788895, 0.014672267250716686, -0.0017839192878454924, -0.006951658986508846, -0.007184523623436689, 0.024444270879030228, 0.011439365334808826, -0.0251571387052536, -0.0175517275929451, 0.0005100546986795962, -0.014962648041546345, 0.014265825040638447, -0.01012232806533575, -0.017573745921254158, -0.0223471038043499, 0.015392388217151165, -0.001172575750388205, 0.009548055939376354, 0.016514047980308533, 0.022913319990038872, -0.03561287000775337, -0.018965378403663635, -0.0416950099170208, 0.004027634859085083, 0.002108462853357196, 0.02197922021150589, -0.013891655020415783, -0.0345202274620533, 0.018057461827993393, 0.0282756257802248, -0.02542140893638134, 0.011320821940898895, -0.0058252825401723385, -0.0037877291906625032, -0.01843602955341339, -0.019320359453558922, 0.01053704135119915, 0.05194083973765373, 0.02897389978170395, -0.0031005898490548134, 0.0005142385489307344, -0.007779797073453665, -0.011000992730259895, 0.008796284906566143, -0.06473054736852646, 0.006696146447211504, 0.012565539218485355, 0.024237824603915215, -0.025713123381137848, 0.015511181205511093, -0.02062821388244629, 0.0035431834403425455, -0.04034951329231262, 0.012484890408813953, 0.023179274052381516, 0.010135591961443424, 0.05546460673213005, 0.018355004489421844, -0.008422843180596828, -0.007785896770656109, 0.00829256884753704, -0.012121232226490974, 0.00484880618751049, -0.0021346029825508595, 0.006846119649708271, 0.01476561464369297, 0.0017065058927983046, -0.008053225465118885, 0.00921549927443266, 0.017652835696935654, -0.0007380796014331281, 0.01122056320309639, -0.03654269129037857, -0.019486580044031143, -0.0033910623751580715, 0.003378687659278512, 0.005882129538804293, -0.008031651377677917, -0.03442041203379631, 0.02242387644946575, -0.01884053833782673, 0.016116024926304817, -0.01870572566986084, 0.014800570905208588, 0.008467539213597775, 0.04832741245627403, 0.010815571062266827, -0.0008507896563969553, -0.025013944134116173, 0.0016390688251703978, -0.003094402141869068, 0.023927446454763412, 0.029709218069911003, 0.0036696495953947306, 0.003284505568444729, 0.0006491632666438818, 0.03427176550030708, 0.03732569143176079, 0.012131942436099052, 0.00956893339753151, 0.03307212516665459, 0.011522532440721989, 0.016642410308122635, 0.015569130890071392, 0.027049632743000984, 0.005725228693336248, 0.0009013963863253593, 0.02150723524391651, -0.018322760239243507, 0.020140288397669792, 0.01231610868126154, 0.002231987426057458, 0.019400931894779205, -0.0080160703510046, -0.03721179813146591, 0.022238196805119514, -0.019328054040670395, -0.04909501597285271, 0.01623370312154293, -0.006555120926350355, -0.011383529752492905, 0.007610878441482782, -0.027584247291088104, 0.03576282411813736, 0.03137194365262985, -0.040429409593343735, 0.00038801541086286306, -0.006590092089027166, -0.03203381597995758, 0.014738202095031738, 0.01200107205659151, -0.04110782593488693, 0.026298316195607185, -0.03813179209828377, 0.01646323874592781, 0.018224578350782394, -0.006621460430324078, 0.007849506102502346, 0.037553299218416214, 0.002047895221039653, 0.006195657886564732, -0.049588996917009354, 0.01778387650847435, 0.006366036366671324, -0.004843087401241064, -0.02487560175359249, -0.01989264413714409, 0.007923583500087261, 0.013384604826569557, 0.011422008275985718, -0.000324153748806566, 0.00697230314835906, 0.010477239266037941, 0.03952211141586304, -0.03873807564377785, -0.009961397387087345, 0.017962023615837097, -0.008947273716330528, 0.018219582736492157, 0.0005007897852919996, 0.003855811432003975, 0.003193669021129608, -0.016311749815940857, 0.029165752232074738, 0.03393252193927765, 0.028936583548784256, -0.011735041625797749, -0.015619494020938873, -0.002371968235820532, -0.006656483747065067, 0.014362606219947338, 0.0077804517932236195, 0.004446864128112793, 0.00045956650865264237, -0.029846617951989174, -0.014789467677474022, 0.019614674150943756, 0.027502767741680145, -0.003695341059938073, -0.007684640120714903, 0.01711917854845524, 0.006578459870070219, -0.020896609872579575, 0.011352603323757648, 0.005963211879134178, -0.000952902075368911, 0.0037054184358567, 0.024611951783299446, 0.004830081947147846, 0.0283738374710083, -0.0006220496725291014, -0.006459574680775404, -0.005311036482453346, -0.0061840177513659, 0.02488066256046295, -0.018732739612460136, -0.021484144032001495, -0.005467877723276615, 0.03765029460191727, 0.022483661770820618, 0.015179270878434181, 0.002850243588909507, 0.035665113478899, -0.008462991565465927, 0.004033097997307777, -0.03406829759478569, 0.013002147898077965, -0.014833438210189342, -0.01020759902894497, -0.012236494570970535, -0.018671516329050064, -0.025692664086818695, 0.0025464792270213366, 0.04035794362425804, 0.015084933489561081, 0.018447794020175934, 0.005287194158881903, 0.0640045627951622, 0.0060965451411902905, -0.014816761948168278, 0.017285818234086037, -0.009713951498270035, 0.013223893940448761, 0.022303858771920204, -0.0008293333230540156, 0.011145628057420254, 0.003522061975672841, 0.02273271419107914, -0.028656328096985817, -0.026678655296564102, -0.011116273701190948, 0.010470778681337833, -0.0019196573412045836, -0.010415568947792053, -0.02787349373102188, -0.011053438298404217, 0.018782829865813255, 0.006775573827326298, 0.005700628738850355, -0.019242534413933754, 0.011544591747224331, -0.024396168068051338, -0.012266404926776886, 0.0008491609478369355, -0.03019600734114647, 0.014801218174397945, -0.011396574787795544, 0.023312116041779518, -0.021014347672462463, 0.029840441420674324, -0.0030955348629504442, -0.016761906445026398, -0.015532203949987888, 0.007708027493208647, -0.030932199209928513, -0.011621927842497826, -0.02172628790140152, -0.010449009947478771, -0.004767506383359432, -0.014789034612476826, -0.015409503132104874, -0.0003170286363456398, -0.009608875028789043, 0.03036261349916458, -0.01083607692271471, -0.006615674123167992, -0.025828072801232338, -0.008318745531141758, 0.0037145474925637245, -0.015623155049979687, 0.010328486561775208, 0.0076581877656280994, -0.0037927236407995224, -0.05103376880288124, -0.042755354195833206, -0.02620517462491989, -0.017388632521033287, -0.010038774460554123, 0.008917824365198612, -0.03333957493305206, 0.012147707864642143, -0.07353293895721436, 0.022183261811733246, 0.022913753986358643, 0.001410102704539895, -0.030779600143432617, -0.023136796429753304, -0.03605629876255989, 0.05409762263298035, -0.0030132534448057413, -0.05125782638788223, 0.011853703297674656, 0.0031832423992455006, -0.00550543749704957, 0.018090786412358284, 0.004802018404006958, -0.014660538174211979, 0.0347726009786129, -0.028184952214360237, -0.008887249045073986, -0.03821349889039993, -0.0025211700703948736, -0.00790875218808651, -0.05145912617444992, -0.0178446713835001, -0.013821742497384548, -0.015847813338041306, 0.01229504868388176, 0.009182962588965893, 0.02846458926796913, -0.013561435975134373, -0.028324414044618607, 0.008327143266797066, 0.03541279211640358, -0.0202195942401886, 0.014409622177481651, -0.0024691687431186438, 0.02207763120532036, -0.015161876566708088, -0.005611631087958813, -0.008497742004692554, -0.013381320983171463, -0.004774745553731918, 0.012379197403788567, -0.000134914560476318, -0.0014507799642160535, 0.032139383256435394, -0.0338268056511879, 0.011234560050070286, -0.011492620222270489, -0.033368512988090515, -0.012610646896064281, 0.02556704357266426, -0.01290189940482378, -0.029630787670612335, 0.00989357940852642, 0.034960199147462845, 0.009752334095537663, 0.024134403094649315, -0.012203642167150974, 0.01422901451587677, -0.053931690752506256, -0.004257543943822384, -0.00034987489925697446, -0.001503457548096776, 0.0015443995362147689, -0.018857721239328384, -0.00997744221240282, 0.05551408976316452, -0.0069380407221615314, -0.028867773711681366, 0.02928095869719982, -0.045287881046533585, 0.0071687656454741955, -0.009198014624416828, 0.011120553128421307, 0.007972370833158493, -0.02018021233379841, 0.016246594488620758, -0.05467870086431503, -0.020606629550457, 0.0437937006354332, -0.017003264278173447, 0.008884036913514137, 0.012978680431842804, -0.01794704794883728, -0.03985803574323654, -0.008522448129951954, -0.013816697522997856, 0.02015373483300209, -0.0046174004673957825, 0.0007799573359079659, -0.0035285362973809242, -0.008366644382476807, 0.014546521939337254, 0.0018580384785309434, 0.01827915757894516, -0.019659532234072685, -0.015721961855888367, 0.0048566595651209354, 0.01593927852809429, -0.01788187026977539, -0.041545119136571884, 0.012626143172383308, 0.01018119603395462, 0.0212075337767601, 0.00872470997273922, -0.029671380296349525, -0.019656730815768242, 0.012116084806621075, -0.018427211791276932, -0.020522329956293106, -0.0007446312229149044, -0.03670826181769371, -0.0005858209333382547, -0.004071896895766258, 0.016853250563144684, 0.03617187961935997, -0.022219931706786156, -0.02121957205235958, 0.005663818214088678, -0.028258666396141052, -0.006713793147355318, -0.026662811636924744, -3.0206507290131412e-05, -0.029426313936710358, 0.0001317931746598333, -0.02284785360097885, 0.00755115645006299, 0.020276663824915886, -0.01839790865778923, 0.005240255501121283, -0.0207073912024498, -0.01750992238521576, 0.021771008148789406, -0.006326645612716675, 0.007687291130423546, 0.03297765180468559, 0.010852739214897156, 0.029385991394519806, -0.008299668319523335, -0.02447916939854622, -0.0008978053228929639, 0.03982099890708923, -0.02396947517991066, 0.005733251105993986, 0.034366827458143234, -0.024209413677453995, -0.025533806532621384, 0.020707640796899796, 0.01832917332649231, 0.019580991938710213, 0.046806901693344116, 0.01993429660797119, 0.015775680541992188, -0.01968972384929657, -0.02594950795173645, 0.0005372795276343822, -0.004935014061629772, 0.01652856171131134, -0.022228268906474113, -0.0023735270369797945, -0.016280191019177437, 0.023004785180091858, -0.02263394556939602, 0.014543007127940655, -0.004938966128975153, 0.03699461743235588, 0.015636485069990158, -0.006201128475368023, -0.020765254274010658, -0.013656900264322758, 0.00931138452142477, -0.0034797778353095055, -0.028658036142587662, 0.00876615196466446, -0.02783156745135784, -0.02131945639848709, -0.017796793952584267, 0.02565876767039299, 0.032418981194496155, -0.0173026230186224, 0.014497299678623676, -0.009359428659081459, 0.009218632243573666, 0.01363431103527546, -0.02137897163629532, -0.019567441195249557, 0.03426674008369446, -0.008428722620010376, -0.021433718502521515, -0.011711528524756432, 0.013859673403203487, 0.01183881051838398, -0.003469180315732956, -0.010128297843039036, 0.04441412538290024, -0.06496040523052216, 0.0032493025064468384, -0.010190000757575035, -0.04625742882490158, -0.022419361397624016, -0.0037887622602283955, 0.0004610058676917106, 0.027268197387456894, -0.0131435077637434, 0.004124651663005352, 0.019888881593942642, 0.026707272976636887, -0.005511772353202105, 0.03924254700541496, -0.01710735447704792, 0.014057938940823078, 0.01200657244771719, 0.01434831228107214, -0.0036445753648877144, 0.02698548510670662, 0.0005955288652330637, -0.0032585342414677143, -0.01077315490692854, -0.009738657623529434, -0.0009131402475759387, 0.010651526041328907, 0.016074776649475098, -0.04237093776464462, 0.010959815233945847, 0.010999312624335289, 0.004134909249842167, -0.01089124009013176, 0.013028196059167385, -0.0008719739271327853, 0.004774334374815226, 0.024394333362579346, 0.015696685761213303, 0.0030008854810148478, 0.009882303886115551, -0.0061208950355648994, 0.020038459450006485, 0.01714373752474785, -0.02948955073952675, -0.020003139972686768, -0.00973314419388771, -0.003263321239501238, 0.05249697342514992, 0.015188528224825859, 0.016567343845963478, 0.004744616337120533, 0.01860726624727249, 0.0017996475799009204, -0.024129586294293404, -0.011725238524377346, -0.0073347510769963264, -0.010680626146495342, 7.188383460743353e-05, -0.014119160361588001, 0.01142314076423645, 0.03411482647061348, 0.04144957661628723, 0.03694017976522446, -0.022051269188523293, 0.023003412410616875, -0.011854635551571846, 0.003900176379829645, -0.009175984188914299, 0.01677199825644493, 0.006959438323974609, -0.004367855377495289, 0.015973588451743126, 0.0017907337751239538, -0.0013208802556619048, -0.00032474935869686306, -0.012070287019014359, 0.022097110748291016, 0.03063781186938286, -0.011371779255568981, -0.020709125325083733, -0.026680346578359604, -0.00924032274633646, 0.01357816718518734, 0.016544651240110397, 0.030123703181743622, -0.0030228127725422382, 0.0027702043298631907, -0.002317389938980341, 0.02949601598083973, -0.05025554075837135, 0.042710985988378525, -0.009374517016112804, -0.008134319446980953, -0.019889162853360176, -0.027039876207709312, -0.04726438596844673, 0.002385997911915183, 0.0018986642826348543, 0.014191760681569576, -0.014639289118349552, -0.011594710871577263, -0.02133769728243351, -0.013458538800477982, 0.012889854609966278, -0.026188276708126068, -0.00029580024420283735, 0.026325983926653862, -0.00852652546018362, -0.010847070254385471, -0.03827325627207756, -0.005310757085680962, -0.019398579373955727, 0.023233603686094284, 0.014531741850078106, 0.016406329348683357, 0.013383336365222931, 0.010977933183312416, 0.038570329546928406, -0.02621370740234852, -0.03952181711792946, 0.015557344071567059, -0.018811581656336784, 0.03335675969719887, -0.009675259701907635, 0.015839776024222374, -0.023474661633372307, -0.028683623299002647, -0.010121587663888931, -5.4648189689032733e-05, 0.015024310909211636, 0.03807638958096504, 0.002594392979517579, 0.0009488358628004789, 0.025220640003681183, -0.018177567049860954, 0.008520896546542645, -0.017801787704229355, 0.031778156757354736, 0.0010380949825048447, 0.025158924981951714, -0.0033129362855106592, 0.0418163500726223, -0.013614167459309101, -0.033138569444417953, 0.061675041913986206, 0.011482421308755875, 0.020326582714915276, 0.006341785658150911, 0.004502725787460804, -0.0018954372499138117, 0.0023219340946525335, -0.008771078661084175, -0.008453402668237686, -0.015792319551110268, 0.007879063487052917, -0.029577817767858505, -0.041054099798202515, -0.029879529029130936, 0.003272817935794592, 0.0073602995835244656, 0.018527990207076073, 0.006481898948550224, -0.03573467954993248, 0.013219332322478294, -0.003948557190597057, -0.016496753320097923, -0.023965628817677498, 0.002641448052600026, -0.0147177679464221, 0.042609911412000656, 0.013568596914410591, 0.013506014831364155, -0.0009814836084842682, 0.00028198008658364415, -0.035052668303251266, 0.0142124705016613, 0.04163512587547302, 0.029366225004196167, -0.015423436649143696, 0.0030449931509792805, -0.04794563725590706, -0.004251356702297926, 0.027575556188821793, -0.036098662763834, -0.003174514276906848, 0.02166089601814747, 0.013903171755373478, 0.03116583824157715, -0.006803552620112896, 0.05382414162158966, 0.0005983322625979781, -0.01708552986383438, -0.026002714410424232, 0.014564136043190956, 0.004211425315588713, 0.01780467852950096, -0.03921816125512123, -0.009110383689403534, 0.040053438395261765, -0.025600779801607132, 0.015677236020565033, 0.0015855475794523954, -0.001386352232657373, -0.006290071178227663, 0.005989682860672474, -0.006270762532949448, 0.009322913363575935, 0.03810881823301315, 0.007478258106857538, -0.007363395299762487, 0.010516265407204628, 0.008407361805438995, 0.027263766154646873, -0.027247387915849686, 0.019236082211136818, 0.02619296871125698, 0.031469449400901794, 0.009136226028203964, 0.024281229823827744, -0.011303373612463474, 0.005262138321995735, -0.004156277049332857, -0.0109624732285738, 0.0029272923711687326, -0.030438028275966644, 0.013582817278802395, -0.03236402943730354, 0.016819113865494728, 0.016028568148612976, -0.01204941887408495, 0.01216149516403675, 0.0065711066126823425, 0.02772785909473896, -0.012065492570400238, -0.11284657567739487, -0.007791534066200256, -0.03530033305287361, -0.015759451314806938, 0.024035202339291573, 0.020416010171175003, -0.007746878080070019, 0.008525264449417591, -0.008035345003008842, 0.04798709601163864, 0.024963950738310814, 0.022738531231880188, 0.007353357970714569, -0.002460039919242263, 0.016466738656163216, -0.013005062937736511, 0.006750213447958231, -0.0369441919028759, 0.048545390367507935, -0.02250322885811329, -0.018054815009236336, 0.006429050583392382, -0.014533786103129387, 0.009530315175652504, -0.008890978991985321, 0.030282530933618546, 0.026766186580061913, 0.02487676776945591, 0.04804876446723938, 0.004525726195424795, -0.035290490835905075, 0.0023949190508574247, -0.03916295990347862, 0.00670289434492588, -0.0016518284101039171, 0.05293968319892883, -0.006826670840382576, 0.025637777522206306, 0.00543868588283658, -0.03785393014550209, 0.009682769887149334, -0.001106044976040721, -0.0052372850477695465, -0.02398057095706463, 0.03383070230484009, 0.0010032348800450563, 0.029970472678542137, -0.026714244857430458, -0.0029262369498610497, 0.011039854027330875, 0.007659746799618006, -0.04784681275486946, -0.004737700801342726, 0.01802191697061062, 0.008670326322317123, -0.014072173275053501, 0.011980785056948662, 0.007201847620308399, 0.05029108002781868, -0.026954203844070435, 0.062441177666187286, -0.0046999212354421616, 0.026524299755692482, -0.02605447918176651, 0.031604867428541183, -0.01074755284935236, -0.011210850439965725, 0.018078381195664406, -0.008553224615752697, -0.02389855682849884, 0.0021653021685779095, 0.021673470735549927, -0.009097644127905369, -0.017267398536205292, -0.026299746707081795, 0.015079282224178314, 0.012538587674498558, -0.019651494920253754, -0.004151762463152409, -0.008166478015482426, 0.027297992259263992, 0.04199569299817085, 0.006015793886035681, -0.010917703621089458, -0.009528737515211105, -0.012579131871461868, 0.019216105341911316, -0.014306295663118362, 0.01086718961596489, -0.04593159630894661, -0.0004545461852103472, 0.024558022618293762, -0.03270547091960907, 0.0019344628090038896, -0.049602821469306946, -0.004466460086405277, 0.015409848652780056, 0.01377326250076294, 0.011435355059802532, -0.013858897611498833, 0.006656155455857515, 0.012494608759880066, 0.0017440764931961894, 0.0021687359549105167, 0.01750842109322548, 0.00446153711527586, -0.04948555678129196, -0.019783487543463707, -0.02171005867421627, -0.013899434357881546, 0.04290250316262245, -0.04491936415433884, -0.004029234405606985, 0.0032852296717464924, -0.0037277720402926207, -0.036480702459812164, -0.02588178589940071, -0.02195095829665661, 0.031086482107639313, -0.00884415302425623, 0.015244819223880768, 0.014648097567260265, 0.03493482992053032, 0.0016341587761417031, 0.01775246672332287, 0.003362981602549553, 0.004190998617559671, 0.004475778434425592, -0.011834084056317806, 0.0326235257089138, -0.00705349538475275, -0.014220809563994408, 0.008372453041374683, -0.0047330171801149845, 0.002518485998734832, -0.005536099895834923, -0.011708522215485573, 0.001922260387800634, 0.028515927493572235, 0.03427496924996376, 0.014839938841760159, -0.014681951142847538, 0.011443032883107662, 0.04452726989984512, 0.005169842392206192, -0.0213911272585392, 0.052140939980745316, 0.014920664951205254, 0.014535197988152504, -0.015006343834102154, -0.021697990596294403, 0.00295326323248446, 0.03898344188928604, -0.0007404712378047407, -0.01643425226211548, -0.010948914103209972, -0.04114699736237526, 0.01361481100320816, -0.03914215788245201, 0.004847903735935688, 0.015412289649248123, 0.01116816233843565, -0.027416950091719627, 0.007871284149587154, 0.02853524498641491, -0.002940509235486388, -0.015417231246829033, -0.04029746726155281, -0.019642408937215805, 0.001628671190701425, -0.02151738665997982, -0.015089782886207104, 0.016457965597510338, 0.04382631927728653, -0.009196901693940163, -0.010526217520236969, 0.0008830183069221675, -0.03665308281779289, -0.04626625031232834, -0.022725380957126617, -0.013442215509712696, 0.012184957973659039, -0.02029953896999359, -0.03870021924376488, -0.005569093395024538, 0.006224452517926693, 0.04798116907477379, -0.01501519326120615, -0.015918616205453873, 0.019198279827833176, 0.02104642055928707, -0.029534103348851204, -0.016406362876296043, 0.026332279667258263, 0.011113581247627735, -0.01170738972723484, -0.0072225905023515224, 0.04244549944996834, 0.005830470006912947, 0.005326868034899235, 0.006088361609727144, 0.03802434355020523, 0.013905045576393604, 0.008159470744431019, 0.038461834192276, 0.011524775065481663, -0.009232801385223866, -0.012217986397445202, 0.03105117194354534, -0.03162122145295143, -0.036961473524570465, -0.010778548195958138, -0.03916104510426521, 0.009524354711174965, 0.021492106840014458, -0.019953979179263115, -0.01519058644771576, 0.0023461789824068546, 0.02152314782142639, -0.012979952618479729, 0.04013008251786232, 0.007986040785908699, 0.003448284463956952, 0.01733699068427086, -0.005648712627589703, 0.019920676946640015, -0.05459221825003624, -0.024656429886817932, 0.024314474314451218, -0.005338761489838362, 0.009647552855312824, 0.00845640990883112, 0.024554302915930748, -0.013663489371538162, 0.01618064008653164, -0.028812002390623093, -0.017585085704922676, -0.012287047691643238, -0.01549780648201704, -0.04078328609466553, 0.000999542768113315, -0.013489631935954094, 0.006546318996697664, -0.009483697824180126, -0.026524100452661514, 0.003790654009208083, -0.013020372949540615, -0.0023146397434175014, -0.013068138621747494, -0.016547931358218193, -0.007046381011605263, -0.005128870718181133, 0.002629289636388421, 0.00045025930739939213, -0.010314074344933033, 0.005004633218050003, 0.024983050301671028, 0.00952966883778572, -0.015847401693463326, -0.009698467329144478, -0.012398021295666695, -0.09592635184526443, -0.047293905168771744, -0.0002816639025695622, 0.01758386380970478, -0.0018287713173776865, 0.03496519476175308, 0.00026653491659089923, 0.006700896192342043, -0.031184064224362373, -0.0013602671679109335, 0.024351371452212334, 0.02500109001994133, -0.008709282614290714, -0.04706544056534767, 0.026476385071873665, -0.015409260056912899, 0.03307494893670082, -0.0014949905453249812, -0.027656055986881256, -0.042640767991542816, 0.005467054434120655, -0.004541711416095495, -0.008974348194897175, 0.024807631969451904, 0.014574000611901283, 0.011699631810188293, 0.01652805507183075, 0.008022996596992016, -0.021893629804253578, 0.008646754547953606, 0.015051208436489105, 0.024494484066963196, -0.008445792831480503, 0.030064091086387634, -0.006842406000941992, 0.0025832445826381445, -0.017923636361956596, -0.029069367796182632, -0.030008327215909958, -0.025005724281072617, -0.038556549698114395, 0.005825642496347427, 0.0370173379778862, -0.009017863310873508, 0.02753058448433876, 0.021427670493721962, -0.005115392617881298, -0.0018569906242191792, -0.010345753282308578, -0.025470511987805367, -0.006567963398993015, -0.01960405334830284, -0.018654705956578255, 0.0168739166110754, 0.012039374560117722, 0.0325615331530571, -0.0034522516652941704, -0.0009188866824842989, -0.0018036990659311414, -0.0033282029908150434, 0.0060457466170191765, -0.0002383431710768491, 0.01900249719619751, 0.03359866514801979, -0.019500168040394783, -0.00038825435331091285, 0.0032817150931805372, -0.025529542937874794, 0.023993870243430138, 0.042159974575042725, -0.03460514545440674, 0.03443692624568939, -0.01936112716794014, 0.022770294919610023, 0.029264703392982483, -0.007428223732858896, 0.015077664516866207, 0.013750556856393814, 0.0320732519030571, 0.018470926210284233, 0.017154591158032417, 0.017456023022532463, 0.0040842997841537, 0.04217427968978882, 0.000754508248064667, 0.01880543678998947, 0.0035580885596573353, 0.0035684453323483467, 0.06549534201622009, 0.04687148705124855, -0.019935905933380127, -0.01697658747434616, -0.010124385356903076, -0.023065615445375443, -0.016176145523786545, 0.018410716205835342, 0.06235196813941002, -0.06678561866283417, -0.02713819034397602, 0.005091730505228043, 0.010865813121199608, 0.04008946195244789, -0.01910838857293129, -0.0049880994483828545, -0.017927909269928932, -0.018028786405920982, -0.010139092803001404, -0.03603946790099144, 0.028106171637773514, 0.029726160690188408, 0.029310770332813263, -0.002635936951264739, -0.03642341494560242, -0.00852467305958271, 0.015082143247127533, 0.031502384692430496, -0.04390980675816536, -0.029628243297338486, 0.018980341032147408, -0.02386028878390789, -0.01646767556667328, -0.01826055347919464, -0.03628944233059883, -0.022204872220754623, 0.011456596665084362, -0.0780806764960289, -0.011973931454122066, 0.05137694254517555, -0.00691600376740098, 0.012479023076593876, 0.02686847560107708, -0.009043584577739239, 0.004099731799215078, 0.02306709624826908, 0.013546659611165524, -0.010602572001516819, 0.00267528323456645, 0.04500317573547363, -0.007067499216645956, -0.034342389553785324, -0.01950734108686447, 0.023798728361725807, -0.016863100230693817, 0.021482357755303383, 0.028849635273218155, -0.007556376978754997, -0.0022731057833880186, 0.009043539874255657, 0.0156600009649992, -0.020842989906668663, -0.0010119004873558879, -0.01471326407045126, 0.011661241762340069, -0.006020088214427233, -0.03201141953468323, -0.013453131541609764, -0.01856881193816662, -0.015980007126927376, 0.014795512892305851, 0.026742126792669296, -0.03005056455731392, 0.015908241271972656, -0.006827380042523146, 0.015227947384119034, 0.016511164605617523, -0.014088748022913933, -0.0033800203818827868, 0.01662277802824974, 0.0030565045308321714, -0.021976079791784286, -0.011385449208319187, -0.002760946750640869, -0.022890886291861534, 0.0017676027491688728, -0.021030258387327194, 0.013990767300128937, -0.007001233287155628, -0.008555853739380836, 0.019689908251166344, 0.03147665411233902, 0.0040943496860563755, -0.01538783498108387, -0.019292263314127922, -0.0022833377588540316, 0.008747122250497341, 0.041217852383852005, 0.00658203661441803, 0.008465983904898167, 0.03397674486041069, 0.001609294442459941, 0.03375549241900444, 0.009926602244377136, -0.01041773334145546, 0.01899445801973343, 0.008755739778280258, 0.012706233188509941, -0.046879276633262634, -0.019493991509079933, -0.015477294102311134, 0.0019930927082896233, 0.027740178629755974, 0.02224780060350895, -0.00043499981984496117, 0.01380306575447321, 0.018771300092339516, -0.021120982244610786, -0.014349781908094883, 0.041974134743213654, 0.009451298974454403, -0.0025125816464424133, 0.01188688538968563, 0.05190494284033775, 0.025169823318719864, 0.027790339663624763, -0.03808918595314026, 0.03541383519768715, -0.02136853337287903, 0.02190295234322548, -0.03765213117003441, 0.027688410133123398, -0.0016417582519352436, 0.026636552065610886, -0.0003216537006665021, -0.0040989890694618225, 0.041814278811216354, -0.032684456557035446, 0.039129748940467834, -0.0030517028644680977, -0.003931552171707153, 0.014069031924009323, 0.037517257034778595, 0.025215737521648407, -0.0026850446593016386, 0.03790498897433281, -0.006231879349797964, -0.01602848991751671, -0.016538508236408234, -0.010280938819050789, 0.008320098742842674, -0.027316506952047348, -0.004306269343942404, -0.028388559818267822, 0.04195242002606392, 0.007065910845994949, 0.008969097398221493, 0.008926456794142723, -0.0038267795462161303, -0.0009809320326894522, 0.014416401274502277, 0.03384587541222572, 0.017267931252717972, 0.0027274792082607746, -0.007895207963883877, -0.003192948643118143, 0.004888424649834633, 0.010167445987462997, -0.03336533531546593, -0.008693856187164783, 0.03079984337091446, -0.004769251216202974, -0.03383924067020416, 0.037384435534477234, 0.017675982788205147, -0.003251920221373439, 0.021431252360343933, -0.01919148676097393, 0.00309828482568264, -0.009199704974889755, -0.005727412644773722, -0.014041753485798836, 0.028343887999653816, -0.013258039020001888, 0.004301493521779776, -0.020427921786904335, -0.002106940606608987, 0.015940021723508835, -0.02263288013637066, -0.003552919253706932, 0.01327155064791441, -0.012167053297162056, -0.0034158502239733934, 0.028808213770389557, 0.016794167459011078, -0.013211448676884174, 0.005234317854046822, -0.01309822779148817, 0.0019738790579140186, -0.002009409246966243, -0.025896022096276283, 0.01989619992673397, 0.018697872757911682, -0.00596891762688756, -0.0234441626816988, 0.009071377106010914, 0.03152093663811684, 0.030413644388318062, 0.002319673076272011, -0.0038585264701396227, 0.002675143536180258, 0.011105053126811981, -0.016918394714593887, -0.006157024763524532, 0.010360075160861015, 0.053450047969818115, -0.0037382685113698244, -0.024640606716275215, -4.5236458390718326e-05, -0.0131000941619277, 0.021384678781032562, 0.03622676432132721, -0.0053449757397174835, -0.02205759659409523, -0.002686481922864914, -0.009916786104440689, -0.0029183030128479004, 0.012209664098918438, -0.041229039430618286, -0.013100308366119862, 0.01144532859325409, 0.0005433347541838884, -0.0247374065220356, 0.010187063366174698, -0.024316178634762764, 0.0032819723710417747, 0.003880830481648445, -0.007224362809211016, 0.043339572846889496, 0.01619795709848404, 0.020944738760590553, -0.008278664201498032, -0.02835654281079769, -0.024553073570132256, -0.015243480913341045, 0.016156937927007675, 0.04051654413342476, 0.04695873707532883, -0.014773158356547356, -0.003841954516246915, 0.009088834747672081, 0.007914936169981956, -0.028810331597924232, 0.026662904769182205, -0.02197042480111122, -0.019387150183320045, -0.03377708047628403, 0.0059749470092356205, -0.00494705094024539, -0.013288290239870548, 0.03206532448530197, 0.03163051977753639, -0.018961528316140175, -0.018058830872178078, 0.025958199054002762, -0.019377151504158974, -0.02760695107281208, -0.015691405162215233, -0.003388061886653304, 0.007009012624621391, 0.018170975148677826, -0.016051875427365303, 0.01391485147178173, 0.007110544480383396, -0.017760206013917923, -0.019334612414240837, 0.0053443387150764465, -0.03639194369316101, 0.03310798481106758, -0.04519584774971008, -0.028843551874160767, -0.03921456262469292, 0.006049517076462507, -0.012265974655747414, 0.004672743380069733, -0.02242131717503071, -0.0033634428400546312, 0.013722375966608524, 0.01207379437983036, 0.05174915865063667, 0.020381862297654152, -0.009103952907025814, -0.01498373318463564, -0.01352368388324976, 0.010524475015699863, 0.011238990351557732, -0.008755210787057877, 0.004936867393553257, 0.0011173650855198503, 0.0009649041458033025, -0.026411840692162514, -0.04800499230623245, -0.01553656067699194, -0.012464662082493305, 0.0184154212474823, -0.011587850749492645, -0.008562001399695873, -0.03805813938379288, -0.013179408386349678, -0.0011389574501663446, 0.007966794073581696, 0.004935611039400101, -0.009566079825162888, 0.023809488862752914, -0.029186177998781204, -0.02916392683982849, 0.016520503908395767, -0.03023471310734749, -0.03308381140232086, -0.018775759264826775, -0.03098207525908947, -0.005260175094008446, -0.01228926982730627, 0.006857892032712698, 0.0022040014155209064, 0.007410594727844, 0.013175198808312416, -0.03969770297408104, -0.015396716073155403, -0.015835827216506004, -0.02578923851251602, 0.0002941237180493772, -0.010594233870506287, -0.019068295136094093, 0.010428465902805328, 0.01141494233161211, -0.007516530342400074, 0.0013334761606529355, -0.024579793214797974, -0.017746351659297943, -0.02036924660205841, 0.02421650104224682, 0.05701836943626404, -0.018025998026132584, 0.00858418457210064, -0.007926883175969124, 0.06531328707933426, -0.029331255704164505, 0.008978936821222305, 0.014365936629474163, 0.03229602798819542, 0.015274228528141975, 0.020967405289411545, 0.04300069063901901, 0.012229046784341335, 0.028653770685195923, 0.007440789137035608, -0.015487441793084145, 0.000942953338380903, 0.01772613264620304, 0.016614506021142006, 0.012646393850445747, 0.016413094475865364, 0.010550116188824177, -0.031241528689861298, 0.0034187177661806345, -0.013665599748492241, -0.00931619293987751, -0.01918049342930317, 0.010632970370352268, -0.028698932379484177, -0.05635162442922592, 0.007679034024477005, 0.001437588594853878, 0.005121984519064426, 0.017549609765410423, 0.010137930512428284, 0.023822814226150513, -0.018183303996920586, -0.000929846428334713, -0.009826350025832653, 0.010055157355964184, -0.005266329739242792, 0.020023591816425323, -0.03234583139419556, -0.004877711180597544, -0.021366117522120476, 0.003099770052358508, -0.018168067559599876, 0.021550988778471947, -0.020266743376851082, 0.0064791119657456875, 0.0007329637301154435, 0.00977330468595028, 0.018103286623954773, 0.023026831448078156, 0.00700913043692708, -0.03747572377324104, -0.039824169129133224, -0.015675675123929977, 0.011666256003081799, 0.025484880432486534, -0.006961747072637081, 0.033708617091178894, -0.008284671232104301, 0.008791211992502213, -0.021931376308202744, 0.01445641741156578, -0.015013501979410648, 0.003958449698984623, 0.019598670303821564, 0.008512837812304497, 0.017065728083252907, -0.02002350427210331, -0.009679178707301617, 0.007905788719654083, -0.023623840883374214, -0.012281762436032295, 0.032465241849422455, 0.006522497162222862, -0.027445245534181595, -0.008852197788655758, 0.003933960106223822, -0.0035422903019934893, 0.02880299650132656, 0.007764631416648626, -0.04113704338669777, 0.00525884423404932, 0.01195758581161499, 0.011250460520386696, -0.01887856237590313, -0.002554538194090128, -0.010914101265370846, 0.005615105386823416, 0.00536333629861474, 0.004762230906635523, -0.007155462168157101, -0.0016908952966332436, 0.006441030651330948, 0.014544297009706497, -0.003909147344529629, -0.015817811712622643, -0.01527139637619257, 0.011037136428058147, -0.0038859774358570576, 0.013900105841457844, 0.02551998570561409, 0.015403613448143005, 0.01842539571225643, 0.013578795827925205, -0.028225857764482498, -0.01813427358865738, 0.028678681701421738, 0.02640681155025959, -0.02346877194941044, 0.030183110386133194, 0.0004872380231972784, -0.005773781333118677, -0.02404221147298813, 0.011890790425240993, 0.0019295694073662162, 0.0500015951693058, 0.015951113775372505, 0.02057277224957943, -0.010231549851596355, 0.012195517309010029, -0.018778419122099876, -0.009854252450168133, 0.030962355434894562, -0.020222598686814308, -0.014472322538495064, 0.014231748878955841, 0.0005522320279851556, -0.04175276681780815, 0.04058172553777695, 0.004799732007086277, 0.023739712312817574, 0.0026588693726807833, -0.004866556730121374, -0.0020109442993998528, 0.026380406692624092, -0.01691230572760105, -0.003138373838737607, 0.005557029042392969, -0.0209600068628788, -0.015398609451949596, -0.002755630761384964, 0.007834123447537422, -0.0006758081144653261, 0.019597288221120834, -0.04710015282034874, 0.01554980780929327, 0.020626205950975418, -0.0397123247385025, 0.05131235346198082, 0.009760198183357716, -0.006878585554659367, -0.0009258757927455008, -0.021744627505540848, -0.03291982784867287, -0.016666417941451073, -0.025652267038822174, 0.02051386423408985, 0.01054911594837904, -0.025785475969314575, -0.02463170886039734, 0.025315770879387856, -0.01508462056517601, -0.016204746440052986, 0.004264408256858587, 0.011669447645545006, -0.018620120361447334, 0.02235863171517849, 0.005766288377344608, 0.016603151336312294, 0.05024965479969978, 0.036335207521915436, -0.03137694299221039, -0.0307497289031744, -0.011685197241604328, 0.005718619097024202, -0.02739427238702774, 0.0012667615665122867, -0.04209239035844803, -0.04087015613913536, 0.005569056607782841, -0.040448956191539764, -0.028681283816695213, 0.02356201782822609]\n"
     ]
    }
   ],
   "source": [
    "print(image_embeddings.tolist()[0])"
   ]
  },
  {
   "cell_type": "code",
   "execution_count": 40,
   "id": "df5be29a",
   "metadata": {},
   "outputs": [
    {
     "name": "stdout",
     "output_type": "stream",
     "text": [
      "✅ Cosine similarity: [[0.61081374]]\n"
     ]
    }
   ],
   "source": [
    "import numpy as np\n",
    "\n",
    "def cosine_similarity(a, b):\n",
    "    return np.dot(a, b.T) / (np.linalg.norm(a) * np.linalg.norm(b))\n",
    "\n",
    "sim = cosine_similarity(text_embeddings, image_embeddings)\n",
    "print(\"✅ Cosine similarity:\", sim)\n"
   ]
  },
  {
   "cell_type": "markdown",
   "id": "762aff19",
   "metadata": {},
   "source": [
    "🚀 Facciamo subito uno script completo per:\n",
    "\n",
    "- ✅ 1️⃣ Loopare tutti i chunks_with_images\n",
    "- ✅ 2️⃣ Calcolare cosine_similarity tra testo & ciascuna immagine\n",
    "- ✅ 3️⃣ Salvare risultati chunk, image_path, similarity\n",
    "- ✅ 4️⃣ Filtrare solo coppie con similarità > threshold (es. 0.4)\n",
    "- ✅ 5️⃣ Esportare tutto in un .json leggibile"
   ]
  },
  {
   "cell_type": "code",
   "execution_count": 49,
   "id": "2d2fb13b",
   "metadata": {},
   "outputs": [
    {
     "name": "stdout",
     "output_type": "stream",
     "text": [
      "45\n"
     ]
    }
   ],
   "source": [
    "print(len(chunks_with_images))"
   ]
  },
  {
   "cell_type": "code",
   "execution_count": 61,
   "id": "2d8a83b2",
   "metadata": {},
   "outputs": [
    {
     "name": "stderr",
     "output_type": "stream",
     "text": [
      "Encoding texts...: 100%|██████████| 1/1 [00:00<00:00,  2.14it/s]\n",
      "Encoding images...: 100%|██████████| 1/1 [00:00<00:00,  8.13it/s]\n",
      "C:\\Users\\felip\\AppData\\Local\\Temp\\ipykernel_4440\\3323855168.py:46: DeprecationWarning: Conversion of an array with ndim > 0 to a scalar is deprecated, and will error in future. Ensure you extract a single element from your array before performing this operation. (Deprecated NumPy 1.25.)\n",
      "  sim_value = float(sim)\n"
     ]
    },
    {
     "name": "stdout",
     "output_type": "stream",
     "text": [
      "[Chunk 1] Page 12 | 414759-1-_5_Nike-NPS-Combo_Form-10-K_WR.pdf-11-0.png | Similarity: 0.4219\n"
     ]
    },
    {
     "name": "stderr",
     "output_type": "stream",
     "text": [
      "Encoding texts...: 100%|██████████| 1/1 [00:00<00:00, 12.81it/s]\n",
      "Encoding images...: 100%|██████████| 1/1 [00:00<00:00,  9.18it/s]\n"
     ]
    },
    {
     "name": "stdout",
     "output_type": "stream",
     "text": [
      "[Chunk 1] Page 12 | 414759-1-_5_Nike-NPS-Combo_Form-10-K_WR.pdf-11-1.png | Similarity: 0.4437\n"
     ]
    },
    {
     "name": "stderr",
     "output_type": "stream",
     "text": [
      "Encoding texts...: 100%|██████████| 1/1 [00:00<00:00, 12.82it/s]\n",
      "Encoding images...: 100%|██████████| 1/1 [00:00<00:00,  8.55it/s]\n"
     ]
    },
    {
     "name": "stdout",
     "output_type": "stream",
     "text": [
      "[Chunk 1] Page 12 | 414759-1-_5_Nike-NPS-Combo_Form-10-K_WR.pdf-11-2.png | Similarity: 0.4168\n"
     ]
    },
    {
     "name": "stderr",
     "output_type": "stream",
     "text": [
      "Encoding texts...: 100%|██████████| 1/1 [00:00<00:00, 12.74it/s]\n",
      "Encoding images...: 100%|██████████| 1/1 [00:00<00:00,  8.77it/s]\n"
     ]
    },
    {
     "name": "stdout",
     "output_type": "stream",
     "text": [
      "[Chunk 1] Page 12 | 414759-1-_5_Nike-NPS-Combo_Form-10-K_WR.pdf-11-3.png | Similarity: 0.3742\n"
     ]
    },
    {
     "name": "stderr",
     "output_type": "stream",
     "text": [
      "Encoding texts...: 100%|██████████| 1/1 [00:00<00:00, 13.25it/s]\n",
      "Encoding images...: 100%|██████████| 1/1 [00:00<00:00,  8.73it/s]\n"
     ]
    },
    {
     "name": "stdout",
     "output_type": "stream",
     "text": [
      "[Chunk 1] Page 12 | 414759-1-_5_Nike-NPS-Combo_Form-10-K_WR.pdf-11-4.png | Similarity: 0.3503\n"
     ]
    },
    {
     "name": "stderr",
     "output_type": "stream",
     "text": [
      "Encoding texts...: 100%|██████████| 1/1 [00:00<00:00, 12.69it/s]\n",
      "Encoding images...: 100%|██████████| 1/1 [00:00<00:00,  7.74it/s]\n"
     ]
    },
    {
     "name": "stdout",
     "output_type": "stream",
     "text": [
      "[Chunk 1] Page 12 | 414759-1-_5_Nike-NPS-Combo_Form-10-K_WR.pdf-11-5.png | Similarity: 0.4127\n"
     ]
    },
    {
     "name": "stderr",
     "output_type": "stream",
     "text": [
      "Encoding texts...: 100%|██████████| 1/1 [00:00<00:00, 14.70it/s]\n",
      "Encoding images...: 100%|██████████| 1/1 [00:00<00:00,  8.98it/s]\n"
     ]
    },
    {
     "name": "stdout",
     "output_type": "stream",
     "text": [
      "[Chunk 1] Page 12 | 414759-1-_5_Nike-NPS-Combo_Form-10-K_WR.pdf-11-6.png | Similarity: 0.3819\n"
     ]
    },
    {
     "name": "stderr",
     "output_type": "stream",
     "text": [
      "Encoding texts...: 100%|██████████| 1/1 [00:00<00:00, 12.15it/s]\n",
      "Encoding images...: 100%|██████████| 1/1 [00:00<00:00,  6.15it/s]\n"
     ]
    },
    {
     "name": "stdout",
     "output_type": "stream",
     "text": [
      "[Chunk 2] Page 29 | 414759-1-_5_Nike-NPS-Combo_Form-10-K_WR.pdf-28-0.png | Similarity: 0.6403\n"
     ]
    },
    {
     "name": "stderr",
     "output_type": "stream",
     "text": [
      "Encoding texts...: 100%|██████████| 1/1 [00:00<00:00, 11.77it/s]\n",
      "Encoding images...: 100%|██████████| 1/1 [00:00<00:00,  3.05it/s]\n"
     ]
    },
    {
     "name": "stdout",
     "output_type": "stream",
     "text": [
      "[Chunk 3] Page 30 | 414759-1-_5_Nike-NPS-Combo_Form-10-K_WR.pdf-29-0.png | Similarity: 0.4623\n"
     ]
    },
    {
     "name": "stderr",
     "output_type": "stream",
     "text": [
      "Encoding texts...: 100%|██████████| 1/1 [00:00<00:00, 10.66it/s]\n",
      "Encoding images...: 100%|██████████| 1/1 [00:00<00:00,  7.20it/s]\n"
     ]
    },
    {
     "name": "stdout",
     "output_type": "stream",
     "text": [
      "[Chunk 4] Page 33 | 414759-1-_5_Nike-NPS-Combo_Form-10-K_WR.pdf-32-0.png | Similarity: 0.6391\n"
     ]
    },
    {
     "name": "stderr",
     "output_type": "stream",
     "text": [
      "Encoding texts...: 100%|██████████| 1/1 [00:00<00:00, 14.07it/s]\n",
      "Encoding images...: 100%|██████████| 1/1 [00:00<00:00,  6.49it/s]\n"
     ]
    },
    {
     "name": "stdout",
     "output_type": "stream",
     "text": [
      "[Chunk 5] Page 33 | 414759-1-_5_Nike-NPS-Combo_Form-10-K_WR.pdf-32-1.png | Similarity: 0.5103\n"
     ]
    },
    {
     "name": "stderr",
     "output_type": "stream",
     "text": [
      "Encoding texts...: 100%|██████████| 1/1 [00:00<00:00, 12.34it/s]\n",
      "Encoding images...: 100%|██████████| 1/1 [00:00<00:00,  5.75it/s]\n"
     ]
    },
    {
     "name": "stdout",
     "output_type": "stream",
     "text": [
      "[Chunk 6] Page 34 | 414759-1-_5_Nike-NPS-Combo_Form-10-K_WR.pdf-33-0.png | Similarity: 0.6117\n"
     ]
    },
    {
     "name": "stderr",
     "output_type": "stream",
     "text": [
      "Encoding texts...: 100%|██████████| 1/1 [00:00<00:00, 11.10it/s]\n",
      "Encoding images...: 100%|██████████| 1/1 [00:00<00:00,  5.28it/s]\n"
     ]
    },
    {
     "name": "stdout",
     "output_type": "stream",
     "text": [
      "[Chunk 6] Page 34 | 414759-1-_5_Nike-NPS-Combo_Form-10-K_WR.pdf-33-1.png | Similarity: 0.6803\n"
     ]
    },
    {
     "name": "stderr",
     "output_type": "stream",
     "text": [
      "Encoding texts...: 100%|██████████| 1/1 [00:00<00:00, 12.19it/s]\n",
      "Encoding images...: 100%|██████████| 1/1 [00:00<00:00,  3.11it/s]\n"
     ]
    },
    {
     "name": "stdout",
     "output_type": "stream",
     "text": [
      "[Chunk 7] Page 35 | 414759-1-_5_Nike-NPS-Combo_Form-10-K_WR.pdf-34-0.png | Similarity: 0.6074\n"
     ]
    },
    {
     "name": "stderr",
     "output_type": "stream",
     "text": [
      "Encoding texts...: 100%|██████████| 1/1 [00:00<00:00, 11.76it/s]\n",
      "Encoding images...: 100%|██████████| 1/1 [00:00<00:00,  2.19it/s]\n"
     ]
    },
    {
     "name": "stdout",
     "output_type": "stream",
     "text": [
      "[Chunk 8] Page 36 | 414759-1-_5_Nike-NPS-Combo_Form-10-K_WR.pdf-35-0.png | Similarity: 0.7671\n"
     ]
    },
    {
     "name": "stderr",
     "output_type": "stream",
     "text": [
      "Encoding texts...: 100%|██████████| 1/1 [00:00<00:00, 10.00it/s]\n",
      "Encoding images...: 100%|██████████| 1/1 [00:00<00:00,  9.14it/s]\n"
     ]
    },
    {
     "name": "stdout",
     "output_type": "stream",
     "text": [
      "[Chunk 9] Page 37 | 414759-1-_5_Nike-NPS-Combo_Form-10-K_WR.pdf-36-0.png | Similarity: 0.5540\n"
     ]
    },
    {
     "name": "stderr",
     "output_type": "stream",
     "text": [
      "Encoding texts...: 100%|██████████| 1/1 [00:00<00:00, 12.99it/s]\n",
      "Encoding images...: 100%|██████████| 1/1 [00:00<00:00,  7.91it/s]\n"
     ]
    },
    {
     "name": "stdout",
     "output_type": "stream",
     "text": [
      "[Chunk 9] Page 37 | 414759-1-_5_Nike-NPS-Combo_Form-10-K_WR.pdf-36-2.png | Similarity: 0.6003\n"
     ]
    },
    {
     "name": "stderr",
     "output_type": "stream",
     "text": [
      "Encoding texts...: 100%|██████████| 1/1 [00:00<00:00, 13.50it/s]\n",
      "Encoding images...: 100%|██████████| 1/1 [00:00<00:00,  8.81it/s]\n"
     ]
    },
    {
     "name": "stdout",
     "output_type": "stream",
     "text": [
      "[Chunk 9] Page 37 | 414759-1-_5_Nike-NPS-Combo_Form-10-K_WR.pdf-36-1.png | Similarity: 0.5960\n"
     ]
    },
    {
     "name": "stderr",
     "output_type": "stream",
     "text": [
      "Encoding texts...: 100%|██████████| 1/1 [00:00<00:00, 11.62it/s]\n",
      "Encoding images...: 100%|██████████| 1/1 [00:00<00:00,  7.56it/s]\n"
     ]
    },
    {
     "name": "stdout",
     "output_type": "stream",
     "text": [
      "[Chunk 10] Page 38 | 414759-1-_5_Nike-NPS-Combo_Form-10-K_WR.pdf-37-0.png | Similarity: 0.4642\n"
     ]
    },
    {
     "name": "stderr",
     "output_type": "stream",
     "text": [
      "Encoding texts...: 100%|██████████| 1/1 [00:00<00:00, 11.24it/s]\n",
      "Encoding images...: 100%|██████████| 1/1 [00:00<00:00,  7.86it/s]\n"
     ]
    },
    {
     "name": "stdout",
     "output_type": "stream",
     "text": [
      "[Chunk 11] Page 38 | 414759-1-_5_Nike-NPS-Combo_Form-10-K_WR.pdf-37-1.png | Similarity: 0.6285\n"
     ]
    },
    {
     "name": "stderr",
     "output_type": "stream",
     "text": [
      "Encoding texts...: 100%|██████████| 1/1 [00:00<00:00, 12.04it/s]\n",
      "Encoding images...: 100%|██████████| 1/1 [00:00<00:00,  4.88it/s]\n"
     ]
    },
    {
     "name": "stdout",
     "output_type": "stream",
     "text": [
      "[Chunk 12] Page 40 | 414759-1-_5_Nike-NPS-Combo_Form-10-K_WR.pdf-39-0.png | Similarity: 0.7603\n"
     ]
    },
    {
     "name": "stderr",
     "output_type": "stream",
     "text": [
      "Encoding texts...: 100%|██████████| 1/1 [00:00<00:00, 11.68it/s]\n",
      "Encoding images...: 100%|██████████| 1/1 [00:00<00:00,  3.53it/s]\n"
     ]
    },
    {
     "name": "stdout",
     "output_type": "stream",
     "text": [
      "[Chunk 13] Page 40 | 414759-1-_5_Nike-NPS-Combo_Form-10-K_WR.pdf-39-1.png | Similarity: 0.7770\n"
     ]
    },
    {
     "name": "stderr",
     "output_type": "stream",
     "text": [
      "Encoding texts...: 100%|██████████| 1/1 [00:00<00:00, 11.77it/s]\n",
      "Encoding images...: 100%|██████████| 1/1 [00:00<00:00,  4.18it/s]\n"
     ]
    },
    {
     "name": "stdout",
     "output_type": "stream",
     "text": [
      "[Chunk 14] Page 41 | 414759-1-_5_Nike-NPS-Combo_Form-10-K_WR.pdf-40-0.png | Similarity: 0.6921\n"
     ]
    },
    {
     "name": "stderr",
     "output_type": "stream",
     "text": [
      "Encoding texts...: 100%|██████████| 1/1 [00:00<00:00, 11.09it/s]\n",
      "Encoding images...: 100%|██████████| 1/1 [00:00<00:00,  4.38it/s]\n"
     ]
    },
    {
     "name": "stdout",
     "output_type": "stream",
     "text": [
      "[Chunk 15] Page 42 | 414759-1-_5_Nike-NPS-Combo_Form-10-K_WR.pdf-41-0.png | Similarity: 0.7021\n"
     ]
    },
    {
     "name": "stderr",
     "output_type": "stream",
     "text": [
      "Encoding texts...: 100%|██████████| 1/1 [00:00<00:00, 11.33it/s]\n",
      "Encoding images...: 100%|██████████| 1/1 [00:00<00:00,  4.16it/s]\n"
     ]
    },
    {
     "name": "stdout",
     "output_type": "stream",
     "text": [
      "[Chunk 16] Page 43 | 414759-1-_5_Nike-NPS-Combo_Form-10-K_WR.pdf-42-0.png | Similarity: 0.7128\n"
     ]
    },
    {
     "name": "stderr",
     "output_type": "stream",
     "text": [
      "Encoding texts...: 100%|██████████| 1/1 [00:00<00:00, 12.50it/s]\n",
      "Encoding images...: 100%|██████████| 1/1 [00:00<00:00,  4.63it/s]\n"
     ]
    },
    {
     "name": "stdout",
     "output_type": "stream",
     "text": [
      "[Chunk 17] Page 44 | 414759-1-_5_Nike-NPS-Combo_Form-10-K_WR.pdf-43-0.png | Similarity: 0.6480\n"
     ]
    },
    {
     "name": "stderr",
     "output_type": "stream",
     "text": [
      "Encoding texts...: 100%|██████████| 1/1 [00:00<00:00, 11.91it/s]\n",
      "Encoding images...: 100%|██████████| 1/1 [00:00<00:00,  3.97it/s]\n"
     ]
    },
    {
     "name": "stdout",
     "output_type": "stream",
     "text": [
      "[Chunk 18] Page 45 | 414759-1-_5_Nike-NPS-Combo_Form-10-K_WR.pdf-44-1.png | Similarity: 0.6544\n"
     ]
    },
    {
     "name": "stderr",
     "output_type": "stream",
     "text": [
      "Encoding texts...: 100%|██████████| 1/1 [00:00<00:00, 11.74it/s]\n",
      "Encoding images...: 100%|██████████| 1/1 [00:00<00:00,  3.76it/s]\n"
     ]
    },
    {
     "name": "stdout",
     "output_type": "stream",
     "text": [
      "[Chunk 19] Page 45 | 414759-1-_5_Nike-NPS-Combo_Form-10-K_WR.pdf-44-1.png | Similarity: 0.6926\n"
     ]
    },
    {
     "name": "stderr",
     "output_type": "stream",
     "text": [
      "Encoding texts...: 100%|██████████| 1/1 [00:00<00:00, 10.79it/s]\n",
      "Encoding images...: 100%|██████████| 1/1 [00:00<00:00,  2.35it/s]\n"
     ]
    },
    {
     "name": "stdout",
     "output_type": "stream",
     "text": [
      "[Chunk 20] Page 59 | 414759-1-_5_Nike-NPS-Combo_Form-10-K_WR.pdf-58-0.png | Similarity: 0.6465\n"
     ]
    },
    {
     "name": "stderr",
     "output_type": "stream",
     "text": [
      "Encoding texts...: 100%|██████████| 1/1 [00:00<00:00, 12.66it/s]\n",
      "Encoding images...: 100%|██████████| 1/1 [00:00<00:00,  5.94it/s]\n"
     ]
    },
    {
     "name": "stdout",
     "output_type": "stream",
     "text": [
      "[Chunk 21] Page 60 | 414759-1-_5_Nike-NPS-Combo_Form-10-K_WR.pdf-59-0.png | Similarity: 0.6138\n"
     ]
    },
    {
     "name": "stderr",
     "output_type": "stream",
     "text": [
      "Encoding texts...: 100%|██████████| 1/1 [00:00<00:00, 12.08it/s]\n",
      "Encoding images...: 100%|██████████| 1/1 [00:00<00:00,  2.20it/s]\n"
     ]
    },
    {
     "name": "stdout",
     "output_type": "stream",
     "text": [
      "[Chunk 22] Page 61 | 414759-1-_5_Nike-NPS-Combo_Form-10-K_WR.pdf-60-0.png | Similarity: 0.6279\n"
     ]
    },
    {
     "name": "stderr",
     "output_type": "stream",
     "text": [
      "Encoding texts...: 100%|██████████| 1/1 [00:00<00:00, 11.74it/s]\n",
      "Encoding images...: 100%|██████████| 1/1 [00:00<00:00,  2.22it/s]\n"
     ]
    },
    {
     "name": "stdout",
     "output_type": "stream",
     "text": [
      "[Chunk 23] Page 62 | 414759-1-_5_Nike-NPS-Combo_Form-10-K_WR.pdf-61-0.png | Similarity: 0.6196\n"
     ]
    },
    {
     "name": "stderr",
     "output_type": "stream",
     "text": [
      "Encoding texts...: 100%|██████████| 1/1 [00:00<00:00, 12.10it/s]\n",
      "Encoding images...: 100%|██████████| 1/1 [00:00<00:00,  4.67it/s]\n"
     ]
    },
    {
     "name": "stdout",
     "output_type": "stream",
     "text": [
      "[Chunk 24] Page 63 | 414759-1-_5_Nike-NPS-Combo_Form-10-K_WR.pdf-62-0.png | Similarity: 0.7683\n"
     ]
    },
    {
     "name": "stderr",
     "output_type": "stream",
     "text": [
      "Encoding texts...: 100%|██████████| 1/1 [00:00<00:00, 13.81it/s]\n",
      "Encoding images...: 100%|██████████| 1/1 [00:00<00:00,  4.75it/s]\n"
     ]
    },
    {
     "name": "stdout",
     "output_type": "stream",
     "text": [
      "[Chunk 25] Page 71 | 414759-1-_5_Nike-NPS-Combo_Form-10-K_WR.pdf-70-0.png | Similarity: 0.6712\n"
     ]
    },
    {
     "name": "stderr",
     "output_type": "stream",
     "text": [
      "Encoding texts...: 100%|██████████| 1/1 [00:00<00:00, 11.52it/s]\n",
      "Encoding images...: 100%|██████████| 1/1 [00:00<00:00,  5.95it/s]\n"
     ]
    },
    {
     "name": "stdout",
     "output_type": "stream",
     "text": [
      "[Chunk 25] Page 71 | 414759-1-_5_Nike-NPS-Combo_Form-10-K_WR.pdf-70-1.png | Similarity: 0.6213\n"
     ]
    },
    {
     "name": "stderr",
     "output_type": "stream",
     "text": [
      "Encoding texts...: 100%|██████████| 1/1 [00:00<00:00,  9.80it/s]\n",
      "Encoding images...: 100%|██████████| 1/1 [00:00<00:00,  4.42it/s]\n"
     ]
    },
    {
     "name": "stdout",
     "output_type": "stream",
     "text": [
      "[Chunk 26] Page 72 | 414759-1-_5_Nike-NPS-Combo_Form-10-K_WR.pdf-71-0.png | Similarity: 0.7705\n"
     ]
    },
    {
     "name": "stderr",
     "output_type": "stream",
     "text": [
      "Encoding texts...: 100%|██████████| 1/1 [00:00<00:00, 11.94it/s]\n",
      "Encoding images...: 100%|██████████| 1/1 [00:00<00:00,  3.03it/s]\n"
     ]
    },
    {
     "name": "stdout",
     "output_type": "stream",
     "text": [
      "[Chunk 27] Page 75 | 414759-1-_5_Nike-NPS-Combo_Form-10-K_WR.pdf-74-0.png | Similarity: 0.7171\n"
     ]
    },
    {
     "name": "stderr",
     "output_type": "stream",
     "text": [
      "Encoding texts...: 100%|██████████| 1/1 [00:00<00:00, 11.38it/s]\n",
      "Encoding images...: 100%|██████████| 1/1 [00:00<00:00,  7.51it/s]\n"
     ]
    },
    {
     "name": "stdout",
     "output_type": "stream",
     "text": [
      "[Chunk 28] Page 76 | 414759-1-_5_Nike-NPS-Combo_Form-10-K_WR.pdf-75-0.png | Similarity: 0.7113\n"
     ]
    },
    {
     "name": "stderr",
     "output_type": "stream",
     "text": [
      "Encoding texts...: 100%|██████████| 1/1 [00:00<00:00, 12.66it/s]\n",
      "Encoding images...: 100%|██████████| 1/1 [00:00<00:00,  4.03it/s]\n"
     ]
    },
    {
     "name": "stdout",
     "output_type": "stream",
     "text": [
      "[Chunk 28] Page 76 | 414759-1-_5_Nike-NPS-Combo_Form-10-K_WR.pdf-75-1.png | Similarity: 0.6751\n"
     ]
    },
    {
     "name": "stderr",
     "output_type": "stream",
     "text": [
      "Encoding texts...: 100%|██████████| 1/1 [00:00<00:00, 11.67it/s]\n",
      "Encoding images...: 100%|██████████| 1/1 [00:00<00:00,  4.99it/s]\n"
     ]
    },
    {
     "name": "stdout",
     "output_type": "stream",
     "text": [
      "[Chunk 28] Page 76 | 414759-1-_5_Nike-NPS-Combo_Form-10-K_WR.pdf-75-2.png | Similarity: 0.6605\n"
     ]
    },
    {
     "name": "stderr",
     "output_type": "stream",
     "text": [
      "Encoding texts...: 100%|██████████| 1/1 [00:00<00:00, 11.03it/s]\n",
      "Encoding images...: 100%|██████████| 1/1 [00:00<00:00,  2.04it/s]\n"
     ]
    },
    {
     "name": "stdout",
     "output_type": "stream",
     "text": [
      "[Chunk 29] Page 77 | 414759-1-_5_Nike-NPS-Combo_Form-10-K_WR.pdf-76-0.png | Similarity: 0.7342\n"
     ]
    },
    {
     "name": "stderr",
     "output_type": "stream",
     "text": [
      "Encoding texts...: 100%|██████████| 1/1 [00:00<00:00, 10.48it/s]\n",
      "Encoding images...: 100%|██████████| 1/1 [00:00<00:00,  5.64it/s]\n"
     ]
    },
    {
     "name": "stdout",
     "output_type": "stream",
     "text": [
      "[Chunk 29] Page 77 | 414759-1-_5_Nike-NPS-Combo_Form-10-K_WR.pdf-76-1.png | Similarity: 0.6389\n"
     ]
    },
    {
     "name": "stderr",
     "output_type": "stream",
     "text": [
      "Encoding texts...: 100%|██████████| 1/1 [00:00<00:00, 12.19it/s]\n",
      "Encoding images...: 100%|██████████| 1/1 [00:00<00:00,  5.52it/s]\n"
     ]
    },
    {
     "name": "stdout",
     "output_type": "stream",
     "text": [
      "[Chunk 30] Page 77 | 414759-1-_5_Nike-NPS-Combo_Form-10-K_WR.pdf-76-1.png | Similarity: 0.6428\n"
     ]
    },
    {
     "name": "stderr",
     "output_type": "stream",
     "text": [
      "Encoding texts...: 100%|██████████| 1/1 [00:00<00:00, 10.65it/s]\n",
      "Encoding images...: 100%|██████████| 1/1 [00:00<00:00,  7.22it/s]\n"
     ]
    },
    {
     "name": "stdout",
     "output_type": "stream",
     "text": [
      "[Chunk 31] Page 79 | 414759-1-_5_Nike-NPS-Combo_Form-10-K_WR.pdf-78-0.png | Similarity: 0.7042\n"
     ]
    },
    {
     "name": "stderr",
     "output_type": "stream",
     "text": [
      "Encoding texts...: 100%|██████████| 1/1 [00:00<00:00, 13.69it/s]\n",
      "Encoding images...: 100%|██████████| 1/1 [00:00<00:00,  7.21it/s]\n"
     ]
    },
    {
     "name": "stdout",
     "output_type": "stream",
     "text": [
      "[Chunk 32] Page 79 | 414759-1-_5_Nike-NPS-Combo_Form-10-K_WR.pdf-78-1.png | Similarity: 0.7377\n"
     ]
    },
    {
     "name": "stderr",
     "output_type": "stream",
     "text": [
      "Encoding texts...: 100%|██████████| 1/1 [00:00<00:00, 11.88it/s]\n",
      "Encoding images...: 100%|██████████| 1/1 [00:00<00:00,  7.41it/s]\n"
     ]
    },
    {
     "name": "stdout",
     "output_type": "stream",
     "text": [
      "[Chunk 33] Page 80 | 414759-1-_5_Nike-NPS-Combo_Form-10-K_WR.pdf-79-0.png | Similarity: 0.7336\n"
     ]
    },
    {
     "name": "stderr",
     "output_type": "stream",
     "text": [
      "Encoding texts...: 100%|██████████| 1/1 [00:00<00:00, 12.94it/s]\n",
      "Encoding images...: 100%|██████████| 1/1 [00:00<00:00,  7.67it/s]\n"
     ]
    },
    {
     "name": "stdout",
     "output_type": "stream",
     "text": [
      "[Chunk 34] Page 80 | 414759-1-_5_Nike-NPS-Combo_Form-10-K_WR.pdf-79-1.png | Similarity: 0.6956\n"
     ]
    },
    {
     "name": "stderr",
     "output_type": "stream",
     "text": [
      "Encoding texts...: 100%|██████████| 1/1 [00:00<00:00, 12.60it/s]\n",
      "Encoding images...: 100%|██████████| 1/1 [00:00<00:00,  5.57it/s]\n"
     ]
    },
    {
     "name": "stdout",
     "output_type": "stream",
     "text": [
      "[Chunk 35] Page 81 | 414759-1-_5_Nike-NPS-Combo_Form-10-K_WR.pdf-80-0.png | Similarity: 0.6845\n"
     ]
    },
    {
     "name": "stderr",
     "output_type": "stream",
     "text": [
      "Encoding texts...: 100%|██████████| 1/1 [00:00<00:00, 11.34it/s]\n",
      "Encoding images...: 100%|██████████| 1/1 [00:00<00:00,  3.81it/s]\n"
     ]
    },
    {
     "name": "stdout",
     "output_type": "stream",
     "text": [
      "[Chunk 36] Page 82 | 414759-1-_5_Nike-NPS-Combo_Form-10-K_WR.pdf-81-0.png | Similarity: 0.7018\n"
     ]
    },
    {
     "name": "stderr",
     "output_type": "stream",
     "text": [
      "Encoding texts...: 100%|██████████| 1/1 [00:00<00:00, 10.20it/s]\n",
      "Encoding images...: 100%|██████████| 1/1 [00:00<00:00,  3.89it/s]\n"
     ]
    },
    {
     "name": "stdout",
     "output_type": "stream",
     "text": [
      "[Chunk 36] Page 82 | 414759-1-_5_Nike-NPS-Combo_Form-10-K_WR.pdf-81-1.png | Similarity: 0.6615\n"
     ]
    },
    {
     "name": "stderr",
     "output_type": "stream",
     "text": [
      "Encoding texts...: 100%|██████████| 1/1 [00:00<00:00, 10.85it/s]\n",
      "Encoding images...: 100%|██████████| 1/1 [00:00<00:00,  6.57it/s]\n"
     ]
    },
    {
     "name": "stdout",
     "output_type": "stream",
     "text": [
      "[Chunk 36] Page 82 | 414759-1-_5_Nike-NPS-Combo_Form-10-K_WR.pdf-81-2.png | Similarity: 0.4919\n"
     ]
    },
    {
     "name": "stderr",
     "output_type": "stream",
     "text": [
      "Encoding texts...: 100%|██████████| 1/1 [00:00<00:00, 13.01it/s]\n",
      "Encoding images...: 100%|██████████| 1/1 [00:00<00:00,  6.61it/s]\n"
     ]
    },
    {
     "name": "stdout",
     "output_type": "stream",
     "text": [
      "[Chunk 37] Page 82 | 414759-1-_5_Nike-NPS-Combo_Form-10-K_WR.pdf-81-2.png | Similarity: 0.4462\n"
     ]
    },
    {
     "name": "stderr",
     "output_type": "stream",
     "text": [
      "Encoding texts...: 100%|██████████| 1/1 [00:00<00:00,  9.90it/s]\n",
      "Encoding images...: 100%|██████████| 1/1 [00:00<00:00,  4.15it/s]\n"
     ]
    },
    {
     "name": "stdout",
     "output_type": "stream",
     "text": [
      "[Chunk 38] Page 83 | 414759-1-_5_Nike-NPS-Combo_Form-10-K_WR.pdf-82-0.png | Similarity: 0.6934\n"
     ]
    },
    {
     "name": "stderr",
     "output_type": "stream",
     "text": [
      "Encoding texts...: 100%|██████████| 1/1 [00:00<00:00, 10.12it/s]\n",
      "Encoding images...: 100%|██████████| 1/1 [00:00<00:00,  6.42it/s]\n"
     ]
    },
    {
     "name": "stdout",
     "output_type": "stream",
     "text": [
      "[Chunk 39] Page 85 | 414759-1-_5_Nike-NPS-Combo_Form-10-K_WR.pdf-84-0.png | Similarity: 0.7576\n"
     ]
    },
    {
     "name": "stderr",
     "output_type": "stream",
     "text": [
      "Encoding texts...: 100%|██████████| 1/1 [00:00<00:00, 13.04it/s]\n",
      "Encoding images...: 100%|██████████| 1/1 [00:00<00:00,  2.66it/s]\n"
     ]
    },
    {
     "name": "stdout",
     "output_type": "stream",
     "text": [
      "[Chunk 40] Page 86 | 414759-1-_5_Nike-NPS-Combo_Form-10-K_WR.pdf-85-0.png | Similarity: 0.6916\n"
     ]
    },
    {
     "name": "stderr",
     "output_type": "stream",
     "text": [
      "Encoding texts...: 100%|██████████| 1/1 [00:00<00:00,  7.25it/s]\n",
      "Encoding images...: 100%|██████████| 1/1 [00:00<00:00,  3.97it/s]\n"
     ]
    },
    {
     "name": "stdout",
     "output_type": "stream",
     "text": [
      "[Chunk 41] Page 87 | 414759-1-_5_Nike-NPS-Combo_Form-10-K_WR.pdf-86-0.png | Similarity: 0.7886\n"
     ]
    },
    {
     "name": "stderr",
     "output_type": "stream",
     "text": [
      "Encoding texts...: 100%|██████████| 1/1 [00:00<00:00, 11.37it/s]\n",
      "Encoding images...: 100%|██████████| 1/1 [00:00<00:00,  1.93it/s]\n"
     ]
    },
    {
     "name": "stdout",
     "output_type": "stream",
     "text": [
      "[Chunk 42] Page 90 | 414759-1-_5_Nike-NPS-Combo_Form-10-K_WR.pdf-89-0.png | Similarity: 0.5958\n"
     ]
    },
    {
     "name": "stderr",
     "output_type": "stream",
     "text": [
      "Encoding texts...: 100%|██████████| 1/1 [00:00<00:00, 10.64it/s]\n",
      "Encoding images...: 100%|██████████| 1/1 [00:00<00:00,  2.04it/s]\n"
     ]
    },
    {
     "name": "stdout",
     "output_type": "stream",
     "text": [
      "[Chunk 43] Page 91 | 414759-1-_5_Nike-NPS-Combo_Form-10-K_WR.pdf-90-0.png | Similarity: 0.7694\n"
     ]
    },
    {
     "name": "stderr",
     "output_type": "stream",
     "text": [
      "Encoding texts...: 100%|██████████| 1/1 [00:00<00:00, 11.55it/s]\n",
      "Encoding images...: 100%|██████████| 1/1 [00:00<00:00,  4.81it/s]\n"
     ]
    },
    {
     "name": "stdout",
     "output_type": "stream",
     "text": [
      "[Chunk 44] Page 92 | 414759-1-_5_Nike-NPS-Combo_Form-10-K_WR.pdf-91-0.png | Similarity: 0.7242\n"
     ]
    },
    {
     "name": "stderr",
     "output_type": "stream",
     "text": [
      "Encoding texts...: 100%|██████████| 1/1 [00:00<00:00, 12.59it/s]\n",
      "Encoding images...: 100%|██████████| 1/1 [00:00<00:00,  7.26it/s]"
     ]
    },
    {
     "name": "stdout",
     "output_type": "stream",
     "text": [
      "[Chunk 45] Page 93 | 414759-1-_5_Nike-NPS-Combo_Form-10-K_WR.pdf-92-1.png | Similarity: 0.7072\n",
      "\n",
      "✅ Pairs salvate sopra soglia 0.4: 57\n",
      "Lunghezza finale di results: 57\n",
      "Esempio ultimo: {'page': 93, 'image_path': 'img_out/414759-1-_5_Nike-NPS-Combo_Form-10-K_WR.pdf-92-1.png', 'similarity': 0.7072, 'text_preview': 'The following table includes supplemental information used to calculate the present value of Operating lease liabilities:\\n**AS OF MAY 31,**\\n**2023** **2022**\\nThe following table includes supplemental '}\n",
      "📂 Salvato: chunk_image_similarity.json\n"
     ]
    },
    {
     "name": "stderr",
     "output_type": "stream",
     "text": [
      "\n"
     ]
    }
   ],
   "source": [
    "import json\n",
    "import os\n",
    "import numpy as np\n",
    "from PIL import Image\n",
    "\n",
    "SIM_THRESHOLD = 0.4  # Similarity minima per tenere la coppia\n",
    "\n",
    "\n",
    "# Compute cosine similarity between texts and code snippets\n",
    "def cosine_similarity(a, b):\n",
    "    a = np.array(a)\n",
    "    b = np.array(b)\n",
    "    return np.dot(a, b.T) / (np.linalg.norm(a, axis=1)[:, None] * np.linalg.norm(b, axis=1))\n",
    "\n",
    "\n",
    "# ✅ Risultati\n",
    "results = []\n",
    "\n",
    "# ✅ Loop chunks con immagini\n",
    "for idx, chunk in enumerate(chunks_with_images):\n",
    "    text = chunk[\"text\"]\n",
    "    page = chunk[\"metadata\"][\"page\"]\n",
    "    images = chunk[\"metadata\"][\"images\"]\n",
    "\n",
    "    for image_path in images:\n",
    "        # Apri immagine\n",
    "        img = Image.open(image_path).convert(\"RGB\")\n",
    "\n",
    "        # Encode text\n",
    "        text_emb = model.encode_text(\n",
    "            texts=[text],\n",
    "            task=\"retrieval\",\n",
    "            prompt_name=\"passage\",\n",
    "            return_numpy=True\n",
    "        )\n",
    "\n",
    "        # Encode image\n",
    "        img_emb = model.encode_image(\n",
    "            images=[img],\n",
    "            task=\"retrieval\",\n",
    "            return_numpy=True\n",
    "        )\n",
    "\n",
    "        # Similarità\n",
    "        sim = cosine_similarity(text_emb, img_emb)\n",
    "        sim_value = float(sim)\n",
    "\n",
    "        # Salva se supera soglia\n",
    "        if sim_value >= SIM_THRESHOLD:\n",
    "            results.append({\n",
    "                \"page\": int(page),\n",
    "                \"image_path\": str(image_path),\n",
    "                \"similarity\": float(round(sim_value, 4)),\n",
    "                \"text_preview\": str(text[:200])  # Primo pezzo del testo\n",
    "            })\n",
    "\n",
    "        print(f\"[Chunk {idx+1}] Page {page} | {os.path.basename(image_path)} | Similarity: {sim_value:.4f}\")\n",
    "\n",
    "print(f\"\\n✅ Pairs salvate sopra soglia {SIM_THRESHOLD}: {len(results)}\")\n",
    "\n",
    "print(\"Lunghezza finale di results:\", len(results))\n",
    "print(\"Esempio ultimo:\", results[-1])\n",
    "\n",
    "# ✅ Esporta in JSON\n",
    "with open(\"chunk_image_similarity.json\", \"w\", encoding=\"utf-8\") as f:\n",
    "    json.dump(results, f, indent=2, ensure_ascii=False)\n",
    "\n",
    "print(\"📂 Salvato: chunk_image_similarity.json\")\n"
   ]
  },
  {
   "cell_type": "code",
   "execution_count": 62,
   "id": "2db214ba",
   "metadata": {},
   "outputs": [
    {
     "name": "stdout",
     "output_type": "stream",
     "text": [
      "Unmatched: {'414759-1-_5_Nike-NPS-Combo_Form-10-K_WR.pdf-11-6.png', '414759-1-_5_Nike-NPS-Combo_Form-10-K_WR.pdf-11-4.png', '414759-1-_5_Nike-NPS-Combo_Form-10-K_WR.pdf-11-3.png'}\n"
     ]
    }
   ],
   "source": [
    "files_in_dir = set(p.name for p in Path(\"img_out\").glob(\"*.png\"))\n",
    "matched = set(Path(r[\"image_path\"]).name for r in results)\n",
    "unmatched = files_in_dir - matched\n",
    "print(\"Unmatched:\", unmatched)\n"
   ]
  },
  {
   "cell_type": "code",
   "execution_count": 56,
   "id": "ac81c33a",
   "metadata": {},
   "outputs": [
    {
     "name": "stdout",
     "output_type": "stream",
     "text": [
      "{'text': \"_**Craig Williams**_, President, Geographies & Marketplace — Mr. Williams, 54, joined NIKE in 2019 and\\nleads NIKE's four geographies and marketplace across the NIKE Direct and wholesale business. In\\naddition, he leads the Supply Chain and Logistics organization. Mr. Williams joined NIKE as President of\\nJordan Brand overseeing a team of designers, product developers, marketers and business leaders.\\nPrior to NIKE, he was Senior Vice President, The Coca-Cola Co., and President of The McDonald's\\nDivision (TMD) Worldwide. Mr. Williams has also held roles at CIBA Vision and Kraft Foods Inc., and\\nserved five years in the U.S. Navy as a Naval Nuclear Power Officer.\\n8 **NIKE, INC.**\", 'metadata': {'page': 12, 'images': ['img_out/414759-1-_5_Nike-NPS-Combo_Form-10-K_WR.pdf-11-0.png', 'img_out/414759-1-_5_Nike-NPS-Combo_Form-10-K_WR.pdf-11-1.png', 'img_out/414759-1-_5_Nike-NPS-Combo_Form-10-K_WR.pdf-11-2.png', 'img_out/414759-1-_5_Nike-NPS-Combo_Form-10-K_WR.pdf-11-3.png', 'img_out/414759-1-_5_Nike-NPS-Combo_Form-10-K_WR.pdf-11-4.png', 'img_out/414759-1-_5_Nike-NPS-Combo_Form-10-K_WR.pdf-11-5.png', 'img_out/414759-1-_5_Nike-NPS-Combo_Form-10-K_WR.pdf-11-6.png']}}\n"
     ]
    }
   ],
   "source": [
    "print(chunks_with_images[0])"
   ]
  },
  {
   "cell_type": "code",
   "execution_count": 71,
   "id": "2ee2706d",
   "metadata": {},
   "outputs": [
    {
     "name": "stdout",
     "output_type": "stream",
     "text": [
      "\n",
      "🔍 Immagine senza match: 414759-1-_5_Nike-NPS-Combo_Form-10-K_WR.pdf-11-6.png\n",
      "✅ Trovata nel chunk (Page 12):\n",
      "   Text Preview: _**Craig Williams**_, President, Geographies & Marketplace — Mr. Williams, 54, joined NIKE in 2019 and\n",
      "leads NIKE's four geographies and marketplace across the NIKE Direct and wholesale business. In\n",
      "addition, he leads the Supply Chain and Logistics organization. Mr. Williams joined NIKE as President of\n",
      "Jordan Brand overseeing a team of designers, product developers, marketers and business leaders.\n",
      "Prior to NIKE, he was Senior Vice President, The Coca-Cola Co., and President of The McDonald's\n",
      "Division (TMD) Worldwide. Mr. Williams has also held roles at CIBA Vision and Kraft Foods Inc., and\n",
      "served five years in the U.S. Navy as a Naval Nuclear Power Officer.\n",
      "8 **NIKE, INC.**\n",
      "\n",
      "🔍 Immagine senza match: 414759-1-_5_Nike-NPS-Combo_Form-10-K_WR.pdf-11-4.png\n",
      "✅ Trovata nel chunk (Page 12):\n",
      "   Text Preview: _**Craig Williams**_, President, Geographies & Marketplace — Mr. Williams, 54, joined NIKE in 2019 and\n",
      "leads NIKE's four geographies and marketplace across the NIKE Direct and wholesale business. In\n",
      "addition, he leads the Supply Chain and Logistics organization. Mr. Williams joined NIKE as President of\n",
      "Jordan Brand overseeing a team of designers, product developers, marketers and business leaders.\n",
      "Prior to NIKE, he was Senior Vice President, The Coca-Cola Co., and President of The McDonald's\n",
      "Division (TMD) Worldwide. Mr. Williams has also held roles at CIBA Vision and Kraft Foods Inc., and\n",
      "served five years in the U.S. Navy as a Naval Nuclear Power Officer.\n",
      "8 **NIKE, INC.**\n",
      "\n",
      "🔍 Immagine senza match: 414759-1-_5_Nike-NPS-Combo_Form-10-K_WR.pdf-11-3.png\n",
      "✅ Trovata nel chunk (Page 12):\n",
      "   Text Preview: _**Craig Williams**_, President, Geographies & Marketplace — Mr. Williams, 54, joined NIKE in 2019 and\n",
      "leads NIKE's four geographies and marketplace across the NIKE Direct and wholesale business. In\n",
      "addition, he leads the Supply Chain and Logistics organization. Mr. Williams joined NIKE as President of\n",
      "Jordan Brand overseeing a team of designers, product developers, marketers and business leaders.\n",
      "Prior to NIKE, he was Senior Vice President, The Coca-Cola Co., and President of The McDonald's\n",
      "Division (TMD) Worldwide. Mr. Williams has also held roles at CIBA Vision and Kraft Foods Inc., and\n",
      "served five years in the U.S. Navy as a Naval Nuclear Power Officer.\n",
      "8 **NIKE, INC.**\n"
     ]
    }
   ],
   "source": [
    "from pathlib import Path\n",
    "\n",
    "chunks_images_unmatched = []\n",
    "\n",
    "# 2️⃣ Trova i chunk originali per ciascuna immagine\n",
    "for img_name in unmatched:\n",
    "    print(f\"\\n🔍 Immagine senza match: {img_name}\")\n",
    "    found = False\n",
    "    for chunk in chunks_with_images:\n",
    "        if any(Path(p).name == img_name for p in chunk[\"metadata\"][\"images\"]):\n",
    "            chunks_images_unmatched.append({\n",
    "                \"chunk\": chunk,\n",
    "                \"image_path\": img_name\n",
    "            })\n",
    "            print(f\"✅ Trovata nel chunk (Page {chunk['metadata']['page']}):\")\n",
    "            print(f\"   Text Preview: {chunk['text']}\")\n",
    "            found = True\n",
    "            break\n",
    "    if not found:\n",
    "        print(\"⚠️  Nessun chunk trovato!\")\n"
   ]
  },
  {
   "cell_type": "code",
   "execution_count": 73,
   "id": "5bdd2cf2",
   "metadata": {},
   "outputs": [
    {
     "name": "stdout",
     "output_type": "stream",
     "text": [
      "{'chunk': {'text': \"_**Craig Williams**_, President, Geographies & Marketplace — Mr. Williams, 54, joined NIKE in 2019 and\\nleads NIKE's four geographies and marketplace across the NIKE Direct and wholesale business. In\\naddition, he leads the Supply Chain and Logistics organization. Mr. Williams joined NIKE as President of\\nJordan Brand overseeing a team of designers, product developers, marketers and business leaders.\\nPrior to NIKE, he was Senior Vice President, The Coca-Cola Co., and President of The McDonald's\\nDivision (TMD) Worldwide. Mr. Williams has also held roles at CIBA Vision and Kraft Foods Inc., and\\nserved five years in the U.S. Navy as a Naval Nuclear Power Officer.\\n8 **NIKE, INC.**\", 'metadata': {'page': 12, 'images': ['img_out/414759-1-_5_Nike-NPS-Combo_Form-10-K_WR.pdf-11-0.png', 'img_out/414759-1-_5_Nike-NPS-Combo_Form-10-K_WR.pdf-11-1.png', 'img_out/414759-1-_5_Nike-NPS-Combo_Form-10-K_WR.pdf-11-2.png', 'img_out/414759-1-_5_Nike-NPS-Combo_Form-10-K_WR.pdf-11-3.png', 'img_out/414759-1-_5_Nike-NPS-Combo_Form-10-K_WR.pdf-11-4.png', 'img_out/414759-1-_5_Nike-NPS-Combo_Form-10-K_WR.pdf-11-5.png', 'img_out/414759-1-_5_Nike-NPS-Combo_Form-10-K_WR.pdf-11-6.png']}}, 'image_path': '414759-1-_5_Nike-NPS-Combo_Form-10-K_WR.pdf-11-6.png'}\n"
     ]
    }
   ],
   "source": [
    "print(chunks_images_unmatched[0])"
   ]
  },
  {
   "cell_type": "code",
   "execution_count": 75,
   "id": "655e0c40",
   "metadata": {},
   "outputs": [
    {
     "name": "stderr",
     "output_type": "stream",
     "text": [
      "Encoding texts...:   0%|          | 0/1 [00:00<?, ?it/s]"
     ]
    },
    {
     "name": "stderr",
     "output_type": "stream",
     "text": [
      "Encoding texts...: 100%|██████████| 1/1 [00:00<00:00,  2.27it/s]\n",
      "Encoding images...: 100%|██████████| 1/1 [00:00<00:00,  7.94it/s]\n",
      "C:\\Users\\felip\\AppData\\Local\\Temp\\ipykernel_4440\\4005660774.py:27: DeprecationWarning: Conversion of an array with ndim > 0 to a scalar is deprecated, and will error in future. Ensure you extract a single element from your array before performing this operation. (Deprecated NumPy 1.25.)\n",
      "  sim_value = float(sim)\n",
      "Encoding texts...: 100%|██████████| 1/1 [00:00<00:00, 13.40it/s]\n",
      "Encoding images...: 100%|██████████| 1/1 [00:00<00:00,  8.58it/s]\n",
      "Encoding texts...: 100%|██████████| 1/1 [00:00<00:00, 11.47it/s]\n",
      "Encoding images...: 100%|██████████| 1/1 [00:00<00:00,  8.61it/s]"
     ]
    },
    {
     "name": "stdout",
     "output_type": "stream",
     "text": [
      "[{'page': 12, 'image_path': '414759-1-_5_Nike-NPS-Combo_Form-10-K_WR.pdf-11-6.png', 'similarity': 0.7072, 'text_preview': \"_**Craig Williams**_, President, Geographies & Marketplace — Mr. Williams, 54, joined NIKE in 2019 and\\nleads NIKE's four geographies and marketplace across the NIKE Direct and wholesale business. In\\naddition, he leads the Supply Chain and Logistics organization. Mr. Williams joined NIKE as President of\\nJordan Brand overseeing a team of designers, product developers, marketers and business leaders.\\nPrior to NIKE, he was Senior Vice President, The Coca-Cola Co., and President of The McDonald's\\nDivision (TMD) Worldwide. Mr. Williams has also held roles at CIBA Vision and Kraft Foods Inc., and\\nserved five years in the U.S. Navy as a Naval Nuclear Power Officer.\\n8 **NIKE, INC.**\"}, {'page': 12, 'image_path': '414759-1-_5_Nike-NPS-Combo_Form-10-K_WR.pdf-11-4.png', 'similarity': 0.7072, 'text_preview': \"_**Craig Williams**_, President, Geographies & Marketplace — Mr. Williams, 54, joined NIKE in 2019 and\\nleads NIKE's four geographies and marketplace across the NIKE Direct and wholesale business. In\\naddition, he leads the Supply Chain and Logistics organization. Mr. Williams joined NIKE as President of\\nJordan Brand overseeing a team of designers, product developers, marketers and business leaders.\\nPrior to NIKE, he was Senior Vice President, The Coca-Cola Co., and President of The McDonald's\\nDivision (TMD) Worldwide. Mr. Williams has also held roles at CIBA Vision and Kraft Foods Inc., and\\nserved five years in the U.S. Navy as a Naval Nuclear Power Officer.\\n8 **NIKE, INC.**\"}, {'page': 12, 'image_path': '414759-1-_5_Nike-NPS-Combo_Form-10-K_WR.pdf-11-3.png', 'similarity': 0.7072, 'text_preview': \"_**Craig Williams**_, President, Geographies & Marketplace — Mr. Williams, 54, joined NIKE in 2019 and\\nleads NIKE's four geographies and marketplace across the NIKE Direct and wholesale business. In\\naddition, he leads the Supply Chain and Logistics organization. Mr. Williams joined NIKE as President of\\nJordan Brand overseeing a team of designers, product developers, marketers and business leaders.\\nPrior to NIKE, he was Senior Vice President, The Coca-Cola Co., and President of The McDonald's\\nDivision (TMD) Worldwide. Mr. Williams has also held roles at CIBA Vision and Kraft Foods Inc., and\\nserved five years in the U.S. Navy as a Naval Nuclear Power Officer.\\n8 **NIKE, INC.**\"}]\n"
     ]
    },
    {
     "name": "stderr",
     "output_type": "stream",
     "text": [
      "\n"
     ]
    }
   ],
   "source": [
    "results_unmatched = []\n",
    "\n",
    "for chunk_image in chunks_images_unmatched:\n",
    "    text = chunk_image[\"chunk\"]['text']\n",
    "    page = chunk_image['chunk']['metadata']['page']\n",
    "    image = chunk_image[\"image_path\"]\n",
    "\n",
    "        \n",
    "    img = Image.open(f\"img_out/{image}\").convert(\"RGB\")\n",
    "\n",
    "    tex_emb = model.encode_text(\n",
    "        texts= [text],\n",
    "        task=\"retrieval\",\n",
    "        prompt_name=\"passage\", \n",
    "        return_numpy=True\n",
    "    )\n",
    "\n",
    "    image_emb = model.encode_image(\n",
    "        images=[img],\n",
    "        task=\"retrieval\",\n",
    "        return_numpy=True\n",
    "    )\n",
    "\n",
    "\n",
    "    # Similarità\n",
    "    sim = cosine_similarity(text_emb, img_emb)\n",
    "    sim_value = float(sim)\n",
    "\n",
    "    results_unmatched.append({\n",
    "        \"page\": int(page),\n",
    "        \"image_path\": str(image),\n",
    "        \"similarity\": float(round(sim_value, 4)),\n",
    "        \"text_preview\": str(text)  # Primo pezzo del testo\n",
    "    })\n",
    "\n",
    "print(results_unmatched)     \n",
    "\n",
    "\n"
   ]
  },
  {
   "cell_type": "code",
   "execution_count": 77,
   "id": "21053510",
   "metadata": {},
   "outputs": [
    {
     "name": "stdout",
     "output_type": "stream",
     "text": [
      "{'page': 12, 'image_path': '414759-1-_5_Nike-NPS-Combo_Form-10-K_WR.pdf-11-6.png', 'similarity': 0.7072, 'text_preview': \"_**Craig Williams**_, President, Geographies & Marketplace — Mr. Williams, 54, joined NIKE in 2019 and\\nleads NIKE's four geographies and marketplace across the NIKE Direct and wholesale business. In\\naddition, he leads the Supply Chain and Logistics organization. Mr. Williams joined NIKE as President of\\nJordan Brand overseeing a team of designers, product developers, marketers and business leaders.\\nPrior to NIKE, he was Senior Vice President, The Coca-Cola Co., and President of The McDonald's\\nDivision (TMD) Worldwide. Mr. Williams has also held roles at CIBA Vision and Kraft Foods Inc., and\\nserved five years in the U.S. Navy as a Naval Nuclear Power Officer.\\n8 **NIKE, INC.**\"}\n"
     ]
    }
   ],
   "source": [
    "print(results_unmatched[0])"
   ]
  },
  {
   "cell_type": "markdown",
   "id": "7d86c01d",
   "metadata": {},
   "source": [
    "### ✅ `plt.figure(figsize=(8, 4))`\n",
    "\n",
    "* **Cosa fa:** crea una nuova **figura** di `matplotlib`.\n",
    "* `figsize=(8, 4)` imposta le dimensioni in **pollici** → larghezza 8 pollici, altezza 4.\n",
    "* È lo “sfondo” su cui metterai i tuoi **sottoplot**.\n",
    "\n",
    "---\n",
    "\n",
    "### ✅ `plt.subplot(1, 2, 1)`\n",
    "\n",
    "* `subplot` divide la figura in una **griglia**.\n",
    "* `(1, 2, 1)` significa: griglia di **1 riga**, **2 colonne**, e stai selezionando la **prima cella**.\n",
    "* Qui dici: “voglio disegnare nella cella 1 su 2”.\n",
    "\n",
    "---\n",
    "\n",
    "### ✅ `plt.imshow(img)`\n",
    "\n",
    "* Mostra l’immagine `img` nel subplot **corrente**.\n",
    "* `imshow` è fatto apposta per immagini (`numpy array` o `PIL.Image`).\n",
    "\n",
    "---\n",
    "\n",
    "### ✅ `plt.axis('off')`\n",
    "\n",
    "* Rimuove gli **assi** (numeri, griglia, bordi) dal subplot.\n",
    "* Utile per vedere solo l’immagine **senza cornici**.\n",
    "\n",
    "---\n",
    "\n",
    "### ✅ `plt.subplot(1, 2, 2)`\n",
    "\n",
    "* Sposta il focus al **secondo subplot** nella griglia (1 riga, 2 colonne, cella 2).\n",
    "* Ora tutto quello che disegni va lì.\n",
    "\n",
    "---\n",
    "\n",
    "### ✅ `plt.text(0.5, 0.5, text, wrap=True, fontsize=10, ha='center', va='center')`\n",
    "\n",
    "* Scrive del testo nel subplot.\n",
    "* `(0.5, 0.5)` → coord. normalizzate → centro del subplot (x = 50%, y = 50%).\n",
    "* `wrap=True` → manda a capo automaticamente se è troppo lungo.\n",
    "* `fontsize=10` → dimensione carattere.\n",
    "* `ha='center', va='center'` → **horizontal align** e **vertical align**, per centrare il testo.\n",
    "\n",
    "---\n",
    "\n",
    "### ✅ `plt.axis('off')`\n",
    "\n",
    "* Anche qui spegni gli assi → il subplot mostrerà **solo testo** senza linee o bordi.\n",
    "\n",
    "---\n",
    "\n",
    "### ✅ `plt.show()`\n",
    "\n",
    "* Visualizza la figura **a schermo**.\n",
    "* Se hai più figure, `plt.show()` le mostra tutte.\n",
    "\n",
    "---\n",
    "\n",
    "**In sintesi:**\n",
    "Dividi la figura in **due parti**, a sinistra metti l’immagine, a destra metti il testo, togli gli assi per un look pulito, e mostri tutto.\n"
   ]
  },
  {
   "cell_type": "code",
   "execution_count": 82,
   "id": "b3a9610f",
   "metadata": {},
   "outputs": [
    {
     "data": {
      "image/png": "[encoded data removed]",
      "text/plain": [
       "<Figure size 800x400 with 2 Axes>"
      ]
     },
     "metadata": {},
     "output_type": "display_data"
    },
    {
     "data": {
      "image/png": "[encoded data removed]",
      "text/plain": [
       "<Figure size 800x400 with 2 Axes>"
      ]
     },
     "metadata": {},
     "output_type": "display_data"
    },
    {
     "data": {
      "image/png": "[encoded data removed]",
      "text/plain": [
       "<Figure size 800x400 with 2 Axes>"
      ]
     },
     "metadata": {},
     "output_type": "display_data"
    }
   ],
   "source": [
    "import matplotlib.pyplot as plt\n",
    "from PIL import Image\n",
    "\n",
    "for result in results_unmatched:\n",
    "    img_path = result[\"image_path\"]\n",
    "    text = result[\"text_preview\"]\n",
    "\n",
    "    # Carica immagine\n",
    "    img = Image.open(f\"img_out/{img_path}\")\n",
    "\n",
    "    # Crea figura\n",
    "    plt.figure(figsize=(8, 4))\n",
    "\n",
    "    # Mostra immagine\n",
    "    plt.subplot(1, 2, 1)\n",
    "    plt.imshow(img)\n",
    "    plt.axis('off')\n",
    "\n",
    "    # Mostra testo\n",
    "    plt.subplot(1, 2, 2)\n",
    "    plt.text(0.5, 0.5, text, wrap=True, fontsize=10, ha='center', va='center')\n",
    "    plt.axis('off')\n",
    "\n",
    "    plt.show()"
   ]
  },
  {
   "cell_type": "markdown",
   "id": "daa51bd5",
   "metadata": {},
   "source": [
    "# Inseriamo sia gli embeddings dei chunks che delle immagini nel vectorstore Qdrant"
   ]
  },
  {
   "cell_type": "code",
   "execution_count": 114,
   "id": "c13dd827",
   "metadata": {},
   "outputs": [],
   "source": [
    "# per prima cosa dobbiamo creare un wrapper per il nostro motore di embedding jina\n",
    "\n",
    "from langchain_core.embeddings import Embeddings\n",
    "from PIL import Image\n",
    "\n",
    "\n",
    "class JinaEmbeddings(Embeddings):\n",
    "    def __init__(self, model):\n",
    "        self.model = model\n",
    "\n",
    "\n",
    "\n",
    "    # funzione per emebeddare una lista di testi come chunks\n",
    "    def embed_documents(self, texts):\n",
    "        return self.model.encode_text(\n",
    "            texts=texts,\n",
    "            task=\"retrieval\",\n",
    "            prompt_name=\"passage\",\n",
    "            return_numpy=True\n",
    "        ).tolist()\n",
    "\n",
    "\n",
    "    # funzione per embeddare una singola quesry di testo\n",
    "    def embed_query(self, text):\n",
    "        return self.model.encode_text(\n",
    "            texts=[text],\n",
    "            task=\"retrieval\",\n",
    "            prompt_name=\"query\",\n",
    "            return_numpy=True\n",
    "        )[0].tolist()\n",
    "\n",
    "\n",
    "    # funzione per emebeddare una lista di immagini\n",
    "    def embed_images(self, image_paths):\n",
    "        images = [Image.open(path).convert(\"RGB\") for path in image_paths]\n",
    "        return self.model.encode_image(\n",
    "            images=images,\n",
    "            task=\"retrieval\",\n",
    "            return_numpy=True\n",
    "        ).tolist()\n",
    "\n"
   ]
  },
  {
   "cell_type": "code",
   "execution_count": 112,
   "id": "bf76ad1c",
   "metadata": {},
   "outputs": [
    {
     "name": "stdout",
     "output_type": "stream",
     "text": [
      "page_content='Upon termination of the $15 billion program, the Company began purchasing shares under a new four-year, $18 billion share\n",
      "repurchase program authorized by the Board of Directors in June 2022. As of May 31, 2023, the Company had repurchased 43.5\n",
      "million shares at an average price of $110.38 per share for a total approximate cost of $4.8 billion under the new program.\n",
      "Repurchases under the Company's new program will be made in open market or privately negotiated transactions in compliance\n",
      "with the Securities and Exchange Commission Rule 10b-18, subject to market conditions, applicable legal requirements and\n",
      "other relevant factors. The new share repurchase program does not obligate the Company to acquire any particular amount of\n",
      "common stock, and it may be suspended at any time at the Company's discretion.\n",
      "All share repurchases were made under NIKE's publicly announced program, and there are no other programs under which the\n",
      "Company repurchases shares. The following table presents a summary of share repurchases made during the quarter ended\n",
      "May 31, 2023:\n",
      "**TOTAL NUMBER OF**\n",
      "**PERIOD** **SHARES PURCHASED**\n",
      "**AVERAGE PRICE**\n",
      "**PAID PER SHARE**\n",
      "**APPROXIMATE DOLLAR**\n",
      "**VALUE OF SHARES THAT**\n",
      "**MAY YET BE PURCHASED**\n",
      "**UNDER THE PLANS**\n",
      "**OR PROGRAMS**\n",
      "**(IN MILLIONS)**\n",
      "**2023 FORM 10-K** 25' metadata={'page': 29, 'images': ['img_out/414759-1-_5_Nike-NPS-Combo_Form-10-K_WR.pdf-28-0.png']}\n"
     ]
    }
   ],
   "source": [
    "print(documents[143])"
   ]
  },
  {
   "cell_type": "code",
   "execution_count": 131,
   "id": "c315e32c",
   "metadata": {},
   "outputs": [
    {
     "name": "stderr",
     "output_type": "stream",
     "text": [
      "C:\\Users\\felip\\AppData\\Local\\Temp\\ipykernel_4440\\1088892888.py:14: DeprecationWarning: `recreate_collection` method is deprecated and will be removed in the future. Use `collection_exists` to check collection existence and `create_collection` instead.\n",
      "  client.recreate_collection(\n",
      "Encoding texts...: 100%|██████████| 1/1 [00:00<00:00,  3.72it/s]\n",
      "Encoding texts...: 100%|██████████| 1/1 [00:00<00:00,  9.20it/s]\n",
      "Encoding texts...: 100%|██████████| 1/1 [00:00<00:00, 11.49it/s]\n",
      "Encoding texts...: 100%|██████████| 1/1 [00:00<00:00, 12.51it/s]\n",
      "Encoding texts...: 100%|██████████| 1/1 [00:00<00:00, 12.72it/s]\n",
      "Encoding texts...: 100%|██████████| 1/1 [00:00<00:00, 11.72it/s]\n",
      "Encoding texts...: 100%|██████████| 1/1 [00:00<00:00, 12.98it/s]\n",
      "Encoding texts...: 100%|██████████| 1/1 [00:00<00:00, 12.58it/s]\n",
      "Encoding texts...: 100%|██████████| 1/1 [00:00<00:00, 10.49it/s]\n",
      "Encoding texts...: 100%|██████████| 1/1 [00:00<00:00, 12.22it/s]\n",
      "Encoding texts...: 100%|██████████| 1/1 [00:00<00:00, 13.52it/s]\n",
      "Encoding texts...: 100%|██████████| 1/1 [00:00<00:00, 13.48it/s]\n",
      "Encoding texts...: 100%|██████████| 1/1 [00:00<00:00, 12.86it/s]\n",
      "Encoding texts...: 100%|██████████| 1/1 [00:00<00:00, 12.28it/s]\n",
      "Encoding texts...: 100%|██████████| 1/1 [00:00<00:00, 12.44it/s]\n",
      "Encoding texts...: 100%|██████████| 1/1 [00:00<00:00, 14.28it/s]\n",
      "Encoding texts...: 100%|██████████| 1/1 [00:00<00:00, 12.89it/s]\n",
      "Encoding texts...: 100%|██████████| 1/1 [00:00<00:00, 12.64it/s]\n",
      "Encoding texts...: 100%|██████████| 1/1 [00:00<00:00, 11.19it/s]\n",
      "Encoding texts...: 100%|██████████| 1/1 [00:00<00:00, 12.18it/s]\n",
      "Encoding texts...: 100%|██████████| 1/1 [00:00<00:00, 14.47it/s]\n",
      "Encoding texts...: 100%|██████████| 1/1 [00:00<00:00, 14.66it/s]\n",
      "Encoding texts...: 100%|██████████| 1/1 [00:00<00:00, 14.74it/s]\n",
      "Encoding texts...: 100%|██████████| 1/1 [00:00<00:00, 14.02it/s]\n",
      "Encoding texts...: 100%|██████████| 1/1 [00:00<00:00,  8.94it/s]\n",
      "Encoding texts...: 100%|██████████| 1/1 [00:00<00:00, 14.35it/s]\n",
      "Encoding texts...: 100%|██████████| 1/1 [00:00<00:00, 14.16it/s]\n",
      "Encoding texts...: 100%|██████████| 1/1 [00:00<00:00, 13.86it/s]\n",
      "Encoding texts...: 100%|██████████| 1/1 [00:00<00:00, 13.66it/s]\n",
      "Encoding texts...: 100%|██████████| 1/1 [00:00<00:00, 13.69it/s]\n",
      "Encoding texts...: 100%|██████████| 1/1 [00:00<00:00, 11.63it/s]\n",
      "Encoding texts...: 100%|██████████| 1/1 [00:00<00:00, 11.96it/s]\n",
      "Encoding texts...: 100%|██████████| 1/1 [00:00<00:00, 13.18it/s]\n",
      "Encoding texts...: 100%|██████████| 1/1 [00:00<00:00, 13.87it/s]\n",
      "Encoding texts...: 100%|██████████| 1/1 [00:00<00:00, 13.48it/s]\n",
      "Encoding texts...: 100%|██████████| 1/1 [00:00<00:00, 13.51it/s]\n",
      "Encoding texts...: 100%|██████████| 1/1 [00:00<00:00, 11.85it/s]\n",
      "Encoding texts...: 100%|██████████| 1/1 [00:00<00:00, 11.46it/s]\n",
      "Encoding texts...: 100%|██████████| 1/1 [00:00<00:00, 12.11it/s]\n",
      "Encoding texts...: 100%|██████████| 1/1 [00:00<00:00, 11.79it/s]\n",
      "Encoding texts...: 100%|██████████| 1/1 [00:00<00:00, 13.80it/s]\n",
      "Encoding texts...: 100%|██████████| 1/1 [00:00<00:00, 12.84it/s]\n",
      "Encoding texts...: 100%|██████████| 1/1 [00:00<00:00, 13.05it/s]\n",
      "Encoding texts...: 100%|██████████| 1/1 [00:00<00:00, 13.12it/s]\n",
      "Encoding texts...: 100%|██████████| 1/1 [00:00<00:00, 13.51it/s]\n",
      "Encoding texts...: 100%|██████████| 1/1 [00:00<00:00, 12.90it/s]\n",
      "Encoding texts...: 100%|██████████| 1/1 [00:00<00:00, 12.49it/s]\n",
      "Encoding texts...: 100%|██████████| 1/1 [00:00<00:00, 12.12it/s]\n",
      "Encoding texts...: 100%|██████████| 1/1 [00:00<00:00, 12.66it/s]\n",
      "Encoding texts...: 100%|██████████| 1/1 [00:00<00:00, 10.75it/s]\n",
      "Encoding texts...: 100%|██████████| 1/1 [00:00<00:00, 13.78it/s]\n",
      "Encoding texts...: 100%|██████████| 1/1 [00:00<00:00, 12.70it/s]\n",
      "Encoding texts...: 100%|██████████| 1/1 [00:00<00:00, 12.49it/s]\n",
      "Encoding texts...: 100%|██████████| 1/1 [00:00<00:00, 12.08it/s]\n",
      "Encoding texts...: 100%|██████████| 1/1 [00:00<00:00, 12.84it/s]\n",
      "Encoding texts...: 100%|██████████| 1/1 [00:00<00:00, 13.17it/s]\n",
      "Encoding texts...: 100%|██████████| 1/1 [00:00<00:00, 13.55it/s]\n",
      "Encoding texts...: 100%|██████████| 1/1 [00:00<00:00, 13.73it/s]\n",
      "Encoding texts...: 100%|██████████| 1/1 [00:00<00:00, 13.70it/s]\n",
      "Encoding texts...: 100%|██████████| 1/1 [00:00<00:00, 12.64it/s]\n",
      "Encoding texts...: 100%|██████████| 1/1 [00:00<00:00, 11.44it/s]\n",
      "Encoding texts...: 100%|██████████| 1/1 [00:00<00:00, 12.38it/s]\n",
      "Encoding texts...: 100%|██████████| 1/1 [00:00<00:00, 11.66it/s]\n",
      "Encoding texts...: 100%|██████████| 1/1 [00:00<00:00, 13.81it/s]\n",
      "Encoding texts...: 100%|██████████| 1/1 [00:00<00:00, 11.68it/s]\n",
      "Encoding texts...: 100%|██████████| 1/1 [00:00<00:00, 13.55it/s]\n",
      "Encoding texts...: 100%|██████████| 1/1 [00:00<00:00, 11.28it/s]\n",
      "Encoding texts...: 100%|██████████| 1/1 [00:00<00:00, 12.60it/s]\n",
      "Encoding texts...: 100%|██████████| 1/1 [00:00<00:00, 13.05it/s]\n",
      "Encoding texts...: 100%|██████████| 1/1 [00:00<00:00, 12.76it/s]\n",
      "Encoding texts...: 100%|██████████| 1/1 [00:00<00:00, 13.13it/s]\n",
      "Encoding texts...: 100%|██████████| 1/1 [00:00<00:00, 12.76it/s]\n",
      "Encoding texts...: 100%|██████████| 1/1 [00:00<00:00,  9.17it/s]\n",
      "Encoding texts...: 100%|██████████| 1/1 [00:00<00:00, 14.07it/s]\n",
      "Encoding texts...: 100%|██████████| 1/1 [00:00<00:00,  5.95it/s]\n",
      "Encoding texts...: 100%|██████████| 1/1 [00:00<00:00,  2.78it/s]\n",
      "Encoding texts...: 100%|██████████| 1/1 [00:00<00:00,  6.71it/s]\n",
      "Encoding texts...: 100%|██████████| 1/1 [00:00<00:00,  6.21it/s]\n",
      "Encoding texts...: 100%|██████████| 1/1 [00:00<00:00,  3.03it/s]\n",
      "Encoding texts...: 100%|██████████| 1/1 [00:00<00:00,  3.94it/s]\n",
      "Encoding texts...: 100%|██████████| 1/1 [00:00<00:00,  4.88it/s]\n",
      "Encoding texts...: 100%|██████████| 1/1 [00:00<00:00,  3.48it/s]\n",
      "Encoding texts...: 100%|██████████| 1/1 [00:00<00:00,  4.26it/s]\n",
      "Encoding texts...: 100%|██████████| 1/1 [00:00<00:00,  2.53it/s]\n",
      "Encoding texts...: 100%|██████████| 1/1 [00:00<00:00,  3.49it/s]\n",
      "Encoding texts...: 100%|██████████| 1/1 [00:00<00:00,  5.24it/s]\n",
      "Encoding texts...: 100%|██████████| 1/1 [00:00<00:00,  2.71it/s]\n",
      "Encoding texts...: 100%|██████████| 1/1 [00:00<00:00,  3.00it/s]\n",
      "Encoding texts...: 100%|██████████| 1/1 [00:00<00:00,  6.01it/s]\n",
      "Encoding texts...: 100%|██████████| 1/1 [00:00<00:00,  3.13it/s]\n",
      "Encoding texts...: 100%|██████████| 1/1 [00:00<00:00,  3.97it/s]\n",
      "Encoding texts...: 100%|██████████| 1/1 [00:00<00:00,  3.04it/s]\n",
      "Encoding texts...: 100%|██████████| 1/1 [00:00<00:00,  2.01it/s]\n",
      "Encoding texts...: 100%|██████████| 1/1 [00:00<00:00,  3.42it/s]\n",
      "Encoding texts...: 100%|██████████| 1/1 [00:00<00:00,  3.65it/s]\n",
      "Encoding texts...: 100%|██████████| 1/1 [00:00<00:00,  3.83it/s]\n",
      "Encoding texts...: 100%|██████████| 1/1 [00:00<00:00,  2.51it/s]\n",
      "Encoding texts...: 100%|██████████| 1/1 [00:00<00:00,  6.88it/s]\n",
      "Encoding texts...: 100%|██████████| 1/1 [00:00<00:00, 12.75it/s]\n",
      "Encoding texts...: 100%|██████████| 1/1 [00:00<00:00, 10.98it/s]\n",
      "Encoding texts...: 100%|██████████| 1/1 [00:00<00:00, 14.90it/s]\n",
      "Encoding texts...: 100%|██████████| 1/1 [00:00<00:00, 12.12it/s]\n",
      "Encoding texts...: 100%|██████████| 1/1 [00:00<00:00, 14.82it/s]\n",
      "Encoding texts...: 100%|██████████| 1/1 [00:00<00:00, 13.11it/s]\n",
      "Encoding texts...: 100%|██████████| 1/1 [00:00<00:00, 12.60it/s]\n",
      "Encoding texts...: 100%|██████████| 1/1 [00:00<00:00, 13.55it/s]\n",
      "Encoding texts...: 100%|██████████| 1/1 [00:00<00:00, 13.63it/s]\n",
      "Encoding texts...: 100%|██████████| 1/1 [00:00<00:00, 14.75it/s]\n",
      "Encoding texts...: 100%|██████████| 1/1 [00:00<00:00, 14.08it/s]\n",
      "Encoding texts...: 100%|██████████| 1/1 [00:00<00:00, 13.31it/s]\n",
      "Encoding texts...: 100%|██████████| 1/1 [00:00<00:00, 13.66it/s]\n",
      "Encoding texts...: 100%|██████████| 1/1 [00:00<00:00, 13.39it/s]\n",
      "Encoding texts...: 100%|██████████| 1/1 [00:00<00:00, 13.54it/s]\n",
      "Encoding texts...: 100%|██████████| 1/1 [00:00<00:00, 13.89it/s]\n",
      "Encoding texts...: 100%|██████████| 1/1 [00:00<00:00, 12.21it/s]\n",
      "Encoding texts...: 100%|██████████| 1/1 [00:00<00:00, 12.74it/s]\n",
      "Encoding texts...: 100%|██████████| 1/1 [00:00<00:00, 13.48it/s]\n",
      "Encoding texts...: 100%|██████████| 1/1 [00:00<00:00, 13.31it/s]\n",
      "Encoding texts...: 100%|██████████| 1/1 [00:00<00:00, 13.18it/s]\n",
      "Encoding texts...: 100%|██████████| 1/1 [00:00<00:00, 12.47it/s]\n",
      "Encoding texts...: 100%|██████████| 1/1 [00:00<00:00, 12.92it/s]\n",
      "Encoding texts...: 100%|██████████| 1/1 [00:00<00:00, 13.52it/s]\n",
      "Encoding texts...: 100%|██████████| 1/1 [00:00<00:00, 12.94it/s]\n",
      "Encoding texts...: 100%|██████████| 1/1 [00:00<00:00, 13.50it/s]\n",
      "Encoding texts...: 100%|██████████| 1/1 [00:00<00:00, 13.16it/s]\n",
      "Encoding texts...: 100%|██████████| 1/1 [00:00<00:00, 13.01it/s]\n",
      "Encoding texts...: 100%|██████████| 1/1 [00:00<00:00, 13.62it/s]\n",
      "Encoding texts...: 100%|██████████| 1/1 [00:00<00:00, 13.55it/s]\n",
      "Encoding texts...: 100%|██████████| 1/1 [00:00<00:00, 13.69it/s]\n",
      "Encoding texts...: 100%|██████████| 1/1 [00:00<00:00, 12.96it/s]\n",
      "Encoding texts...: 100%|██████████| 1/1 [00:00<00:00, 13.66it/s]\n",
      "Encoding texts...: 100%|██████████| 1/1 [00:00<00:00, 12.77it/s]\n",
      "Encoding texts...: 100%|██████████| 1/1 [00:00<00:00, 11.36it/s]\n",
      "Encoding texts...: 100%|██████████| 1/1 [00:00<00:00, 13.48it/s]\n",
      "Encoding texts...: 100%|██████████| 1/1 [00:00<00:00, 14.60it/s]\n",
      "Encoding texts...: 100%|██████████| 1/1 [00:00<00:00, 15.10it/s]\n",
      "Encoding texts...: 100%|██████████| 1/1 [00:00<00:00, 13.31it/s]\n",
      "Encoding texts...: 100%|██████████| 1/1 [00:00<00:00, 12.15it/s]\n",
      "Encoding texts...: 100%|██████████| 1/1 [00:00<00:00, 14.29it/s]\n",
      "Encoding texts...: 100%|██████████| 1/1 [00:00<00:00, 12.62it/s]\n",
      "Encoding texts...: 100%|██████████| 1/1 [00:00<00:00, 12.48it/s]\n",
      "Encoding texts...: 100%|██████████| 1/1 [00:00<00:00, 13.11it/s]\n",
      "Encoding texts...: 100%|██████████| 1/1 [00:00<00:00, 12.19it/s]\n",
      "Encoding texts...: 100%|██████████| 1/1 [00:00<00:00, 11.16it/s]\n",
      "Encoding texts...: 100%|██████████| 1/1 [00:00<00:00, 11.16it/s]\n",
      "Encoding texts...: 100%|██████████| 1/1 [00:00<00:00, 10.44it/s]\n",
      "Encoding texts...: 100%|██████████| 1/1 [00:00<00:00, 15.48it/s]\n",
      "Encoding texts...: 100%|██████████| 1/1 [00:00<00:00, 13.12it/s]\n",
      "Encoding texts...: 100%|██████████| 1/1 [00:00<00:00, 13.15it/s]\n",
      "Encoding texts...: 100%|██████████| 1/1 [00:00<00:00, 12.04it/s]\n",
      "Encoding texts...: 100%|██████████| 1/1 [00:00<00:00, 10.42it/s]\n",
      "Encoding texts...: 100%|██████████| 1/1 [00:00<00:00, 12.01it/s]\n",
      "Encoding texts...: 100%|██████████| 1/1 [00:00<00:00, 12.51it/s]\n",
      "Encoding texts...: 100%|██████████| 1/1 [00:00<00:00, 12.94it/s]\n",
      "Encoding texts...: 100%|██████████| 1/1 [00:00<00:00, 10.49it/s]\n",
      "Encoding texts...: 100%|██████████| 1/1 [00:00<00:00, 11.78it/s]\n",
      "Encoding texts...: 100%|██████████| 1/1 [00:00<00:00, 12.67it/s]\n",
      "Encoding texts...: 100%|██████████| 1/1 [00:00<00:00, 14.01it/s]\n",
      "Encoding texts...: 100%|██████████| 1/1 [00:00<00:00, 12.42it/s]\n",
      "Encoding texts...: 100%|██████████| 1/1 [00:00<00:00, 13.18it/s]\n",
      "Encoding texts...: 100%|██████████| 1/1 [00:00<00:00, 12.33it/s]\n",
      "Encoding texts...: 100%|██████████| 1/1 [00:00<00:00, 12.53it/s]\n",
      "Encoding texts...: 100%|██████████| 1/1 [00:00<00:00, 11.59it/s]\n",
      "Encoding texts...: 100%|██████████| 1/1 [00:00<00:00,  8.63it/s]\n",
      "Encoding texts...: 100%|██████████| 1/1 [00:00<00:00, 11.99it/s]\n",
      "Encoding texts...: 100%|██████████| 1/1 [00:00<00:00, 11.15it/s]\n",
      "Encoding texts...: 100%|██████████| 1/1 [00:00<00:00, 12.07it/s]\n",
      "Encoding texts...: 100%|██████████| 1/1 [00:00<00:00, 12.45it/s]\n",
      "Encoding texts...: 100%|██████████| 1/1 [00:00<00:00, 12.72it/s]\n",
      "Encoding texts...: 100%|██████████| 1/1 [00:00<00:00, 11.10it/s]\n",
      "Encoding texts...: 100%|██████████| 1/1 [00:00<00:00, 11.65it/s]\n",
      "Encoding texts...: 100%|██████████| 1/1 [00:00<00:00, 10.61it/s]\n",
      "Encoding texts...: 100%|██████████| 1/1 [00:00<00:00, 11.60it/s]\n",
      "Encoding texts...: 100%|██████████| 1/1 [00:00<00:00, 11.31it/s]\n",
      "Encoding texts...: 100%|██████████| 1/1 [00:00<00:00, 10.09it/s]\n",
      "Encoding texts...: 100%|██████████| 1/1 [00:00<00:00, 11.02it/s]\n",
      "Encoding texts...: 100%|██████████| 1/1 [00:00<00:00, 10.63it/s]\n",
      "Encoding texts...: 100%|██████████| 1/1 [00:00<00:00, 14.45it/s]\n",
      "Encoding texts...: 100%|██████████| 1/1 [00:00<00:00, 11.80it/s]\n",
      "Encoding texts...: 100%|██████████| 1/1 [00:00<00:00, 11.67it/s]\n",
      "Encoding texts...: 100%|██████████| 1/1 [00:00<00:00, 11.10it/s]\n",
      "Encoding texts...: 100%|██████████| 1/1 [00:00<00:00, 12.75it/s]\n",
      "Encoding texts...: 100%|██████████| 1/1 [00:00<00:00,  9.19it/s]\n",
      "Encoding texts...: 100%|██████████| 1/1 [00:00<00:00, 13.13it/s]\n",
      "Encoding texts...: 100%|██████████| 1/1 [00:00<00:00,  9.95it/s]\n",
      "Encoding texts...: 100%|██████████| 1/1 [00:00<00:00, 12.53it/s]\n",
      "Encoding texts...: 100%|██████████| 1/1 [00:00<00:00, 12.18it/s]\n",
      "Encoding texts...: 100%|██████████| 1/1 [00:00<00:00, 12.61it/s]\n",
      "Encoding texts...: 100%|██████████| 1/1 [00:00<00:00, 12.66it/s]\n",
      "Encoding texts...: 100%|██████████| 1/1 [00:00<00:00, 12.98it/s]\n",
      "Encoding texts...: 100%|██████████| 1/1 [00:00<00:00, 12.05it/s]\n",
      "Encoding texts...: 100%|██████████| 1/1 [00:00<00:00, 12.22it/s]\n",
      "Encoding texts...: 100%|██████████| 1/1 [00:00<00:00, 13.72it/s]\n",
      "Encoding texts...: 100%|██████████| 1/1 [00:00<00:00, 10.94it/s]\n",
      "Encoding texts...: 100%|██████████| 1/1 [00:00<00:00, 10.31it/s]\n",
      "Encoding texts...: 100%|██████████| 1/1 [00:00<00:00, 11.75it/s]\n",
      "Encoding texts...: 100%|██████████| 1/1 [00:00<00:00,  9.31it/s]\n",
      "Encoding texts...: 100%|██████████| 1/1 [00:00<00:00,  9.01it/s]\n",
      "Encoding texts...: 100%|██████████| 1/1 [00:00<00:00,  8.99it/s]\n",
      "Encoding texts...: 100%|██████████| 1/1 [00:00<00:00,  9.90it/s]\n",
      "Encoding texts...: 100%|██████████| 1/1 [00:00<00:00, 10.51it/s]\n",
      "Encoding texts...: 100%|██████████| 1/1 [00:00<00:00, 11.11it/s]\n",
      "Encoding texts...: 100%|██████████| 1/1 [00:00<00:00, 14.32it/s]\n",
      "Encoding texts...: 100%|██████████| 1/1 [00:00<00:00, 10.06it/s]\n",
      "Encoding texts...: 100%|██████████| 1/1 [00:00<00:00, 14.51it/s]\n",
      "Encoding texts...: 100%|██████████| 1/1 [00:00<00:00,  1.54it/s]\n",
      "Encoding texts...: 100%|██████████| 1/1 [00:00<00:00,  3.12it/s]\n",
      "Encoding texts...: 100%|██████████| 1/1 [00:00<00:00,  2.54it/s]\n",
      "Encoding texts...: 100%|██████████| 1/1 [00:00<00:00,  5.26it/s]\n",
      "Encoding texts...: 100%|██████████| 1/1 [00:00<00:00,  6.66it/s]\n",
      "Encoding texts...: 100%|██████████| 1/1 [00:00<00:00,  5.22it/s]\n",
      "Encoding texts...: 100%|██████████| 1/1 [00:00<00:00,  6.13it/s]\n",
      "Encoding texts...: 100%|██████████| 1/1 [00:00<00:00,  6.23it/s]\n",
      "Encoding texts...: 100%|██████████| 1/1 [00:00<00:00,  6.67it/s]\n",
      "Encoding texts...: 100%|██████████| 1/1 [00:00<00:00,  6.53it/s]\n",
      "Encoding texts...: 100%|██████████| 1/1 [00:00<00:00,  6.51it/s]\n",
      "Encoding texts...: 100%|██████████| 1/1 [00:00<00:00,  5.25it/s]\n",
      "Encoding texts...: 100%|██████████| 1/1 [00:00<00:00,  6.01it/s]\n",
      "Encoding texts...: 100%|██████████| 1/1 [00:00<00:00,  5.16it/s]\n",
      "Encoding texts...: 100%|██████████| 1/1 [00:00<00:00,  5.54it/s]\n",
      "Encoding texts...: 100%|██████████| 1/1 [00:00<00:00,  4.16it/s]\n",
      "Encoding texts...: 100%|██████████| 1/1 [00:00<00:00,  5.65it/s]\n",
      "Encoding texts...: 100%|██████████| 1/1 [00:00<00:00,  4.07it/s]\n",
      "Encoding texts...: 100%|██████████| 1/1 [00:00<00:00,  3.23it/s]\n",
      "Encoding texts...: 100%|██████████| 1/1 [00:00<00:00,  3.33it/s]\n",
      "Encoding texts...: 100%|██████████| 1/1 [00:00<00:00,  3.69it/s]\n",
      "Encoding texts...: 100%|██████████| 1/1 [00:00<00:00,  4.62it/s]\n",
      "Encoding texts...: 100%|██████████| 1/1 [00:00<00:00,  2.92it/s]\n",
      "Encoding texts...: 100%|██████████| 1/1 [00:00<00:00,  3.17it/s]\n",
      "Encoding texts...: 100%|██████████| 1/1 [00:00<00:00,  2.44it/s]\n",
      "Encoding texts...: 100%|██████████| 1/1 [00:00<00:00,  4.06it/s]\n",
      "Encoding texts...: 100%|██████████| 1/1 [00:00<00:00,  2.95it/s]\n",
      "Encoding texts...: 100%|██████████| 1/1 [00:00<00:00,  2.30it/s]\n",
      "Encoding texts...: 100%|██████████| 1/1 [00:00<00:00,  3.12it/s]\n",
      "Encoding texts...: 100%|██████████| 1/1 [00:00<00:00,  3.56it/s]\n",
      "Encoding texts...: 100%|██████████| 1/1 [00:00<00:00,  2.84it/s]\n",
      "Encoding texts...: 100%|██████████| 1/1 [00:00<00:00,  2.97it/s]\n",
      "Encoding texts...: 100%|██████████| 1/1 [00:00<00:00,  4.13it/s]\n",
      "Encoding texts...: 100%|██████████| 1/1 [00:00<00:00,  3.37it/s]\n",
      "Encoding texts...: 100%|██████████| 1/1 [00:00<00:00,  2.23it/s]\n",
      "Encoding texts...: 100%|██████████| 1/1 [00:00<00:00,  2.72it/s]\n",
      "Encoding texts...: 100%|██████████| 1/1 [00:00<00:00,  4.44it/s]\n",
      "Encoding texts...: 100%|██████████| 1/1 [00:00<00:00, 11.34it/s]\n",
      "Encoding texts...: 100%|██████████| 1/1 [00:00<00:00, 11.17it/s]\n",
      "Encoding texts...: 100%|██████████| 1/1 [00:00<00:00, 12.41it/s]\n",
      "Encoding texts...: 100%|██████████| 1/1 [00:00<00:00, 12.09it/s]\n",
      "Encoding texts...: 100%|██████████| 1/1 [00:00<00:00, 14.28it/s]\n",
      "Encoding texts...: 100%|██████████| 1/1 [00:00<00:00, 14.19it/s]\n",
      "Encoding texts...: 100%|██████████| 1/1 [00:00<00:00, 14.19it/s]\n",
      "Encoding texts...: 100%|██████████| 1/1 [00:00<00:00, 14.76it/s]\n",
      "Encoding texts...: 100%|██████████| 1/1 [00:00<00:00, 12.82it/s]\n",
      "Encoding texts...: 100%|██████████| 1/1 [00:00<00:00, 13.67it/s]\n",
      "Encoding texts...: 100%|██████████| 1/1 [00:00<00:00, 13.40it/s]\n",
      "Encoding texts...: 100%|██████████| 1/1 [00:00<00:00, 12.30it/s]\n",
      "Encoding texts...: 100%|██████████| 1/1 [00:00<00:00, 13.05it/s]\n",
      "Encoding texts...: 100%|██████████| 1/1 [00:00<00:00, 13.69it/s]\n",
      "Encoding texts...: 100%|██████████| 1/1 [00:00<00:00, 12.52it/s]\n",
      "Encoding texts...: 100%|██████████| 1/1 [00:00<00:00, 13.79it/s]\n",
      "Encoding texts...: 100%|██████████| 1/1 [00:00<00:00, 14.14it/s]\n",
      "Encoding texts...: 100%|██████████| 1/1 [00:00<00:00, 12.60it/s]\n",
      "Encoding texts...: 100%|██████████| 1/1 [00:00<00:00, 11.24it/s]\n",
      "Encoding texts...: 100%|██████████| 1/1 [00:00<00:00, 13.00it/s]\n",
      "Encoding texts...: 100%|██████████| 1/1 [00:00<00:00, 13.56it/s]\n",
      "Encoding texts...: 100%|██████████| 1/1 [00:00<00:00, 13.41it/s]\n",
      "Encoding texts...: 100%|██████████| 1/1 [00:00<00:00, 14.88it/s]\n",
      "Encoding texts...: 100%|██████████| 1/1 [00:00<00:00, 15.28it/s]\n",
      "Encoding texts...: 100%|██████████| 1/1 [00:00<00:00, 10.83it/s]\n",
      "Encoding texts...: 100%|██████████| 1/1 [00:00<00:00, 15.14it/s]\n",
      "Encoding texts...: 100%|██████████| 1/1 [00:00<00:00, 12.83it/s]\n",
      "Encoding texts...: 100%|██████████| 1/1 [00:00<00:00, 13.71it/s]\n",
      "Encoding texts...: 100%|██████████| 1/1 [00:00<00:00, 15.19it/s]\n",
      "Encoding texts...: 100%|██████████| 1/1 [00:00<00:00,  9.66it/s]\n",
      "Encoding texts...: 100%|██████████| 1/1 [00:00<00:00, 12.34it/s]\n",
      "Encoding texts...: 100%|██████████| 1/1 [00:00<00:00, 13.93it/s]\n",
      "Encoding texts...: 100%|██████████| 1/1 [00:00<00:00, 10.02it/s]\n",
      "Encoding texts...: 100%|██████████| 1/1 [00:00<00:00, 11.28it/s]\n",
      "Encoding texts...: 100%|██████████| 1/1 [00:00<00:00, 13.94it/s]\n",
      "Encoding texts...: 100%|██████████| 1/1 [00:00<00:00, 12.77it/s]\n",
      "Encoding texts...: 100%|██████████| 1/1 [00:00<00:00, 12.76it/s]\n",
      "Encoding texts...: 100%|██████████| 1/1 [00:00<00:00, 12.16it/s]\n",
      "Encoding texts...: 100%|██████████| 1/1 [00:00<00:00, 13.79it/s]\n",
      "Encoding texts...: 100%|██████████| 1/1 [00:00<00:00, 13.96it/s]\n",
      "Encoding texts...: 100%|██████████| 1/1 [00:00<00:00, 13.23it/s]\n",
      "Encoding texts...: 100%|██████████| 1/1 [00:00<00:00, 11.34it/s]\n",
      "Encoding texts...: 100%|██████████| 1/1 [00:00<00:00, 11.48it/s]\n",
      "Encoding texts...: 100%|██████████| 1/1 [00:00<00:00, 12.32it/s]\n",
      "Encoding texts...: 100%|██████████| 1/1 [00:00<00:00, 12.94it/s]\n",
      "Encoding texts...: 100%|██████████| 1/1 [00:00<00:00, 10.62it/s]\n",
      "Encoding texts...: 100%|██████████| 1/1 [00:00<00:00, 11.20it/s]\n",
      "Encoding texts...: 100%|██████████| 1/1 [00:00<00:00, 14.14it/s]\n",
      "Encoding texts...: 100%|██████████| 1/1 [00:00<00:00, 11.77it/s]\n",
      "Encoding texts...: 100%|██████████| 1/1 [00:00<00:00, 12.50it/s]\n",
      "Encoding texts...: 100%|██████████| 1/1 [00:00<00:00, 12.33it/s]\n",
      "Encoding texts...: 100%|██████████| 1/1 [00:00<00:00, 12.51it/s]\n",
      "Encoding texts...: 100%|██████████| 1/1 [00:00<00:00, 11.41it/s]\n",
      "Encoding texts...: 100%|██████████| 1/1 [00:00<00:00, 11.38it/s]\n",
      "Encoding texts...: 100%|██████████| 1/1 [00:00<00:00, 12.14it/s]\n",
      "Encoding texts...: 100%|██████████| 1/1 [00:00<00:00, 11.24it/s]\n",
      "Encoding texts...: 100%|██████████| 1/1 [00:00<00:00, 12.48it/s]\n",
      "Encoding texts...: 100%|██████████| 1/1 [00:00<00:00, 10.95it/s]\n",
      "Encoding texts...: 100%|██████████| 1/1 [00:00<00:00, 11.66it/s]\n",
      "Encoding texts...: 100%|██████████| 1/1 [00:00<00:00, 10.03it/s]\n",
      "Encoding texts...: 100%|██████████| 1/1 [00:00<00:00,  9.65it/s]\n",
      "Encoding texts...: 100%|██████████| 1/1 [00:00<00:00, 13.12it/s]\n",
      "Encoding texts...: 100%|██████████| 1/1 [00:00<00:00, 10.22it/s]\n",
      "Encoding texts...: 100%|██████████| 1/1 [00:00<00:00, 14.04it/s]\n",
      "Encoding texts...: 100%|██████████| 1/1 [00:00<00:00, 13.07it/s]\n",
      "Encoding texts...: 100%|██████████| 1/1 [00:00<00:00, 12.63it/s]\n",
      "Encoding texts...: 100%|██████████| 1/1 [00:00<00:00,  9.59it/s]\n",
      "Encoding texts...: 100%|██████████| 1/1 [00:00<00:00, 11.94it/s]\n",
      "Encoding texts...: 100%|██████████| 1/1 [00:00<00:00, 13.24it/s]\n",
      "Encoding texts...: 100%|██████████| 1/1 [00:00<00:00,  7.51it/s]\n",
      "Encoding texts...: 100%|██████████| 1/1 [00:00<00:00, 11.56it/s]\n",
      "Encoding texts...: 100%|██████████| 1/1 [00:00<00:00,  7.18it/s]\n",
      "Encoding texts...: 100%|██████████| 1/1 [00:00<00:00, 11.01it/s]\n",
      "Encoding texts...: 100%|██████████| 1/1 [00:00<00:00, 11.50it/s]\n",
      "Encoding texts...: 100%|██████████| 1/1 [00:00<00:00, 13.59it/s]\n",
      "Encoding texts...: 100%|██████████| 1/1 [00:00<00:00, 13.78it/s]\n",
      "Encoding texts...: 100%|██████████| 1/1 [00:00<00:00, 13.52it/s]\n",
      "Encoding texts...: 100%|██████████| 1/1 [00:00<00:00, 12.98it/s]\n",
      "Encoding texts...: 100%|██████████| 1/1 [00:00<00:00, 12.42it/s]\n",
      "Encoding texts...: 100%|██████████| 1/1 [00:00<00:00, 13.86it/s]\n",
      "Encoding texts...: 100%|██████████| 1/1 [00:00<00:00, 13.52it/s]\n",
      "Encoding texts...: 100%|██████████| 1/1 [00:00<00:00, 11.13it/s]\n",
      "Encoding texts...: 100%|██████████| 1/1 [00:00<00:00, 11.59it/s]\n",
      "Encoding texts...: 100%|██████████| 1/1 [00:00<00:00, 12.41it/s]\n",
      "Encoding texts...: 100%|██████████| 1/1 [00:00<00:00, 12.66it/s]\n",
      "Encoding texts...: 100%|██████████| 1/1 [00:00<00:00, 14.16it/s]\n",
      "Encoding texts...: 100%|██████████| 1/1 [00:00<00:00, 14.24it/s]\n",
      "Encoding texts...: 100%|██████████| 1/1 [00:00<00:00, 13.55it/s]\n",
      "Encoding texts...: 100%|██████████| 1/1 [00:00<00:00, 11.56it/s]\n",
      "Encoding texts...: 100%|██████████| 1/1 [00:00<00:00, 12.60it/s]\n",
      "Encoding texts...: 100%|██████████| 1/1 [00:00<00:00, 13.69it/s]\n",
      "Encoding texts...: 100%|██████████| 1/1 [00:00<00:00, 12.16it/s]\n",
      "Encoding texts...: 100%|██████████| 1/1 [00:00<00:00, 12.86it/s]\n",
      "Encoding texts...: 100%|██████████| 1/1 [00:00<00:00, 10.55it/s]\n",
      "Encoding texts...: 100%|██████████| 1/1 [00:00<00:00,  6.07it/s]\n",
      "Encoding texts...: 100%|██████████| 1/1 [00:00<00:00, 11.33it/s]\n",
      "Encoding texts...: 100%|██████████| 1/1 [00:00<00:00,  7.41it/s]\n",
      "Encoding texts...: 100%|██████████| 1/1 [00:00<00:00,  7.08it/s]\n",
      "Encoding texts...: 100%|██████████| 1/1 [00:00<00:00, 12.84it/s]\n",
      "Encoding texts...: 100%|██████████| 1/1 [00:00<00:00, 15.31it/s]\n",
      "Encoding texts...: 100%|██████████| 1/1 [00:00<00:00,  8.00it/s]\n",
      "Encoding texts...: 100%|██████████| 1/1 [00:00<00:00,  7.17it/s]\n",
      "Encoding texts...: 100%|██████████| 1/1 [00:00<00:00, 10.59it/s]\n",
      "Encoding texts...: 100%|██████████| 1/1 [00:00<00:00,  7.57it/s]\n",
      "Encoding texts...: 100%|██████████| 1/1 [00:00<00:00,  7.42it/s]\n",
      "Encoding texts...: 100%|██████████| 1/1 [00:00<00:00,  7.47it/s]\n",
      "Encoding texts...: 100%|██████████| 1/1 [00:00<00:00,  8.72it/s]\n",
      "Encoding texts...: 100%|██████████| 1/1 [00:00<00:00,  7.15it/s]\n",
      "Encoding texts...: 100%|██████████| 1/1 [00:00<00:00, 11.49it/s]\n",
      "Encoding texts...: 100%|██████████| 1/1 [00:00<00:00, 12.37it/s]\n",
      "Encoding texts...: 100%|██████████| 1/1 [00:00<00:00, 13.21it/s]\n",
      "Encoding texts...: 100%|██████████| 1/1 [00:00<00:00, 13.82it/s]\n",
      "Encoding texts...: 100%|██████████| 1/1 [00:00<00:00, 12.56it/s]\n",
      "Encoding texts...: 100%|██████████| 1/1 [00:00<00:00,  7.82it/s]\n",
      "Encoding texts...: 100%|██████████| 1/1 [00:00<00:00, 12.95it/s]\n",
      "Encoding texts...: 100%|██████████| 1/1 [00:00<00:00, 11.87it/s]\n",
      "Encoding texts...: 100%|██████████| 1/1 [00:00<00:00, 12.17it/s]\n",
      "Encoding texts...: 100%|██████████| 1/1 [00:00<00:00, 14.54it/s]\n",
      "Encoding texts...: 100%|██████████| 1/1 [00:00<00:00, 10.44it/s]\n",
      "Encoding texts...: 100%|██████████| 1/1 [00:00<00:00, 10.96it/s]\n",
      "Encoding texts...: 100%|██████████| 1/1 [00:00<00:00,  8.60it/s]\n",
      "Encoding texts...: 100%|██████████| 1/1 [00:00<00:00, 13.63it/s]\n",
      "Encoding texts...: 100%|██████████| 1/1 [00:00<00:00, 15.18it/s]\n",
      "Encoding images...: 100%|██████████| 1/1 [00:00<00:00,  9.29it/s]\n",
      "Encoding images...: 100%|██████████| 1/1 [00:00<00:00,  9.09it/s]\n",
      "Encoding images...: 100%|██████████| 1/1 [00:00<00:00,  8.94it/s]\n",
      "Encoding images...: 100%|██████████| 1/1 [00:00<00:00,  8.42it/s]\n",
      "Encoding images...: 100%|██████████| 1/1 [00:00<00:00,  9.49it/s]\n",
      "Encoding images...: 100%|██████████| 1/1 [00:00<00:00,  9.12it/s]\n",
      "Encoding images...: 100%|██████████| 1/1 [00:00<00:00,  9.57it/s]\n",
      "Encoding images...: 100%|██████████| 1/1 [00:00<00:00,  7.30it/s]\n",
      "Encoding images...: 100%|██████████| 1/1 [00:00<00:00,  3.07it/s]\n",
      "Encoding images...: 100%|██████████| 1/1 [00:00<00:00,  7.93it/s]\n",
      "Encoding images...: 100%|██████████| 1/1 [00:00<00:00,  6.41it/s]\n",
      "Encoding images...: 100%|██████████| 1/1 [00:00<00:00,  6.10it/s]\n",
      "Encoding images...: 100%|██████████| 1/1 [00:00<00:00,  5.69it/s]\n",
      "Encoding images...: 100%|██████████| 1/1 [00:00<00:00,  3.15it/s]\n",
      "Encoding images...: 100%|██████████| 1/1 [00:00<00:00,  2.13it/s]\n",
      "Encoding images...: 100%|██████████| 1/1 [00:00<00:00,  8.85it/s]\n",
      "Encoding images...: 100%|██████████| 1/1 [00:00<00:00,  8.81it/s]\n",
      "Encoding images...: 100%|██████████| 1/1 [00:00<00:00,  8.79it/s]\n",
      "Encoding images...: 100%|██████████| 1/1 [00:00<00:00,  8.18it/s]\n",
      "Encoding images...: 100%|██████████| 1/1 [00:00<00:00,  7.80it/s]\n",
      "Encoding images...: 100%|██████████| 1/1 [00:00<00:00,  4.86it/s]\n",
      "Encoding images...: 100%|██████████| 1/1 [00:00<00:00,  3.47it/s]\n",
      "Encoding images...: 100%|██████████| 1/1 [00:00<00:00,  4.49it/s]\n",
      "Encoding images...: 100%|██████████| 1/1 [00:00<00:00,  4.49it/s]\n",
      "Encoding images...: 100%|██████████| 1/1 [00:00<00:00,  4.55it/s]\n",
      "Encoding images...: 100%|██████████| 1/1 [00:00<00:00,  4.43it/s]\n",
      "Encoding images...: 100%|██████████| 1/1 [00:00<00:00,  3.85it/s]\n",
      "Encoding images...: 100%|██████████| 1/1 [00:00<00:00,  2.40it/s]\n",
      "Encoding images...: 100%|██████████| 1/1 [00:00<00:00,  5.70it/s]\n",
      "Encoding images...: 100%|██████████| 1/1 [00:00<00:00,  2.24it/s]\n",
      "Encoding images...: 100%|██████████| 1/1 [00:00<00:00,  2.28it/s]\n",
      "Encoding images...: 100%|██████████| 1/1 [00:00<00:00,  4.38it/s]\n",
      "Encoding images...: 100%|██████████| 1/1 [00:00<00:00,  4.77it/s]\n",
      "Encoding images...: 100%|██████████| 1/1 [00:00<00:00,  5.76it/s]\n",
      "Encoding images...: 100%|██████████| 1/1 [00:00<00:00,  4.49it/s]\n",
      "Encoding images...: 100%|██████████| 1/1 [00:00<00:00,  3.54it/s]\n",
      "Encoding images...: 100%|██████████| 1/1 [00:00<00:00,  7.49it/s]\n",
      "Encoding images...: 100%|██████████| 1/1 [00:00<00:00,  3.96it/s]\n",
      "Encoding images...: 100%|██████████| 1/1 [00:00<00:00,  4.84it/s]\n",
      "Encoding images...: 100%|██████████| 1/1 [00:00<00:00,  2.15it/s]\n",
      "Encoding images...: 100%|██████████| 1/1 [00:00<00:00,  5.85it/s]\n",
      "Encoding images...: 100%|██████████| 1/1 [00:00<00:00,  7.74it/s]\n",
      "Encoding images...: 100%|██████████| 1/1 [00:00<00:00,  7.51it/s]\n",
      "Encoding images...: 100%|██████████| 1/1 [00:00<00:00,  8.10it/s]\n",
      "Encoding images...: 100%|██████████| 1/1 [00:00<00:00,  7.62it/s]\n",
      "Encoding images...: 100%|██████████| 1/1 [00:00<00:00,  5.80it/s]\n",
      "Encoding images...: 100%|██████████| 1/1 [00:00<00:00,  4.08it/s]\n",
      "Encoding images...: 100%|██████████| 1/1 [00:00<00:00,  3.92it/s]\n",
      "Encoding images...: 100%|██████████| 1/1 [00:00<00:00,  6.75it/s]\n",
      "Encoding images...: 100%|██████████| 1/1 [00:00<00:00,  4.11it/s]\n",
      "Encoding images...: 100%|██████████| 1/1 [00:00<00:00,  6.55it/s]\n",
      "Encoding images...: 100%|██████████| 1/1 [00:00<00:00,  2.56it/s]\n",
      "Encoding images...: 100%|██████████| 1/1 [00:00<00:00,  3.75it/s]\n",
      "Encoding images...: 100%|██████████| 1/1 [00:00<00:00,  2.01it/s]\n",
      "Encoding images...: 100%|██████████| 1/1 [00:00<00:00,  2.15it/s]\n",
      "Encoding images...: 100%|██████████| 1/1 [00:00<00:00,  4.67it/s]\n",
      "Encoding images...: 100%|██████████| 1/1 [00:00<00:00,  7.72it/s]\n"
     ]
    },
    {
     "name": "stdout",
     "output_type": "stream",
     "text": [
      "✅ Inseriti 437 multimodal points\n"
     ]
    }
   ],
   "source": [
    "# mettiamo gli embedding dei chubnks e delle immagini in qdrant\n",
    "from qdrant_client import QdrantClient\n",
    "from langchain_qdrant import QdrantVectorStore\n",
    "from qdrant_client.http.models import Distance, VectorParams\n",
    "\n",
    "jina_emb = JinaEmbeddings(model)\n",
    "\n",
    "# client for local storage\n",
    "client = QdrantClient(\n",
    "    url=\"http://host.docker.internal:6333\",  # Assicurati che l'URL sia corretto\n",
    "    prefer_grpc=False,  # Usa HTTP invece di gRPC\n",
    ")\n",
    "\n",
    "client.recreate_collection(\n",
    "    collection_name=\"pdf_multimodal\",\n",
    "    vectors_config={\n",
    "        \"text_vector\": VectorParams(size=2048, distance=Distance.COSINE),\n",
    "        \"image_vector\": VectorParams(size=2048, distance=Distance.COSINE),\n",
    "    },\n",
    ")\n",
    "\n",
    "\n",
    "# facciamo gli embeddings\n",
    "from PIL import Image\n",
    "from qdrant_client.models import PointStruct # rappresenta un singolo punto nel database vettoriale\n",
    "\n",
    "point_id = 0\n",
    "\n",
    "text_points = []\n",
    "for chunk in chunks:\n",
    "    text_emb = jina_emb.embed_documents([chunk[\"text\"]])[0]\n",
    "    if chunk[\"metadata\"][\"images\"]:\n",
    "        for img_path in chunk[\"metadata\"][\"images\"]:\n",
    "\n",
    "            text_points.append(PointStruct(\n",
    "                id=point_id,\n",
    "                vector={\n",
    "                    \"text_vector\": text_emb,\n",
    "                },\n",
    "                payload={\n",
    "                    \"page\": chunk[\"metadata\"][\"page\"],\n",
    "                    \"text_preview\": chunk[\"text\"][:200],\n",
    "                    \"image_path\": image_path\n",
    "                }\n",
    "            ))\n",
    "            point_id += 1\n",
    "    else:\n",
    "        text_points.append(PointStruct(\n",
    "            id=point_id,\n",
    "            vector={\n",
    "                \"text_vector\": text_emb,\n",
    "                # Nessuna immagine associata\n",
    "            },\n",
    "            payload={\n",
    "                \"page\": chunk[\"metadata\"][\"page\"],\n",
    "                \"text_preview\": chunk[\"text\"][:200],\n",
    "                \"image_path\": None\n",
    "            }\n",
    "        ))\n",
    "        point_id += 1\n",
    "\n",
    "import os\n",
    "image_points = []\n",
    "\n",
    "for img_path in sorted(os.listdir(\"img_out\")):\n",
    "    full_path = os.path.join(\"img_out\", img_path)\n",
    "    img_emb = jina_emb.embed_images([full_path])[0]  # solo immagini\n",
    "    image_points.append(PointStruct(\n",
    "        id=point_id,\n",
    "        vector={\"image_vector\": img_emb},\n",
    "        payload={\"image_path\": full_path}\n",
    "    ))\n",
    "    point_id += 1\n",
    "\n",
    "all_points = text_points + image_points\n",
    "\n",
    "client.upsert(collection_name=\"pdf_multimodal\", points=all_points)\n",
    "print(f\"✅ Inseriti {len(all_points)} multimodal points\")"
   ]
  },
  {
   "cell_type": "code",
   "execution_count": 135,
   "id": "c492975c",
   "metadata": {},
   "outputs": [
    {
     "name": "stderr",
     "output_type": "stream",
     "text": [
      "Encoding texts...: 100%|██████████| 1/1 [00:00<00:00,  2.70it/s]"
     ]
    },
    {
     "name": "stdout",
     "output_type": "stream",
     "text": [
      "Page: 12,\n",
      "Text: #### **INFORMATION ABOUT OUR EXECUTIVE OFFICERS**\n",
      "The executive officers of NIKE, Inc. as of July 20, 2023, are as follows:\n",
      "_**Mark G. Parker**_, Executive Chairman — Mr. Parker, 67, is Executive Chai,\n",
      "Image: None,\n",
      "Similarity: 0.8226571\n",
      "\n",
      "\n",
      "Page: 12,\n",
      "Text: _**Matthew Friend**_, Executive Vice President and Chief Financial Officer — Mr. Friend, 45, joined NIKE in\n",
      "2009 and leads the Company's finance, demand & supply management, procurement and global pla,\n",
      "Image: None,\n",
      "Similarity: 0.7472864\n",
      "\n",
      "\n",
      "Page: 12,\n",
      "Text: _**Ann M. Miller**_, Executive Vice President, Chief Legal Officer — Ms. Miller, 49, joined NIKE in 2007 and\n",
      "serves as EVP, Chief Legal Officer for NIKE, Inc. In her capacity as Chief Legal Officer, s,\n",
      "Image: None,\n",
      "Similarity: 0.7471847\n",
      "\n",
      "\n",
      "Page: 103,\n",
      "Text: ### **SIGNATURES**\n",
      "Pursuant to the requirements of Section 13 or 15(d) of the Securities Exchange Act of 1934, the registrant has duly caused this\n",
      "report to be signed on its behalf by the undersigned,,\n",
      "Image: None,\n",
      "Similarity: 0.7272428\n",
      "\n",
      "\n",
      "Page: 104,\n",
      "Text: _President & Chief Executive Officer_\n",
      "LAIKA, LLC\n",
      "Hillsboro, Oregon\n",
      "**Mark Parker** **[(1)]**\n",
      "_Executive Chairman_\n",
      "NIKE, Inc.\n",
      "Beaverton, Oregon\n",
      "**Michelle Peluso** **[(4)]**\n",
      "_Executive Vice President &,\n",
      "Image: None,\n",
      "Similarity: 0.7202359\n",
      "\n",
      "\n"
     ]
    },
    {
     "name": "stderr",
     "output_type": "stream",
     "text": [
      "\n"
     ]
    }
   ],
   "source": [
    "q_t = jina_emb.embed_query(\"Chi sono gli executive officers di Nike?\")\n",
    "\n",
    "response = client.query_points(\n",
    "    collection_name=\"pdf_multimodal\",\n",
    "    query=q_t,\n",
    "    using=\"text_vector\",\n",
    "    limit=5,\n",
    "    with_payload=True\n",
    ")\n",
    "\n",
    "\n",
    "for point in response.points:\n",
    "    print(f\"Page: {point.payload['page']},\\nText: {point.payload['text_preview']},\\nImage: {point.payload['image_path']},\\nSimilarity: {point.score}\\n\\n\")\n",
    "\n"
   ]
  },
  {
   "cell_type": "code",
   "execution_count": 136,
   "id": "5051c733",
   "metadata": {},
   "outputs": [
    {
     "name": "stderr",
     "output_type": "stream",
     "text": [
      "Encoding images...: 100%|██████████| 1/1 [00:00<00:00,  1.62it/s]"
     ]
    },
    {
     "name": "stdout",
     "output_type": "stream",
     "text": [
      "Image: img_out\\414759-1-_5_Nike-NPS-Combo_Form-10-K_WR.pdf-34-0.png,\n",
      "Similarity: 1.0\n",
      "\n",
      "\n",
      "Image: img_out\\414759-1-_5_Nike-NPS-Combo_Form-10-K_WR.pdf-58-0.png,\n",
      "Similarity: 0.9202932\n",
      "\n",
      "\n",
      "Image: img_out\\414759-1-_5_Nike-NPS-Combo_Form-10-K_WR.pdf-81-2.png,\n",
      "Similarity: 0.8883697\n",
      "\n",
      "\n",
      "Image: img_out\\414759-1-_5_Nike-NPS-Combo_Form-10-K_WR.pdf-37-1.png,\n",
      "Similarity: 0.83831716\n",
      "\n",
      "\n",
      "Image: img_out\\414759-1-_5_Nike-NPS-Combo_Form-10-K_WR.pdf-32-0.png,\n",
      "Similarity: 0.7903754\n",
      "\n",
      "\n"
     ]
    },
    {
     "name": "stderr",
     "output_type": "stream",
     "text": [
      "\n"
     ]
    }
   ],
   "source": [
    "q_i = jina_emb.embed_images([\"./img_out/414759-1-_5_Nike-NPS-Combo_Form-10-K_WR.pdf-34-0.png\"])[0]\n",
    "\n",
    "response = client.query_points(\n",
    "    collection_name=\"pdf_multimodal\",\n",
    "    query=q_i,\n",
    "    using=\"image_vector\",\n",
    "    limit=5,\n",
    "    with_payload=True\n",
    ")\n",
    "\n",
    "for point in response.points:\n",
    "    print(f\"Image: {point.payload['image_path']},\\nSimilarity: {point.score}\\n\\n\")\n"
   ]
  }
 ],
 "metadata": {
  "kernelspec": {
   "display_name": "jina-embeddings",
   "language": "python",
   "name": "python3"
  },
  "language_info": {
   "codemirror_mode": {
    "name": "ipython",
    "version": 3
   },
   "file_extension": ".py",
   "mimetype": "text/x-python",
   "name": "python",
   "nbconvert_exporter": "python",
   "pygments_lexer": "ipython3",
   "version": "3.10.0"
  }
 },
 "nbformat": 4,
 "nbformat_minor": 5
}
